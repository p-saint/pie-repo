{
 "cells": [
  {
   "cell_type": "code",
   "execution_count": null,
   "metadata": {},
   "outputs": [],
   "source": [
    "import os\n",
    "import json\n",
    "import math\n",
    "import rasterio\n",
    "from rasterio.plot import reshape_as_image\n",
    "import rasterio.mask\n",
    "from rasterio.features import rasterize\n",
    "import matplotlib\n",
    "import matplotlib.pyplot as plt\n",
    "import cv2\n",
    "import pandas as pd\n",
    "import geopandas as gpd\n",
    "from shapely.geometry import mapping, Point, Polygon\n",
    "from shapely.ops import cascaded_union\n",
    "import numpy as np\n",
    "import PIL\n",
    "import matplotlib.pyplot as plt\n"
   ]
  },
  {
   "cell_type": "markdown",
   "metadata": {},
   "source": [
    "# Création d'un masque à partir du GeoJson et d'une liste de features\n",
    "\n",
    "- Cette version traite une image à la fois. \n",
    "**V2 possible: prendre en entrée un fichier texte contenant les noms des cartes à traiter**\n",
    "- On considère une liste donnée de feattypes donnée plus bas\n",
    "- Le masque en sortie est un png de la même taille que le GeoTIFF en entrée, codé sur un canal 8 bits\n",
    "- Si un pixel appartient à au moins deux objets, il prend la valeur de pixel somme \n",
    "**V2 possible: donner une règle de priorité entre les types d'objet: qui passe devant qui ? ex runway marking devant runwayelement.**\n"
   ]
  },
  {
   "cell_type": "code",
   "execution_count": null,
   "metadata": {},
   "outputs": [],
   "source": [
    "# A MODIFIER AVEC LES BONS CHEMINS POUR RUN LE CODE SUR VOTRE MACHINE\n",
    "\n",
    "path_GeoTIFF = \"/Users/salimbaddou/PIE/Airport_Feature_Auto_Detection/GeoTIFF/\"\n",
    "path_GeoJson = \"/Users/salimbaddou/PIE/Airport_Feature_Auto_Detection/GeoJson/\"\n",
    "\n",
    "#image considérée\n",
    "name_map = \"VHHH\"\n",
    "\n",
    "#chemin de sortie pour le masque png\n",
    "outfolder = \"/Users/salimbaddou/PIE\"  \n",
    "os.makedirs(outfolder, exist_ok=True)"
   ]
  },
  {
   "cell_type": "code",
   "execution_count": null,
   "metadata": {},
   "outputs": [],
   "source": [
    "# Liste des features d'intérêt et color mapping (1 canal nuances de gris de 1 à 255, 0 est background)\n",
    "color_mapping = {\n",
    "    'Apron.apronelement': 50,\n",
    "    'Runway.runwayelement': 100,\n",
    "    'ServiceRoad.serviceroad': 150,\n",
    "}\n",
    "features_list = ['Apron.apronelement','Runway.runwayelement','ServiceRoad.serviceroad']"
   ]
  },
  {
   "cell_type": "code",
   "execution_count": null,
   "metadata": {},
   "outputs": [],
   "source": [
    "# Fonctions de création de masques par lecture du GeoJson\n",
    "# TO DO: V2 qui gère la superposition d'objets. Idée: un petit objet inclut dans un autre doit avoir priorité sur l'affichage \n",
    "\n",
    "def poly_from_utm(polygon, transform):\n",
    "    poly_pts = []\n",
    "    \n",
    "    # make a polygon from multipolygon\n",
    "    poly = cascaded_union(polygon)\n",
    "    for i in np.array(poly.exterior.coords):\n",
    "        \n",
    "        # transfrom polygon to image crs, using raster meta\n",
    "        poly_pts.append(~transform * tuple(i))\n",
    "        \n",
    "    # make a shapely Polygon object\n",
    "    new_poly = Polygon(poly_pts)\n",
    "    return new_poly\n",
    "\n",
    "# creating binary mask for field/not_filed segmentation.\n",
    "def create_mask(features_list,src,df):\n",
    "    nb_class=len(features_list)\n",
    "    im_size = (src.meta['height'], src.meta['width'])\n",
    "    whole_mask = np.zeros([src.meta['height'],src.meta['width']])\n",
    "\n",
    "    for i,f in enumerate(features_list):\n",
    "        poly_shp = []\n",
    "        data_geom = df[df['feattype'] == {'value': f}].geometry\n",
    "        for g in data_geom.values:\n",
    "\n",
    "            poly = poly_from_utm(g, src.meta['transform'])\n",
    "            poly_shp.append(poly)\n",
    "\n",
    "            if g.geom_type == 'Polygon':\n",
    "                poly = poly_from_utm(g, src.meta['transform'])\n",
    "                poly_shp.append(poly)\n",
    "            else:\n",
    "                for p in g:\n",
    "                    poly = poly_from_utm(p, src.meta['transform'])\n",
    "                    poly_shp.append(poly)\n",
    "        if poly_shp:\n",
    "            mask = rasterize(shapes=poly_shp,out_shape=im_size)*color_mapping[f]\n",
    "            #print(mask.shape)\n",
    "            whole_mask = whole_mask + mask\n",
    "           \n",
    "    return whole_mask\n",
    "\n",
    "def create_mask_multi_channel(features_list,src,df):\n",
    "    nb_class=len(features_list)\n",
    "    im_size = (src.meta['height'], src.meta['width'])\n",
    "    whole_mask = np.zeros([src.meta['height'],src.meta['width'],nb_class])\n",
    "\n",
    "    for i,f in enumerate(features_list):\n",
    "        poly_shp = []\n",
    "        data_geom = df[df['feattype'] == {'value': f}].geometry\n",
    "        for g in data_geom.values:\n",
    "\n",
    "            poly = poly_from_utm(g, src.meta['transform'])\n",
    "            poly_shp.append(poly)\n",
    "\n",
    "            if g.geom_type == 'Polygon':\n",
    "                poly = poly_from_utm(g, src.meta['transform'])\n",
    "                poly_shp.append(poly)\n",
    "            else:\n",
    "                for p in g:\n",
    "                    poly = poly_from_utm(p, src.meta['transform'])\n",
    "                    poly_shp.append(poly)\n",
    "        if poly_shp:\n",
    "            mask = rasterize(shapes=poly_shp,out_shape=im_size)*color_mapping[f]\n",
    "            #print(mask.shape)\n",
    "            whole_mask[:,:,i] = mask\n",
    "           \n",
    "    return whole_mask\n"
   ]
  },
  {
   "cell_type": "code",
   "execution_count": null,
   "metadata": {},
   "outputs": [],
   "source": [
    "img_name = name_map+\"_ortho.tif\"\n",
    "directory = os.fsencode(path_GeoTIFF)\n",
    "\n",
    "for file in os.listdir(directory):\n",
    "    \n",
    "    filename = os.fsdecode(file)\n",
    "    if filename==img_name:\n",
    "        with rasterio.open(path_GeoTIFF+\"{}\".format(filename)) as src:\n",
    "            img = src.read()\n",
    "            meta = src.meta\n",
    "            filepath = path_GeoJson+\"product_ADBLucem_\"+name_map+\".json\"\n",
    "            df = polygon_df(filepath)\n",
    "            \n",
    "            whole_mask = create_mask_multi_channel(features_list,src,df)\n",
    "            \n",
    "        \n",
    "            \n",
    "            print(whole_mask.shape)\n",
    "            \n",
    "#             #Rescale to 0-255 and convert to uint8\n",
    "#             rescaled = (255.0 / data.max() * (data - data.min())).astype(np.uint8)\n",
    "\n",
    "            # Save numpy array into png mask 1 channel\n",
    "            cv2.imwrite(outfolder + '/masktest4_{}.png'.format(img_name.split('_')[0]),whole_mask)\n"
   ]
  },
  {
   "cell_type": "code",
   "execution_count": null,
   "metadata": {},
   "outputs": [],
   "source": [
    "def crop_img_mask(filename):\n",
    "    name = \"LIRP\" + str(np.random.randint(1,5000))\n",
    "    print(name)\n",
    "    with rasterio.open(\"/Users/salimbaddou/PIE/Airport_Feature_Auto_Detection/GeoTIFF/{}_ortho.tif\".format(filename)) as src:\n",
    "        img = src.read()\n",
    "    _,xs,ys = img.shape\n",
    "    i = np.random.randint(1,100)\n",
    "    i = i*10\n",
    "    \n",
    "    im_size = 512\n",
    "    cut = np.random.randint(1,im_size - 30)\n",
    "    \n",
    "    \n",
    "    \n",
    "    #img = reshape_as_image(img):,i:i+im_size,j:j+im_size])\n",
    "    img = reshape_as_image(img)\n",
    "    img = img[4000 - i :5000- i,1000 + i:2001+ i]\n",
    "    \n",
    "    img = img[cut:cut+im_size,cut:cut+im_size]\n",
    "    #print(img.shape)\n",
    "    plt.imshow(img)\n",
    "    \n",
    "    \n",
    "    matplotlib.image.imsave('/Users/salimbaddou/PIE/data2/imgs/{}.png'.format(name), img)\n",
    "    \n",
    "    \n",
    "    with rasterio.open(\"/Users/salimbaddou/PIE/masktest_{}.png\".format(filename)) as src:\n",
    "        img = src.read()\n",
    "        \n",
    "    #print(img.shape)\n",
    "        \n",
    "    img = img[0,4000 - i :5000- i,1000 + i:2001+ i]\n",
    "    img = img[cut:cut+im_size,cut:cut+im_size]\n",
    "    #img =img[0,i:i+im_size,j:j+im_size]\n",
    "    #img = img[0,i:i+500,i:i+500]\n",
    "    print(img.shape)\n",
    "    plt.imshow(img)\n",
    "    \n",
    "    cv2.imwrite('/Users/salimbaddou/PIE/data2/masks/{}.png'.format(name), img)\n",
    "    \n",
    "    \n",
    "    "
   ]
  },
  {
   "cell_type": "code",
   "execution_count": null,
   "metadata": {},
   "outputs": [],
   "source": [
    "for i in range(90):\n",
    "    crop_img_mask(\"LIRP\")"
   ]
  },
  {
   "cell_type": "code",
   "execution_count": null,
   "metadata": {},
   "outputs": [],
   "source": [
    "#crop loi normale"
   ]
  },
  {
   "cell_type": "code",
   "execution_count": null,
   "metadata": {},
   "outputs": [],
   "source": [
    "def crop_img_mask(filename):\n",
    "    name = \"VHHH\" + str(np.random.randint(1,10000))\n",
    "    print(name)\n",
    "    with rasterio.open(\"/Users/salimbaddou/PIE/Airport_Feature_Auto_Detection/GeoTIFF/{}_ortho.tif\".format(filename)) as src:\n",
    "        img = src.read()\n",
    "    _,xs,ys = img.shape\n",
    "    mean = (xs//2, ys//2)\n",
    "    cov = [[100*xs, 0], [0, 100*ys]]\n",
    "    x = np.random.multivariate_normal(mean, cov)\n",
    "    print(int(x[0]))\n",
    "    im_size = 512\n",
    "    \n",
    "    \n",
    "    img = reshape_as_image(img)\n",
    "    \n",
    "    \n",
    "    img = img[int(x[0]):int(x[0])+im_size,int(x[1]):int(x[1])+im_size]\n",
    "    #print(img.shape)\n",
    "    plt.imshow(img)\n",
    "    \n",
    "    \n",
    "    matplotlib.image.imsave('/Users/salimbaddou/PIE/data2/imgs/{}.png'.format(name), img)\n",
    "    \n",
    "    \n",
    "    with rasterio.open(\"/Users/salimbaddou/PIE/masktest3_{}.png\".format(filename)) as src:\n",
    "        img = src.read()\n",
    "        \n",
    "    \n",
    "    print(img.shape)\n",
    "    img = reshape_as_image(img)\n",
    "    print(img.shape)\n",
    "    img = img[int(x[0]):int(x[0])+im_size,int(x[1]):int(x[1])+im_size,0]\n",
    "    \n",
    "    print(img.shape)\n",
    "    plt.imshow(img)\n",
    "    \n",
    "    cv2.imwrite('/Users/salimbaddou/PIE/data2/masks/{}.png'.format(name), img)\n",
    "    \n",
    "    \n",
    "    "
   ]
  },
  {
   "cell_type": "code",
   "execution_count": null,
   "metadata": {},
   "outputs": [],
   "source": [
    "for i in range(90):\n",
    "    crop_img_mask(\"VHHH\")"
   ]
  },
  {
   "cell_type": "markdown",
   "metadata": {},
   "source": [
    "# OLD: exploration et manipulation d'un GeoJson"
   ]
  },
  {
   "cell_type": "markdown",
   "metadata": {},
   "source": [
    "### Open image with rasterio:"
   ]
  },
  {
   "cell_type": "code",
   "execution_count": null,
   "metadata": {},
   "outputs": [],
   "source": [
    "with rasterio.open(path_GeoTIFF+\"/\"+name_map+\"_ortho.tif\") as src:\n",
    "    img = src.read()\n",
    "    meta = src.meta\n",
    "\n",
    "img = reshape_as_image(img)\n",
    "\n"
   ]
  },
  {
   "cell_type": "markdown",
   "metadata": {},
   "source": [
    "### Read Geojson as  a dataframe:"
   ]
  },
  {
   "cell_type": "code",
   "execution_count": null,
   "metadata": {},
   "outputs": [],
   "source": [
    "def polygon_df(filepath):\n",
    "    df = gpd.read_file(filepath)\n",
    "    df = df.drop(columns=['originated', 'readonly',\n",
    "           'notvalidated', 'lock', 'elev', 'hacc', 'iata', 'name', 'idarpt',\n",
    "           'acft', 'idnumber', 'termref', 'pcn', 'restacft', 'status', 'surftype',\n",
    "           'length', 'width', 'color', 'direc', 'style', 'rwymktyp', 'asda',\n",
    "           'availPavedSurfFromThr', 'brngmag', 'brngtrue', 'cat', 'ellipse',\n",
    "           'geound', 'lda', 'rops_landing_length', 'rwyslope', 'tdze', 'tdzslope',\n",
    "           'thrtype', 'toda', 'tora', 'vasis', 'bridge', 'gsurftyp', 'runwayexit',\n",
    "           'imagery_date'])\n",
    "    \n",
    "    return df[df[\"geometry\"].geom_type == 'Polygon']"
   ]
  },
  {
   "cell_type": "markdown",
   "metadata": {},
   "source": [
    "#### Only polygon:"
   ]
  },
  {
   "cell_type": "code",
   "execution_count": null,
   "metadata": {},
   "outputs": [],
   "source": [
    "df = polygon_df(path_GeoJson+\"/product_ADBLucem_\"+name_map+\".json\")\n",
    "df.head()"
   ]
  },
  {
   "cell_type": "markdown",
   "metadata": {},
   "source": [
    "### Liste des features contenues dans le GeoJSON"
   ]
  },
  {
   "cell_type": "code",
   "execution_count": null,
   "metadata": {},
   "outputs": [],
   "source": [
    "features_list = []\n",
    "for e in df['feattype']:\n",
    "    if e['value'] not in features_list:\n",
    "        features_list.append(e['value'])\n",
    "\n",
    "print(features_list)"
   ]
  },
  {
   "cell_type": "code",
   "execution_count": null,
   "metadata": {},
   "outputs": [],
   "source": [
    "np.unique(np.array(PIL.Image.open(\"/Users/salimbaddou/PIE/masktest3_VHHH.png\")))"
   ]
  },
  {
   "cell_type": "code",
   "execution_count": null,
   "metadata": {},
   "outputs": [],
   "source": [
    "with rasterio.open(\"/Users/salimbaddou/PIE/masktest3_VHHH.png\") as src:\n",
    "    img = src.read()\n",
    " \n",
    "\n",
    "print(np.unique(np.array(img)))"
   ]
  },
  {
   "cell_type": "code",
   "execution_count": null,
   "metadata": {},
   "outputs": [],
   "source": []
  }
 ],
 "metadata": {
  "kernelspec": {
   "display_name": "Python 3",
   "language": "python",
   "name": "python3"
  },
  "language_info": {
   "codemirror_mode": {
    "name": "ipython",
    "version": 3
   },
   "file_extension": ".py",
   "mimetype": "text/x-python",
   "name": "python",
   "nbconvert_exporter": "python",
   "pygments_lexer": "ipython3",
   "version": "3.7.3"
  }
 },
 "nbformat": 4,
 "nbformat_minor": 2
}
