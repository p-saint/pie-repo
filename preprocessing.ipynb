{
 "cells": [
  {
   "cell_type": "code",
   "execution_count": 177,
   "metadata": {},
   "outputs": [],
   "source": [
    "import os\n",
    "import json\n",
    "import math\n",
    "import rasterio\n",
    "from rasterio.plot import reshape_as_image\n",
    "import rasterio.mask\n",
    "from rasterio.features import rasterize\n",
    "import matplotlib.pyplot as plt\n",
    "\n",
    "import pandas as pd\n",
    "import geopandas as gpd\n",
    "from shapely.geometry import mapping, Point, Polygon\n",
    "from shapely.ops import cascaded_union\n",
    "\n",
    "\n",
    "import matplotlib.pyplot as plt\n"
   ]
  },
  {
   "cell_type": "markdown",
   "metadata": {},
   "source": [
    "### Open image with rasterio:"
   ]
  },
  {
   "cell_type": "code",
   "execution_count": 50,
   "metadata": {},
   "outputs": [],
   "source": [
    "with rasterio.open(\"LFMP_ortho.tif\") as src:\n",
    "    img = src.read()\n",
    "    meta = src.meta\n",
    "\n",
    "img = reshape_as_image(img)\n",
    "\n",
    "plt.imshow(img)"
   ]
  },
  {
   "cell_type": "markdown",
   "metadata": {},
   "source": [
    "### Read Geojson as  a dataframe:"
   ]
  },
  {
   "cell_type": "code",
   "execution_count": 178,
   "metadata": {},
   "outputs": [],
   "source": [
    "train_df = gpd.read_file('product_ADBLucem_LFMP_1905_2.json')\n",
    "\n",
    "\n",
    "train_df = train_df.drop(columns=['originated', 'readonly',\n",
    "       'notvalidated', 'lock', 'elev', 'hacc', 'iata', 'name', 'idarpt',\n",
    "       'acft', 'idnumber', 'termref', 'pcn', 'restacft', 'status', 'surftype',\n",
    "       'length', 'width', 'color', 'direc', 'style', 'rwymktyp', 'asda',\n",
    "       'availPavedSurfFromThr', 'brngmag', 'brngtrue', 'cat', 'ellipse',\n",
    "       'geound', 'lda', 'rops_landing_length', 'rwyslope', 'tdze', 'tdzslope',\n",
    "       'thrtype', 'toda', 'tora', 'vasis', 'bridge', 'gsurftyp', 'runwayexit',\n",
    "       'imagery_date'])"
   ]
  },
  {
   "cell_type": "markdown",
   "metadata": {},
   "source": [
    "#### Only polygon:"
   ]
  },
  {
   "cell_type": "code",
   "execution_count": 179,
   "metadata": {},
   "outputs": [],
   "source": [
    "train_df = train_df[train_df[\"geometry\"].geom_type == 'Polygon']"
   ]
  },
  {
   "cell_type": "code",
   "execution_count": 88,
   "metadata": {},
   "outputs": [
    {
     "name": "stdout",
     "output_type": "stream",
     "text": [
      "['Apron.apronelement', 'FinalApproachAndTakeOffArea.finalapproachandtakeoffarea', 'ParkingStandArea.parkingstandarea', 'Runway.runwaydisplacedarea', 'Runway.runwayelement', 'Runway.runwaymarking', 'Runway.runwayshoulder', 'ServiceRoad.serviceroad', 'Stopway.stopway', '0', 'Taxiway.taxiwayshoulder', 'TouchDownLiftOffArea.touchdownliftoffarea', 'VerticalStructure.verticalpolygonalstructure', 'Water.water']\n"
     ]
    }
   ],
   "source": [
    "features_list = []\n",
    "for e in train_df['feattype']:\n",
    "    if e['value'] not in features_list:\n",
    "        features_list.append(e['value'])\n",
    "\n",
    "print(features_list)"
   ]
  },
  {
   "cell_type": "code",
   "execution_count": 89,
   "metadata": {},
   "outputs": [],
   "source": [
    "outfolder = \"/Users/salimbaddou/PIE\"  #folder where the mask is stored\n",
    "os.makedirs(outfolder, exist_ok=True)"
   ]
  },
  {
   "cell_type": "code",
   "execution_count": 133,
   "metadata": {},
   "outputs": [
    {
     "name": "stdout",
     "output_type": "stream",
     "text": [
      "(5000, 4700)\n",
      "(5000, 4700)\n",
      "(5000, 4700)\n",
      "(5000, 4700)\n",
      "(5000, 4700)\n",
      "(5000, 4700)\n",
      "(5000, 4700)\n",
      "(5000, 4700)\n",
      "(5000, 4700)\n",
      "(5000, 4700)\n",
      "(5000, 4700)\n",
      "(5000, 4700)\n",
      "(5000, 4700)\n",
      "(5000, 4700)\n",
      "(5000, 4700)\n",
      "(5000, 4700)\n",
      "(5000, 4700)\n",
      "(5000, 4700)\n",
      "(5000, 4700)\n",
      "(5000, 4700)\n",
      "(5000, 4700)\n",
      "(5000, 4700)\n",
      "(5000, 4700)\n",
      "(5000, 4700)\n",
      "(5000, 4700)\n",
      "(5000, 4700)\n",
      "(5000, 4700)\n",
      "(5000, 4700)\n",
      "(5000, 4700)\n",
      "(5000, 4700)\n",
      "(5000, 4700)\n",
      "(5000, 4700)\n",
      "(5000, 4700)\n",
      "(5000, 4700)\n",
      "(5000, 4700)\n",
      "(5000, 4700)\n",
      "(5000, 4700)\n",
      "(5000, 4700)\n",
      "(5000, 4700)\n",
      "(5000, 4700)\n",
      "(5000, 4700)\n",
      "(5000, 4700)\n",
      "(5000, 4700)\n",
      "(5000, 4700)\n",
      "(5000, 4700)\n",
      "(5000, 4700)\n",
      "(5000, 4700)\n",
      "(5000, 4700)\n",
      "(5000, 4700)\n",
      "(5000, 4700)\n",
      "(5000, 4700)\n",
      "(5000, 4700)\n",
      "(5000, 4700)\n",
      "(5000, 4700)\n",
      "(5000, 4700)\n",
      "(5000, 4700)\n",
      "(5000, 4700)\n",
      "(5000, 4700)\n",
      "(5000, 4700)\n",
      "(5000, 4700)\n",
      "(5000, 4700)\n",
      "(5000, 4700)\n",
      "(5000, 4700)\n",
      "(5000, 4700)\n",
      "(5000, 4700)\n",
      "(5000, 4700)\n",
      "(5000, 4700)\n",
      "(5000, 4700)\n",
      "(5000, 4700)\n",
      "(5000, 4700)\n",
      "(5000, 4700)\n",
      "(5000, 4700)\n",
      "(5000, 4700)\n",
      "(5000, 4700)\n",
      "(5000, 4700)\n",
      "(5000, 4700)\n",
      "(5000, 4700)\n",
      "(5000, 4700)\n",
      "(5000, 4700)\n",
      "(5000, 4700)\n",
      "(5000, 4700)\n",
      "(5000, 4700)\n",
      "(5000, 4700)\n",
      "(5000, 4700)\n",
      "(5000, 4700)\n",
      "(5000, 4700)\n",
      "(5000, 4700)\n",
      "(5000, 4700)\n",
      "(5000, 4700)\n",
      "(5000, 4700)\n",
      "(5000, 4700)\n",
      "(5000, 4700)\n",
      "(5000, 4700)\n",
      "(5000, 4700)\n",
      "(5000, 4700)\n",
      "(5000, 4700)\n",
      "(5000, 4700)\n",
      "(5000, 4700)\n",
      "(5000, 4700)\n",
      "(5000, 4700)\n",
      "(5000, 4700)\n",
      "(5000, 4700)\n",
      "(5000, 4700)\n",
      "(5000, 4700)\n",
      "(5000, 4700)\n",
      "(5000, 4700)\n",
      "(5000, 4700)\n",
      "(5000, 4700)\n",
      "(5000, 4700)\n",
      "(5000, 4700)\n",
      "(5000, 4700)\n",
      "(5000, 4700)\n",
      "(5000, 4700)\n",
      "(5000, 4700)\n",
      "(5000, 4700)\n",
      "(5000, 4700)\n",
      "(5000, 4700)\n",
      "(5000, 4700)\n",
      "(5000, 4700)\n",
      "(5000, 4700)\n",
      "(5000, 4700)\n",
      "(5000, 4700)\n",
      "(5000, 4700)\n",
      "(5000, 4700)\n",
      "(5000, 4700)\n",
      "(5000, 4700)\n",
      "(5000, 4700)\n",
      "(5000, 4700)\n",
      "(5000, 4700)\n",
      "(5000, 4700)\n",
      "(5000, 4700)\n",
      "(5000, 4700)\n",
      "(5000, 4700)\n",
      "(5000, 4700)\n",
      "(5000, 4700)\n",
      "(5000, 4700)\n",
      "(5000, 4700)\n",
      "(5000, 4700)\n",
      "(5000, 4700)\n",
      "(5000, 4700)\n",
      "(5000, 4700)\n",
      "(5000, 4700)\n",
      "(5000, 4700)\n",
      "(5000, 4700)\n",
      "(5000, 4700)\n",
      "(5000, 4700)\n",
      "(5000, 4700)\n",
      "(5000, 4700)\n",
      "(5000, 4700)\n",
      "(5000, 4700)\n",
      "(5000, 4700)\n",
      "(5000, 4700)\n",
      "(5000, 4700)\n",
      "(5000, 4700)\n",
      "(5000, 4700)\n",
      "(5000, 4700)\n",
      "(5000, 4700)\n",
      "(5000, 4700)\n",
      "(5000, 4700)\n",
      "(5000, 4700)\n",
      "(5000, 4700)\n",
      "(5000, 4700)\n",
      "(5000, 4700)\n",
      "(5000, 4700)\n",
      "(5000, 4700)\n",
      "(5000, 4700)\n",
      "(5000, 4700)\n",
      "(5000, 4700)\n",
      "(5000, 4700)\n",
      "(5000, 4700)\n",
      "(5000, 4700)\n",
      "(5000, 4700)\n",
      "(5000, 4700)\n",
      "(5000, 4700)\n",
      "(5000, 4700)\n",
      "(5000, 4700)\n",
      "(5000, 4700)\n",
      "(5000, 4700)\n",
      "(5000, 4700)\n",
      "(5000, 4700)\n",
      "(5000, 4700)\n",
      "(5000, 4700)\n",
      "(5000, 4700)\n",
      "(5000, 4700)\n",
      "(5000, 4700)\n",
      "(5000, 4700)\n",
      "(5000, 4700)\n",
      "(5000, 4700)\n",
      "(5000, 4700)\n",
      "(5000, 4700)\n",
      "(5000, 4700)\n",
      "(5000, 4700)\n",
      "(5000, 4700)\n",
      "(5000, 4700)\n",
      "(5000, 4700)\n",
      "(5000, 4700)\n",
      "(5000, 4700)\n",
      "(5000, 4700)\n",
      "(5000, 4700)\n",
      "(5000, 4700)\n",
      "(5000, 4700)\n",
      "(5000, 4700)\n",
      "(5000, 4700)\n",
      "(5000, 4700)\n",
      "(5000, 4700)\n",
      "(5000, 4700)\n",
      "(5000, 4700)\n",
      "(5000, 4700)\n",
      "(5000, 4700)\n",
      "(5000, 4700)\n",
      "(5000, 4700)\n",
      "(5000, 4700)\n",
      "(5000, 4700)\n",
      "(5000, 4700)\n",
      "(5000, 4700)\n",
      "(5000, 4700)\n",
      "(5000, 4700)\n",
      "(5000, 4700)\n",
      "(5000, 4700)\n",
      "(5000, 4700)\n",
      "(5000, 4700)\n",
      "(5000, 4700)\n",
      "(5000, 4700)\n",
      "(5000, 4700)\n",
      "(5000, 4700)\n",
      "(5000, 4700)\n",
      "(5000, 4700)\n",
      "(5000, 4700)\n",
      "(5000, 4700)\n",
      "(5000, 4700)\n",
      "(5000, 4700)\n",
      "(5000, 4700)\n",
      "(5000, 4700)\n",
      "(5000, 4700)\n",
      "(5000, 4700)\n",
      "(5000, 4700)\n",
      "(5000, 4700)\n",
      "(5000, 4700)\n",
      "(5000, 4700)\n",
      "(5000, 4700)\n",
      "(5000, 4700)\n",
      "(5000, 4700)\n",
      "(5000, 4700)\n",
      "(5000, 4700)\n",
      "(5000, 4700)\n",
      "(5000, 4700)\n",
      "(5000, 4700)\n",
      "(5000, 4700)\n",
      "(5000, 4700)\n",
      "(5000, 4700)\n",
      "(5000, 4700)\n",
      "(5000, 4700)\n",
      "(5000, 4700)\n",
      "(5000, 4700)\n",
      "(5000, 4700)\n",
      "(5000, 4700)\n",
      "(5000, 4700)\n",
      "(5000, 4700)\n",
      "(5000, 4700)\n",
      "(5000, 4700)\n",
      "(5000, 4700)\n",
      "(5000, 4700)\n",
      "(5000, 4700)\n",
      "(5000, 4700)\n",
      "(5000, 4700)\n",
      "(5000, 4700)\n",
      "(5000, 4700)\n",
      "(5000, 4700)\n",
      "(5000, 4700)\n",
      "(5000, 4700)\n",
      "(5000, 4700)\n",
      "(5000, 4700)\n",
      "(5000, 4700)\n",
      "(5000, 4700)\n",
      "(5000, 4700)\n",
      "(5000, 4700)\n",
      "(5000, 4700)\n",
      "(5000, 4700)\n",
      "(5000, 4700)\n",
      "(5000, 4700)\n",
      "(5000, 4700)\n",
      "(5000, 4700)\n",
      "(5000, 4700)\n",
      "(5000, 4700)\n",
      "(5000, 4700)\n",
      "(5000, 4700)\n",
      "(5000, 4700)\n",
      "(5000, 4700)\n",
      "(5000, 4700)\n",
      "(5000, 4700)\n",
      "(5000, 4700)\n",
      "(5000, 4700)\n",
      "(5000, 4700)\n",
      "(5000, 4700)\n",
      "(5000, 4700)\n",
      "(5000, 4700)\n",
      "(5000, 4700)\n",
      "(5000, 4700)\n",
      "(5000, 4700)\n",
      "(5000, 4700)\n",
      "(5000, 4700)\n",
      "(5000, 4700)\n",
      "(5000, 4700)\n",
      "(5000, 4700)\n",
      "(5000, 4700)\n",
      "(5000, 4700)\n",
      "(5000, 4700)\n",
      "(5000, 4700)\n",
      "(5000, 4700)\n",
      "(5000, 4700)\n",
      "(5000, 4700)\n",
      "(5000, 4700)\n",
      "(5000, 4700)\n",
      "(5000, 4700)\n",
      "(5000, 4700)\n",
      "(5000, 4700)\n",
      "(5000, 4700)\n",
      "(5000, 4700)\n",
      "(5000, 4700)\n",
      "(5000, 4700)\n",
      "(5000, 4700)\n",
      "(5000, 4700)\n",
      "(5000, 4700)\n",
      "(5000, 4700)\n",
      "(5000, 4700)\n",
      "(5000, 4700)\n",
      "(5000, 4700)\n",
      "(5000, 4700)\n",
      "(5000, 4700)\n",
      "(5000, 4700)\n",
      "(5000, 4700)\n",
      "(5000, 4700)\n",
      "(5000, 4700)\n",
      "(5000, 4700)\n",
      "(5000, 4700)\n",
      "(5000, 4700)\n",
      "(5000, 4700)\n",
      "(5000, 4700)\n",
      "(5000, 4700)\n",
      "(5000, 4700)\n",
      "(5000, 4700)\n",
      "(5000, 4700)\n",
      "(5000, 4700)\n",
      "(5000, 4700)\n",
      "(5000, 4700)\n",
      "(5000, 4700)\n",
      "(5000, 4700)\n",
      "(5000, 4700)\n",
      "(5000, 4700)\n",
      "(5000, 4700)\n",
      "(5000, 4700)\n",
      "(5000, 4700)\n",
      "(5000, 4700)\n",
      "(5000, 4700)\n",
      "(5000, 4700)\n",
      "(5000, 4700)\n",
      "(5000, 4700)\n",
      "(5000, 4700)\n",
      "(5000, 4700)\n",
      "(5000, 4700)\n",
      "(5000, 4700)\n",
      "(5000, 4700)\n",
      "(5000, 4700)\n",
      "(5000, 4700)\n",
      "(5000, 4700)\n",
      "(5000, 4700)\n",
      "(5000, 4700)\n",
      "(5000, 4700)\n",
      "(5000, 4700)\n",
      "(5000, 4700)\n",
      "(5000, 4700)\n",
      "(5000, 4700)\n",
      "(5000, 4700)\n",
      "(5000, 4700)\n",
      "(5000, 4700)\n",
      "(5000, 4700)\n",
      "(5000, 4700)\n",
      "(5000, 4700)\n",
      "(5000, 4700)\n",
      "(5000, 4700)\n",
      "(5000, 4700)\n",
      "(5000, 4700)\n",
      "(5000, 4700)\n",
      "(5000, 4700)\n",
      "(5000, 4700)\n",
      "(5000, 4700)\n",
      "(5000, 4700)\n",
      "(5000, 4700)\n",
      "(5000, 4700)\n",
      "(5000, 4700)\n",
      "(5000, 4700)\n"
     ]
    },
    {
     "ename": "error",
     "evalue": "OpenCV(4.1.1) /Users/travis/build/skvark/opencv-python/opencv/modules/imgproc/src/color.simd_helpers.hpp:94: error: (-2:Unspecified error) in function 'cv::impl::(anonymous namespace)::CvtHelper<cv::impl::(anonymous namespace)::Set<1, -1, -1>, cv::impl::(anonymous namespace)::Set<3, 4, -1>, cv::impl::(anonymous namespace)::Set<0, 2, 5>, cv::impl::(anonymous namespace)::SizePolicy::NONE>::CvtHelper(InputArray, OutputArray, int) [VScn = cv::impl::(anonymous namespace)::Set<1, -1, -1>, VDcn = cv::impl::(anonymous namespace)::Set<3, 4, -1>, VDepth = cv::impl::(anonymous namespace)::Set<0, 2, 5>, sizePolicy = cv::impl::(anonymous namespace)::SizePolicy::NONE]'\n> Unsupported depth of input image:\n>     'VDepth::contains(depth)'\n> where\n>     'depth' is 6 (CV_64F)\n",
     "output_type": "error",
     "traceback": [
      "\u001b[0;31m---------------------------------------------------------------------------\u001b[0m",
      "\u001b[0;31merror\u001b[0m                                     Traceback (most recent call last)",
      "\u001b[0;32m<ipython-input-133-697afd0a4254>\u001b[0m in \u001b[0;36m<module>\u001b[0;34m\u001b[0m\n\u001b[1;32m     48\u001b[0m \u001b[0;34m\u001b[0m\u001b[0m\n\u001b[1;32m     49\u001b[0m \u001b[0mimg_path\u001b[0m \u001b[0;34m=\u001b[0m \u001b[0mos\u001b[0m\u001b[0;34m.\u001b[0m\u001b[0mpath\u001b[0m\u001b[0;34m.\u001b[0m\u001b[0mjoin\u001b[0m\u001b[0;34m(\u001b[0m\u001b[0moutfolder\u001b[0m\u001b[0;34m,\u001b[0m \u001b[0;34m'test_1.png'\u001b[0m\u001b[0;34m)\u001b[0m\u001b[0;34m\u001b[0m\u001b[0;34m\u001b[0m\u001b[0m\n\u001b[0;32m---> 50\u001b[0;31m \u001b[0mimg_image\u001b[0m \u001b[0;34m=\u001b[0m \u001b[0mcv2\u001b[0m\u001b[0;34m.\u001b[0m\u001b[0mcvtColor\u001b[0m\u001b[0;34m(\u001b[0m\u001b[0mwhole_mask\u001b[0m\u001b[0;34m,\u001b[0m \u001b[0mcv2\u001b[0m\u001b[0;34m.\u001b[0m\u001b[0mCOLOR_RGB2BGR\u001b[0m\u001b[0;34m)\u001b[0m\u001b[0;34m\u001b[0m\u001b[0;34m\u001b[0m\u001b[0m\n\u001b[0m\u001b[1;32m     51\u001b[0m \u001b[0mcv2\u001b[0m\u001b[0;34m.\u001b[0m\u001b[0mimwrite\u001b[0m\u001b[0;34m(\u001b[0m\u001b[0mimg_path\u001b[0m\u001b[0;34m,\u001b[0m \u001b[0mimg_image\u001b[0m\u001b[0;34m)\u001b[0m\u001b[0;34m\u001b[0m\u001b[0;34m\u001b[0m\u001b[0m\n\u001b[1;32m     52\u001b[0m \u001b[0;34m\u001b[0m\u001b[0m\n",
      "\u001b[0;31merror\u001b[0m: OpenCV(4.1.1) /Users/travis/build/skvark/opencv-python/opencv/modules/imgproc/src/color.simd_helpers.hpp:94: error: (-2:Unspecified error) in function 'cv::impl::(anonymous namespace)::CvtHelper<cv::impl::(anonymous namespace)::Set<1, -1, -1>, cv::impl::(anonymous namespace)::Set<3, 4, -1>, cv::impl::(anonymous namespace)::Set<0, 2, 5>, cv::impl::(anonymous namespace)::SizePolicy::NONE>::CvtHelper(InputArray, OutputArray, int) [VScn = cv::impl::(anonymous namespace)::Set<1, -1, -1>, VDcn = cv::impl::(anonymous namespace)::Set<3, 4, -1>, VDepth = cv::impl::(anonymous namespace)::Set<0, 2, 5>, sizePolicy = cv::impl::(anonymous namespace)::SizePolicy::NONE]'\n> Unsupported depth of input image:\n>     'VDepth::contains(depth)'\n> where\n>     'depth' is 6 (CV_64F)\n"
     ]
    }
   ],
   "source": [
    "def poly_from_utm(polygon, transform):\n",
    "    poly_pts = []\n",
    "    \n",
    "    # make a polygon from multipolygon\n",
    "    poly = cascaded_union(polygon)\n",
    "    for i in np.array(poly.exterior.coords):\n",
    "        \n",
    "        # transfrom polygon to image crs, using raster meta\n",
    "        poly_pts.append(~transform * tuple(i))\n",
    "        \n",
    "    # make a shapely Polygon object\n",
    "    new_poly = Polygon(poly_pts)\n",
    "    return new_poly\n",
    "\n",
    "# creating binary mask for field/not_filed segmentation.\n",
    "\n",
    "\n",
    "im_size = (src.meta['height'], src.meta['width'])\n",
    "whole_mask = np.zeros([src.meta['height'],src.meta['width']])\n",
    "for i,f in enumerate(features_list):\n",
    "    poly_shp = []\n",
    "    data_geom = train_df[train_df['feattype'] == {'value': f}].geometry\n",
    "    for g in data_geom.values:\n",
    "\n",
    "\n",
    "        poly = poly_from_utm(g, src.meta['transform'])\n",
    "        poly_shp.append(poly)\n",
    "\n",
    "        if g.geom_type == 'Polygon':\n",
    "            poly = poly_from_utm(g, src.meta['transform'])\n",
    "            poly_shp.append(poly)\n",
    "        else:\n",
    "            for p in g:\n",
    "                poly = poly_from_utm(p, src.meta['transform'])\n",
    "                poly_shp.append(poly)\n",
    "\n",
    "\n",
    "\n",
    "\n",
    "\n",
    "\n",
    "        mask = rasterize(shapes=poly_shp,out_shape=im_size)*math.floor(255/len(features_list))*(i+1)\n",
    "        whole_mask = whole_mask + mask\n",
    "        \n",
    "\n",
    "\n",
    "\n",
    "\n",
    "img_path = os.path.join(outfolder, 'test_1.png')\n",
    "img_image = cv2.cvtColor(whole_mask, cv2.COLOR_RGB2BGR)\n",
    "cv2.imwrite(img_path, img_image)\n",
    "\n",
    "# plotting the mask\n",
    "\n",
    "plt.figure(figsize=(10,10))\n",
    "plt.imshow(mask)"
   ]
  },
  {
   "cell_type": "code",
   "execution_count": 105,
   "metadata": {},
   "outputs": [
    {
     "name": "stdout",
     "output_type": "stream",
     "text": [
      "18\n",
      "36\n",
      "54\n",
      "72\n",
      "90\n",
      "108\n",
      "126\n",
      "144\n",
      "162\n",
      "180\n",
      "198\n",
      "216\n",
      "234\n",
      "252\n"
     ]
    }
   ],
   "source": [
    "for i,f in enumerate(features_list):\n",
    "    print(math.floor(255/len(features_list))*(i+1))"
   ]
  },
  {
   "cell_type": "code",
   "execution_count": null,
   "metadata": {},
   "outputs": [],
   "source": [
    "for i in range(mask.shape[0]):\n",
    "    for j in range(mask.shape[1]):\n",
    "        if mask[i][j] != 0:\n",
    "            img[i][j][0] = 100\n",
    "            img[i][j][1] = 100\n",
    "            img[i][j][2] = 100\n",
    "        "
   ]
  },
  {
   "cell_type": "code",
   "execution_count": 181,
   "metadata": {},
   "outputs": [
    {
     "name": "stdout",
     "output_type": "stream",
     "text": [
      "POLYGON ((10.380918843857 43.6743960978144, 10.381370868158 43.6741522528926, 10.3831408468821 43.6758686125, 10.3826888168447 43.6761124643964, 10.380918843857 43.6743960978144))\n",
      "POLYGON ((10.4038116802428 43.6927047990638, 10.4056992283986 43.6945333576962, 10.4052457867868 43.694778061323, 10.4033582447551 43.6929494952294, 10.4038116802428 43.6927047990638))\n",
      "POLYGON ((10.3834458354607 43.6729663562707, 10.3844960059669 43.6739845806798, 10.3840426331903 43.6742292004999, 10.3829924660958 43.6732109719404, 10.3834458354607 43.6729663562707))\n"
     ]
    }
   ],
   "source": [
    "for i in train_df[train_df['feattype'] == {'value': 'Runway.runwaymarking'}].geometry.values:\n",
    "    print(i)\n",
    "    "
   ]
  },
  {
   "cell_type": "code",
   "execution_count": 115,
   "metadata": {},
   "outputs": [],
   "source": [
    "a = np.zeros([5,4])"
   ]
  },
  {
   "cell_type": "code",
   "execution_count": 116,
   "metadata": {},
   "outputs": [
    {
     "data": {
      "text/plain": [
       "array([[0., 0., 0., 0.],\n",
       "       [0., 0., 0., 0.],\n",
       "       [0., 0., 0., 0.],\n",
       "       [0., 0., 0., 0.],\n",
       "       [0., 0., 0., 0.]])"
      ]
     },
     "execution_count": 116,
     "metadata": {},
     "output_type": "execute_result"
    }
   ],
   "source": [
    "a"
   ]
  },
  {
   "cell_type": "code",
   "execution_count": 175,
   "metadata": {},
   "outputs": [
    {
     "data": {
      "text/plain": [
       "(3, 6200, 7400)"
      ]
     },
     "execution_count": 175,
     "metadata": {},
     "output_type": "execute_result"
    }
   ],
   "source": [
    "[{'value': 'Aerodrome.aerodromereferencepoint'},\n",
    " {'value': 'PaintedCenterline.paintedcenterline'},\n",
    " {'value': 'ParkingStandLocation.parkingstandlocation'},\n",
    " {'value': 'Runway.runwaydisplacedarea'},\n",
    " {'value': 'Runway.runwayelement'},\n",
    " {'value': 'Runway.runwayexitline'},\n",
    " {'value': 'Runway.runwaymarking'},\n",
    " {'value': 'Runway.runwaythreshold'},\n",
    " {'value': '0'},\n",
    " {'value': 'ImageryData.imagerydata'}]"
   ]
  },
  {
   "cell_type": "code",
   "execution_count": 31,
   "metadata": {},
   "outputs": [],
   "source": [
    "import cv2"
   ]
  },
  {
   "cell_type": "code",
   "execution_count": null,
   "metadata": {},
   "outputs": [],
   "source": [
    "img_path = os.path.join(outfolder, str(row['Field_Id']) + '.png')\n",
    "img_image = cv2.cvtColor(img_image, cv2.COLOR_RGB2BGR)\n",
    "cv2.imwrite(img_path, img_image)"
   ]
  },
  {
   "cell_type": "code",
   "execution_count": 101,
   "metadata": {},
   "outputs": [
    {
     "data": {
      "text/plain": [
       "True"
      ]
     },
     "execution_count": 101,
     "metadata": {},
     "output_type": "execute_result"
    }
   ],
   "source": [
    "\n",
    "#src = rasterio.open(raster_path, 'r', driver=\"JP2OpenJPEG\")\n",
    "outfolder = \"/Users/salimbaddou/PIE\"\n",
    "os.makedirs(outfolder, exist_ok=True)\n",
    "\n",
    "\n",
    "img_path = os.path.join(outfolder, 'test' + '.png')\n",
    "img_image = cv2.cvtColor(mask*50, cv2.COLOR_BGR2HSV)\n",
    "cv2.imwrite(img_path, img_image)\n",
    "       "
   ]
  },
  {
   "cell_type": "code",
   "execution_count": 176,
   "metadata": {},
   "outputs": [
    {
     "data": {
      "text/plain": [
       "<matplotlib.image.AxesImage at 0x1c409c2b00>"
      ]
     },
     "execution_count": 176,
     "metadata": {},
     "output_type": "execute_result"
    },
    {
     "data": {
      "image/png": "[encoded data removed]",
      "text/plain": [
       "<Figure size 1080x1080 with 1 Axes>"
      ]
     },
     "metadata": {
      "needs_background": "light"
     },
     "output_type": "display_data"
    }
   ],
   "source": [
    "plt.figure(figsize=(15,15))\n",
    "plt.imshow(whole_mask)"
   ]
  },
  {
   "cell_type": "code",
   "execution_count": 39,
   "metadata": {},
   "outputs": [
    {
     "ename": "AttributeError",
     "evalue": "'numpy.ndarray' object has no attribute 'ncount'",
     "output_type": "error",
     "traceback": [
      "\u001b[0;31m---------------------------------------------------------------------------\u001b[0m",
      "\u001b[0;31mAttributeError\u001b[0m                            Traceback (most recent call last)",
      "\u001b[0;32m<ipython-input-39-53da759afa1c>\u001b[0m in \u001b[0;36m<module>\u001b[0;34m\u001b[0m\n\u001b[0;32m----> 1\u001b[0;31m \u001b[0mmask\u001b[0m\u001b[0;34m.\u001b[0m\u001b[0mncount\u001b[0m\u001b[0;34m(\u001b[0m\u001b[0;36m1\u001b[0m\u001b[0;34m)\u001b[0m\u001b[0;34m\u001b[0m\u001b[0;34m\u001b[0m\u001b[0m\n\u001b[0m",
      "\u001b[0;31mAttributeError\u001b[0m: 'numpy.ndarray' object has no attribute 'ncount'"
     ]
    }
   ],
   "source": [
    "mask.ncount(1)"
   ]
  },
  {
   "cell_type": "code",
   "execution_count": 151,
   "metadata": {},
   "outputs": [
    {
     "name": "stdout",
     "output_type": "stream",
     "text": [
      "21571914\n",
      "0\n",
      "0\n",
      "0\n",
      "0\n",
      "0\n",
      "0\n",
      "0\n",
      "0\n",
      "0\n",
      "0\n",
      "0\n",
      "0\n",
      "0\n",
      "0\n",
      "0\n",
      "0\n",
      "0\n",
      "443\n",
      "0\n",
      "0\n",
      "0\n",
      "0\n",
      "0\n",
      "0\n",
      "0\n",
      "0\n",
      "0\n",
      "0\n",
      "0\n",
      "0\n",
      "0\n",
      "0\n",
      "0\n",
      "0\n",
      "0\n",
      "51576\n",
      "0\n",
      "0\n",
      "0\n",
      "0\n",
      "0\n",
      "0\n",
      "0\n",
      "0\n",
      "0\n",
      "0\n",
      "0\n",
      "0\n",
      "0\n",
      "0\n",
      "0\n",
      "0\n",
      "0\n",
      "2492\n",
      "0\n",
      "0\n",
      "0\n",
      "0\n",
      "0\n",
      "0\n",
      "0\n",
      "0\n",
      "0\n",
      "0\n",
      "0\n",
      "0\n",
      "0\n",
      "0\n",
      "0\n",
      "0\n",
      "0\n",
      "23310\n",
      "0\n",
      "0\n",
      "0\n",
      "0\n",
      "0\n",
      "0\n",
      "0\n",
      "0\n",
      "0\n",
      "0\n",
      "0\n",
      "0\n",
      "0\n",
      "0\n",
      "0\n",
      "0\n",
      "0\n",
      "74788\n",
      "0\n",
      "0\n",
      "0\n",
      "0\n",
      "0\n",
      "0\n",
      "0\n",
      "0\n",
      "0\n"
     ]
    }
   ],
   "source": [
    "for i in range(100):\n",
    "    \n",
    "    print((whole_mask == i).sum())"
   ]
  },
  {
   "cell_type": "code",
   "execution_count": 153,
   "metadata": {},
   "outputs": [
    {
     "data": {
      "text/plain": [
       "(5000, 4700)"
      ]
     },
     "execution_count": 153,
     "metadata": {},
     "output_type": "execute_result"
    }
   ],
   "source": [
    "whole_mask.shape"
   ]
  },
  {
   "cell_type": "code",
   "execution_count": 170,
   "metadata": {},
   "outputs": [
    {
     "ename": "error",
     "evalue": "OpenCV(4.1.1) /Users/travis/build/skvark/opencv-python/opencv/modules/imgproc/src/color.simd_helpers.hpp:94: error: (-2:Unspecified error) in function 'cv::impl::(anonymous namespace)::CvtHelper<cv::impl::(anonymous namespace)::Set<1, -1, -1>, cv::impl::(anonymous namespace)::Set<3, 4, -1>, cv::impl::(anonymous namespace)::Set<0, 2, 5>, cv::impl::(anonymous namespace)::SizePolicy::NONE>::CvtHelper(InputArray, OutputArray, int) [VScn = cv::impl::(anonymous namespace)::Set<1, -1, -1>, VDcn = cv::impl::(anonymous namespace)::Set<3, 4, -1>, VDepth = cv::impl::(anonymous namespace)::Set<0, 2, 5>, sizePolicy = cv::impl::(anonymous namespace)::SizePolicy::NONE]'\n> Unsupported depth of input image:\n>     'VDepth::contains(depth)'\n> where\n>     'depth' is 6 (CV_64F)\n",
     "output_type": "error",
     "traceback": [
      "\u001b[0;31m---------------------------------------------------------------------------\u001b[0m",
      "\u001b[0;31merror\u001b[0m                                     Traceback (most recent call last)",
      "\u001b[0;32m<ipython-input-170-f2c2e26ad755>\u001b[0m in \u001b[0;36m<module>\u001b[0;34m\u001b[0m\n\u001b[1;32m      1\u001b[0m \u001b[0mimg_path\u001b[0m \u001b[0;34m=\u001b[0m \u001b[0mos\u001b[0m\u001b[0;34m.\u001b[0m\u001b[0mpath\u001b[0m\u001b[0;34m.\u001b[0m\u001b[0mjoin\u001b[0m\u001b[0;34m(\u001b[0m\u001b[0moutfolder\u001b[0m\u001b[0;34m,\u001b[0m \u001b[0;34m'test_20.png'\u001b[0m\u001b[0;34m)\u001b[0m\u001b[0;34m\u001b[0m\u001b[0;34m\u001b[0m\u001b[0m\n\u001b[0;32m----> 2\u001b[0;31m \u001b[0mimg_image\u001b[0m \u001b[0;34m=\u001b[0m \u001b[0mcv2\u001b[0m\u001b[0;34m.\u001b[0m\u001b[0mcvtColor\u001b[0m\u001b[0;34m(\u001b[0m\u001b[0mwhole_mask\u001b[0m\u001b[0;34m,\u001b[0m \u001b[0mcv2\u001b[0m\u001b[0;34m.\u001b[0m\u001b[0mCOLOR_RGB2BGR\u001b[0m\u001b[0;34m)\u001b[0m\u001b[0;34m\u001b[0m\u001b[0;34m\u001b[0m\u001b[0m\n\u001b[0m\u001b[1;32m      3\u001b[0m \u001b[0mcv2\u001b[0m\u001b[0;34m.\u001b[0m\u001b[0mimwrite\u001b[0m\u001b[0;34m(\u001b[0m\u001b[0mimg_path\u001b[0m\u001b[0;34m,\u001b[0m \u001b[0mimg_image\u001b[0m\u001b[0;34m)\u001b[0m\u001b[0;34m\u001b[0m\u001b[0;34m\u001b[0m\u001b[0m\n",
      "\u001b[0;31merror\u001b[0m: OpenCV(4.1.1) /Users/travis/build/skvark/opencv-python/opencv/modules/imgproc/src/color.simd_helpers.hpp:94: error: (-2:Unspecified error) in function 'cv::impl::(anonymous namespace)::CvtHelper<cv::impl::(anonymous namespace)::Set<1, -1, -1>, cv::impl::(anonymous namespace)::Set<3, 4, -1>, cv::impl::(anonymous namespace)::Set<0, 2, 5>, cv::impl::(anonymous namespace)::SizePolicy::NONE>::CvtHelper(InputArray, OutputArray, int) [VScn = cv::impl::(anonymous namespace)::Set<1, -1, -1>, VDcn = cv::impl::(anonymous namespace)::Set<3, 4, -1>, VDepth = cv::impl::(anonymous namespace)::Set<0, 2, 5>, sizePolicy = cv::impl::(anonymous namespace)::SizePolicy::NONE]'\n> Unsupported depth of input image:\n>     'VDepth::contains(depth)'\n> where\n>     'depth' is 6 (CV_64F)\n"
     ]
    }
   ],
   "source": [
    "img_path = os.path.join(outfolder, 'test_20.png')\n",
    "img_image = cv2.cvtColor(whole_mask, cv2.COLOR_RGB2BGR)\n",
    "cv2.imwrite(img_path, img_image)"
   ]
  },
  {
   "cell_type": "code",
   "execution_count": 159,
   "metadata": {},
   "outputs": [
    {
     "ename": "ValueError",
     "evalue": "axes don't match array",
     "output_type": "error",
     "traceback": [
      "\u001b[0;31m---------------------------------------------------------------------------\u001b[0m",
      "\u001b[0;31mValueError\u001b[0m                                Traceback (most recent call last)",
      "\u001b[0;32m<ipython-input-159-3aaedb3a76c5>\u001b[0m in \u001b[0;36m<module>\u001b[0;34m\u001b[0m\n\u001b[0;32m----> 1\u001b[0;31m \u001b[0ma\u001b[0m \u001b[0;34m=\u001b[0m \u001b[0mreshape_as_image\u001b[0m\u001b[0;34m(\u001b[0m\u001b[0mwhole_mask\u001b[0m\u001b[0;34m)\u001b[0m\u001b[0;34m\u001b[0m\u001b[0;34m\u001b[0m\u001b[0m\n\u001b[0m",
      "\u001b[0;32m~/anaconda3/lib/python3.7/site-packages/rasterio/plot.py\u001b[0m in \u001b[0;36mreshape_as_image\u001b[0;34m(arr)\u001b[0m\n\u001b[1;32m    204\u001b[0m     \"\"\"\n\u001b[1;32m    205\u001b[0m     \u001b[0;31m# swap the axes order from (bands, rows, columns) to (rows, columns, bands)\u001b[0m\u001b[0;34m\u001b[0m\u001b[0;34m\u001b[0m\u001b[0;34m\u001b[0m\u001b[0m\n\u001b[0;32m--> 206\u001b[0;31m     \u001b[0mim\u001b[0m \u001b[0;34m=\u001b[0m \u001b[0mnp\u001b[0m\u001b[0;34m.\u001b[0m\u001b[0mma\u001b[0m\u001b[0;34m.\u001b[0m\u001b[0mtranspose\u001b[0m\u001b[0;34m(\u001b[0m\u001b[0marr\u001b[0m\u001b[0;34m,\u001b[0m \u001b[0;34m[\u001b[0m\u001b[0;36m1\u001b[0m\u001b[0;34m,\u001b[0m \u001b[0;36m2\u001b[0m\u001b[0;34m,\u001b[0m \u001b[0;36m0\u001b[0m\u001b[0;34m]\u001b[0m\u001b[0;34m)\u001b[0m\u001b[0;34m\u001b[0m\u001b[0;34m\u001b[0m\u001b[0m\n\u001b[0m\u001b[1;32m    207\u001b[0m     \u001b[0;32mreturn\u001b[0m \u001b[0mim\u001b[0m\u001b[0;34m\u001b[0m\u001b[0;34m\u001b[0m\u001b[0m\n\u001b[1;32m    208\u001b[0m \u001b[0;34m\u001b[0m\u001b[0m\n",
      "\u001b[0;32m~/anaconda3/lib/python3.7/site-packages/numpy/ma/core.py\u001b[0m in \u001b[0;36mtranspose\u001b[0;34m(a, axes)\u001b[0m\n\u001b[1;32m   6946\u001b[0m     \u001b[0;31m# We can't use 'frommethod', as 'transpose' doesn't take keywords\u001b[0m\u001b[0;34m\u001b[0m\u001b[0;34m\u001b[0m\u001b[0;34m\u001b[0m\u001b[0m\n\u001b[1;32m   6947\u001b[0m     \u001b[0;32mtry\u001b[0m\u001b[0;34m:\u001b[0m\u001b[0;34m\u001b[0m\u001b[0;34m\u001b[0m\u001b[0m\n\u001b[0;32m-> 6948\u001b[0;31m         \u001b[0;32mreturn\u001b[0m \u001b[0ma\u001b[0m\u001b[0;34m.\u001b[0m\u001b[0mtranspose\u001b[0m\u001b[0;34m(\u001b[0m\u001b[0maxes\u001b[0m\u001b[0;34m)\u001b[0m\u001b[0;34m\u001b[0m\u001b[0;34m\u001b[0m\u001b[0m\n\u001b[0m\u001b[1;32m   6949\u001b[0m     \u001b[0;32mexcept\u001b[0m \u001b[0mAttributeError\u001b[0m\u001b[0;34m:\u001b[0m\u001b[0;34m\u001b[0m\u001b[0;34m\u001b[0m\u001b[0m\n\u001b[1;32m   6950\u001b[0m         \u001b[0;32mreturn\u001b[0m \u001b[0mnarray\u001b[0m\u001b[0;34m(\u001b[0m\u001b[0ma\u001b[0m\u001b[0;34m,\u001b[0m \u001b[0mcopy\u001b[0m\u001b[0;34m=\u001b[0m\u001b[0;32mFalse\u001b[0m\u001b[0;34m)\u001b[0m\u001b[0;34m.\u001b[0m\u001b[0mtranspose\u001b[0m\u001b[0;34m(\u001b[0m\u001b[0maxes\u001b[0m\u001b[0;34m)\u001b[0m\u001b[0;34m.\u001b[0m\u001b[0mview\u001b[0m\u001b[0;34m(\u001b[0m\u001b[0mMaskedArray\u001b[0m\u001b[0;34m)\u001b[0m\u001b[0;34m\u001b[0m\u001b[0;34m\u001b[0m\u001b[0m\n",
      "\u001b[0;31mValueError\u001b[0m: axes don't match array"
     ]
    }
   ],
   "source": [
    "a = reshape_as_image(whole_mask)"
   ]
  },
  {
   "cell_type": "code",
   "execution_count": null,
   "metadata": {},
   "outputs": [],
   "source": []
  }
 ],
 "metadata": {
  "kernelspec": {
   "display_name": "Python 3",
   "language": "python",
   "name": "python3"
  },
  "language_info": {
   "codemirror_mode": {
    "name": "ipython",
    "version": 3
   },
   "file_extension": ".py",
   "mimetype": "text/x-python",
   "name": "python",
   "nbconvert_exporter": "python",
   "pygments_lexer": "ipython3",
   "version": "3.7.3"
  }
 },
 "nbformat": 4,
 "nbformat_minor": 2
}
