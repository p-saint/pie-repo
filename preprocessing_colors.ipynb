{
 "cells": [
  {
   "cell_type": "code",
   "execution_count": 1,
   "metadata": {},
   "outputs": [],
   "source": [
    "import os\n",
    "import json\n",
    "import math\n",
    "import rasterio\n",
    "from rasterio.plot import reshape_as_image\n",
    "import rasterio.mask\n",
    "from rasterio.features import rasterize\n",
    "import matplotlib\n",
    "import matplotlib.pyplot as plt\n",
    "import cv2\n",
    "import pandas as pd\n",
    "import geopandas as gpd\n",
    "from shapely.geometry import mapping, Point, Polygon\n",
    "from shapely.ops import cascaded_union\n",
    "import numpy as np\n",
    "from PIL import Image\n",
    "from numpy import newaxis\n",
    "\n",
    "import matplotlib.pyplot as plt\n"
   ]
  },
  {
   "cell_type": "code",
   "execution_count": null,
   "metadata": {},
   "outputs": [],
   "source": [
    "#ff = np.ones([3,3,3])\n",
    "#np.remainder(256*ff,256*np.ones([3,3,3]))"
   ]
  },
  {
   "cell_type": "markdown",
   "metadata": {},
   "source": [
    "### Open image with rasterio:"
   ]
  },
  {
   "cell_type": "code",
   "execution_count": null,
   "metadata": {},
   "outputs": [],
   "source": [
    "#with rasterio.open('/home/odemoly/Documents/Supaero 4A/PIE/Airport_Feature_Auto_Detection/GeoTIFF/LFMP_ortho.tif') as src:\n",
    "#    img = src.read()\n",
    "#    meta = src.meta\n",
    "\n",
    "#img = reshape_as_image(img)\n",
    "\n",
    "\n",
    "#plt.imshow(img)"
   ]
  },
  {
   "cell_type": "markdown",
   "metadata": {},
   "source": [
    "### Read Geojson as  a dataframe:"
   ]
  },
  {
   "cell_type": "code",
   "execution_count": null,
   "metadata": {},
   "outputs": [],
   "source": [
    "def polygon_df(filepath):\n",
    "    df = gpd.read_file(filepath)\n",
    "\n",
    "\n",
    "    df = df.drop(columns=['originated', 'readonly',\n",
    "           'notvalidated', 'lock', 'elev', 'hacc', 'iata', 'name', 'idarpt',\n",
    "           'acft', 'idnumber', 'termref', 'pcn', 'restacft', 'status', 'surftype',\n",
    "           'length', 'width', 'color', 'direc', 'style', 'rwymktyp', 'asda',\n",
    "           'availPavedSurfFromThr', 'brngmag', 'brngtrue', 'cat', 'ellipse',\n",
    "           'geound', 'lda', 'rops_landing_length', 'rwyslope', 'tdze', 'tdzslope',\n",
    "           'thrtype', 'toda', 'tora', 'vasis', 'bridge', 'gsurftyp', 'runwayexit',\n",
    "           'imagery_date'])\n",
    "\n",
    "    \n",
    "    return df[df[\"geometry\"].geom_type == 'Polygon']"
   ]
  },
  {
   "cell_type": "code",
   "execution_count": 2,
   "metadata": {},
   "outputs": [],
   "source": [
    "def polygon_df(filepath):\n",
    "    df = gpd.read_file(filepath)\n",
    "\n",
    "    #df = df.drop(columns=['originated', 'readonly',\n",
    "    #       'notvalidated', 'lock', 'elev', 'hacc', 'iata', 'name', 'idarpt',\n",
    "    #       'acft', 'idnumber', 'termref', 'pcn', 'restacft', 'status', 'surftype',\n",
    "    #       'length', 'width', 'color', 'direc', 'style', 'rwymktyp', 'asda',\n",
    "    #       'availPavedSurfFromThr', 'brngmag', 'brngtrue', 'cat', 'ellipse',\n",
    "    #       'geound', 'lda', 'rops_landing_length', 'rwyslope', 'tdze', 'tdzslope',\n",
    "    #       'thrtype', 'toda', 'tora', 'vasis', 'bridge', 'gsurftyp', 'runwayexit',\n",
    "    #       'imagery_date'])\n",
    "    \n",
    "    df = df.drop(columns=['originated', 'readonly',\n",
    "           'notvalidated', 'lock', 'elev', 'hacc', 'iata', 'name', 'idarpt',\n",
    "           'pcn', 'restacft', 'status', 'surftype',\n",
    "           'length', 'width', 'color', 'direc', 'style', 'rwymktyp', 'asda',\n",
    "           'availPavedSurfFromThr', 'brngmag', 'brngtrue', 'cat', 'ellipse',\n",
    "           'geound', 'lda', 'rops_landing_length', 'rwyslope', 'tdze', 'tdzslope',\n",
    "           'thrtype', 'toda', 'tora', 'vasis', 'bridge', 'gsurftyp', 'runwayexit',\n",
    "           'imagery_date'])\n",
    "    \n",
    "    return df[(df[\"geometry\"].geom_type == 'Polygon')]# | (df[\"geometry\"].geom_type == 'LineString')]"
   ]
  },
  {
   "cell_type": "markdown",
   "metadata": {},
   "source": [
    "#### Only polygon:"
   ]
  },
  {
   "cell_type": "code",
   "execution_count": null,
   "metadata": {},
   "outputs": [],
   "source": [
    "#df = polygon_df('/home/odemoly/Documents/Supaero 4A/PIE/Airport_Feature_Auto_Detection/GeoJson/product_ADBLucem_VHHH.json')"
   ]
  },
  {
   "cell_type": "code",
   "execution_count": null,
   "metadata": {},
   "outputs": [],
   "source": [
    "#features_list = []\n",
    "#for e in df['feattype']:\n",
    "#    if e['value'] not in features_list:\n",
    "#        features_list.append(e['value'])\n",
    "\n",
    "#print(features_list)"
   ]
  },
  {
   "cell_type": "code",
   "execution_count": null,
   "metadata": {},
   "outputs": [],
   "source": [
    "#k = 0\n",
    "#while k<1: \n",
    "#    k+=1\n",
    "#    #df[df['feattype']]# == {'value': 'kjfg'}].geometry\n",
    "#    for g in df[df['feattype'] == {'value': 'Runway.runwayexitline'}].geometry.values:\n",
    "#        print(g)\n",
    "#        print(poly_from_utm(g, src.meta['transform']))\n",
    "    "
   ]
  },
  {
   "cell_type": "code",
   "execution_count": 3,
   "metadata": {},
   "outputs": [],
   "source": [
    "def poly_from_utm(polygon, transform):\n",
    "    poly_pts = []\n",
    "    \n",
    "    # make a polygon from multipolygon\n",
    "    poly = cascaded_union(polygon)\n",
    "    for i in np.array(poly.exterior.coords):\n",
    "        \n",
    "        # transfrom polygon to image crs, using raster meta\n",
    "        poly_pts.append(~transform * tuple(i))\n",
    "        \n",
    "    # make a shapely Polygon object\n",
    "    new_poly = Polygon(poly_pts)\n",
    "    return new_poly\n",
    "\n",
    "# creating binary mask for field/not_filed segmentation.\n",
    "\n",
    "def create_mask(features_list,src,df):\n",
    "    im_size = (src.meta['height'], src.meta['width'])\n",
    "    whole_mask = np.zeros([3,src.meta['height'],src.meta['width']])\n",
    "    #print(np.shape(whole_mask))\n",
    "    for i,f in enumerate(features_list):\n",
    "        #print(f)\n",
    "        poly_shp = []\n",
    "        data_geom = df[df['feattype'] == {'value': f}].geometry\n",
    "        if (not df[df['feattype'] == {'value': f}].empty):\n",
    "            for g in data_geom.values:\n",
    "\n",
    "\n",
    "                poly = poly_from_utm(g, src.meta['transform'])\n",
    "                poly_shp.append(poly)\n",
    "\n",
    "                if (g.geom_type == 'Polygon'):# | g.geom_type == 'LineString'):\n",
    "                    poly = poly_from_utm(g, src.meta['transform'])\n",
    "                    poly_shp.append(poly)\n",
    "                else:\n",
    "                    for p in g:\n",
    "                        poly = poly_from_utm(p, src.meta['transform'])\n",
    "                        poly_shp.append(poly)\n",
    "\n",
    "            #print('mask')\n",
    "            #print(poly_shp)\n",
    "            #print(im_size)\n",
    "            #print(rasterize(shapes=poly_shp,out_shape=im_size))\n",
    "            #np.savetxt('rasterize_'+f+'.csv', rasterize(shapes=poly_shp,out_shape=im_size),delimiter=',')\n",
    "            #print('premask')\n",
    "            mask = rasterize(shapes=poly_shp,out_shape=im_size)#*color_mapping[f]\n",
    "            #print('mask_shape = ',np.shape(mask))\n",
    "            mask_3d = mask[newaxis,:,:]\n",
    "            mask_3d = mask_3d.astype('uint8')\n",
    "            #print('mask_3d shape = ',np.shape(mask_3d))\n",
    "            new_mask = np.concatenate((mask_3d*color_mapping[f][0],mask_3d*color_mapping[f][1],mask_3d*color_mapping[f][2]),axis = 0)\n",
    "            #print('new_mask shape =', np.shape(new_mask))\n",
    "            #print('whole_mask shape =', np.shape(whole_mask))\n",
    "            whole_mask+=new_mask\n",
    "            #whole_mask = whole_mask + new_mask #%255\n",
    "            #print('sumok') \n",
    "    return whole_mask\n",
    "\n",
    "\n"
   ]
  },
  {
   "cell_type": "code",
   "execution_count": null,
   "metadata": {},
   "outputs": [],
   "source": []
  },
  {
   "cell_type": "markdown",
   "metadata": {},
   "source": [
    "def poly_from_utm(polygon, transform):\n",
    "    poly_pts = []\n",
    "    \n",
    "    # make a polygon from multipolygon\n",
    "    poly = cascaded_union(polygon)\n",
    "    for i in np.array(poly.exterior.coords):\n",
    "        \n",
    "        # transfrom polygon to image crs, using raster meta\n",
    "        poly_pts.append(~transform * tuple(i))\n",
    "        \n",
    "    # make a shapely Polygon object\n",
    "    new_poly = Polygon(poly_pts)\n",
    "    return new_poly\n",
    "\n",
    "# creating binary mask for field/not_filed segmentation.\n",
    "\n",
    "def create_mask(features_list,src,df):\n",
    "    im_size = (src.meta['height'], src.meta['width'])\n",
    "    whole_mask = np.zeros([src.meta['height'],src.meta['width']])\n",
    "\n",
    "    for i,f in enumerate(features_list[:-1]):\n",
    "        print(f)\n",
    "        poly_shp = []\n",
    "        data_geom = df[df['feattype'] == {'value': f}].geometry\n",
    "        print(data_geom.values)\n",
    "        if (not df[df['feattype'] == {'value': f}].empty):\n",
    "            for g in data_geom.values:\n",
    "                #print(\"2d for\")\n",
    "\n",
    "\n",
    "                poly = poly_from_utm(g, src.meta['transform'])\n",
    "                poly_shp.append(poly)\n",
    "\n",
    "                if (g.geom_type == 'Polygon' | g.geom_type == 'LineString'):\n",
    "                    poly = poly_from_utm(g, src.meta['transform'])\n",
    "                    poly_shp.append(poly)\n",
    "                else:\n",
    "                    for p in g:\n",
    "                        poly = poly_from_utm(p, src.meta['transform'])\n",
    "                        poly_shp.append(poly)\n",
    "\n",
    "\n",
    "            mask = rasterize(shapes=poly_shp,out_shape=im_size)*color_mapping[f]\n",
    "            print(\"maskok\")\n",
    "            whole_mask = whole_mask + mask\n",
    "            print(\"wholemaskok\")\n",
    "    \n",
    "    return whole_mask"
   ]
  },
  {
   "cell_type": "code",
   "execution_count": 4,
   "metadata": {},
   "outputs": [],
   "source": [
    "#TO ADAPT ACCORDING TO YOUR PATH TO FOLDER\n",
    "outfolder = \"/home/odemoly/Documents/Supaero 4A/PIE/Airport_Feature_Auto_Detection/Masks/\"  #folder where the mask is stored\n",
    "os.makedirs(outfolder, exist_ok=True)"
   ]
  },
  {
   "cell_type": "markdown",
   "metadata": {},
   "source": [
    "color_mapping = {'Runway.runwayelement': 80,\n",
    " 'Runway.runwaymarking': 80,\n",
    " 'Apron.apronelement': 60,\n",
    " 'Runway.runwayshoulder': 80,\n",
    " 'Runway.runwayexitline':80,\n",
    " 'ServiceRoad.serviceroad': 100,\n",
    " 'Runway.runwaydisplacedarea': 120}"
   ]
  },
  {
   "cell_type": "code",
   "execution_count": 5,
   "metadata": {},
   "outputs": [],
   "source": [
    "color_mapping = {'Runway.runwayelement': [255, 0, 0],\n",
    " 'Runway.runwaymarking': [255, 0, 0],\n",
    " 'Runway.runwayexitline': [255,0,0],\n",
    " 'Apron.apronelement': [0, 255, 0],\n",
    " 'Runway.runwayshoulder': [255, 0, 0],\n",
    " 'ServiceRoad.serviceroad': [0, 0, 255],\n",
    " 'Runway.runwaydisplacedarea': [255, 0, 0]}"
   ]
  },
  {
   "cell_type": "code",
   "execution_count": null,
   "metadata": {},
   "outputs": [],
   "source": [
    "#type(color_mapping['Runway.runwaymarking'][0])"
   ]
  },
  {
   "cell_type": "code",
   "execution_count": 6,
   "metadata": {},
   "outputs": [],
   "source": [
    "features_list = ['Runway.runwayelement', 'Runway.runwaymarking', 'Apron.apronelement','Runway.runwayshoulder','Runway.runwaydisplacedarea']#,'Runway.runwayexitline']#,'ServiceRoad.serviceroad']"
   ]
  },
  {
   "cell_type": "code",
   "execution_count": 7,
   "metadata": {},
   "outputs": [
    {
     "name": "stdout",
     "output_type": "stream",
     "text": [
      "/home/odemoly/Documents/Supaero 4A/PIE/Airport_Feature_Auto_Detection/GeoJson/product_ADBLucem_LFMP.json\n",
      "image saved\n"
     ]
    }
   ],
   "source": [
    "import os\n",
    "\n",
    "directory = os.fsencode(\"/home/odemoly/Documents/Supaero 4A/PIE/Airport_Feature_Auto_Detection/GeoTIFF\")\n",
    "\n",
    "for file in os.listdir(directory):\n",
    "    \n",
    "    filename = os.fsdecode(file)\n",
    "    if filename.endswith(\"LFMP_ortho.tif\"):\n",
    "    \n",
    "    #if filename.endswith(\".tif\"):\n",
    "        #print(filename)\n",
    "        with rasterio.open(\"/home/odemoly/Documents/Supaero 4A/PIE/Airport_Feature_Auto_Detection/GeoTIFF/{}\".format(filename)) as src:\n",
    "            img = src.read()\n",
    "            meta = src.meta\n",
    "        \n",
    "            filepath = '/home/odemoly/Documents/Supaero 4A/PIE/Airport_Feature_Auto_Detection/GeoJson/product_ADBLucem_{}.json'.format(filename.split('_')[0])\n",
    "        try:\n",
    "            #one_tab = np.ones([3,src.meta['height'],src.meta['width']])\n",
    "            print(filepath)\n",
    "            df = polygon_df(filepath)\n",
    "            #print('dfok')\n",
    "            whole_mask = create_mask(features_list,src,df)\n",
    "            #print(np.shape(one_tab))\n",
    "            #print('wholemaskok')\n",
    "            #a = np.remainder(whole_mask,256*one_tab)\n",
    "            a = whole_mask\n",
    "            #print('aok')\n",
    "            \n",
    "            #arr = img*a\n",
    "            img3 = cv2.merge((a[2], a[1], a[0]))  # Use opencv to merge as b,g,r\n",
    "            cv2.imwrite(outfolder+'mask_colors_{}.jpg'.format(filename.split('_')[0]), img3) \n",
    "            #matplotlib.image.imsave(outfolder + 'mask_{}.jpg'.format(filename.split('_')[0]), whole_mask)\n",
    "            print(\"image saved\")\n",
    "            \n",
    "        except:\n",
    "            pass\n",
    "    \n"
   ]
  },
  {
   "cell_type": "code",
   "execution_count": null,
   "metadata": {},
   "outputs": [],
   "source": [
    "#np.shape(whole_mask)"
   ]
  },
  {
   "cell_type": "markdown",
   "metadata": {},
   "source": [
    "\n",
    "\n",
    "import os\n",
    "\n",
    "directory = os.fsencode(\"/home/odemoly/Documents/Supaero 4A/PIE/Airport_Feature_Auto_Detection/GeoTIFF\")\n",
    "\n",
    "for file in os.listdir(directory):\n",
    "    \n",
    "    filename = os.fsdecode(file)\n",
    "    if filename.endswith(\"CYEG_ortho.tif\"):\n",
    "        print(filename)\n",
    "        with rasterio.open(\"/home/odemoly/Documents/Supaero 4A/PIE/Airport_Feature_Auto_Detection/GeoTIFF/{}\".format(filename)) as src:\n",
    "            img = src.read()\n",
    "            meta = src.meta\n",
    "        \n",
    "            filepath = '/home/odemoly/Documents/Supaero 4A/PIE/Airport_Feature_Auto_Detection/GeoJson/product_ADBLucem_{}.json'.format(filename.split('_')[0])\n",
    "        try:\n",
    "        \n",
    "            df = polygon_df(filepath)\n",
    "            print('dfok')\n",
    "            whole_mask = create_mask(features_list,src,df)\n",
    "            print(\"wholemaskok\")\n",
    "            a = whole_mask\n",
    "            \n",
    "            matplotlib.image.imsave(outfolder + 'mask_colors_{}.jpg'.format(filename.split('_')[0]), whole_mask)\n",
    "            print(\"image saved\")\n",
    "            \n",
    "        except:\n",
    "            pass\n",
    "\n"
   ]
  },
  {
   "cell_type": "code",
   "execution_count": null,
   "metadata": {},
   "outputs": [],
   "source": [
    "#np.shape(img)"
   ]
  },
  {
   "cell_type": "code",
   "execution_count": null,
   "metadata": {},
   "outputs": [],
   "source": [
    "#print(whole_mask[1,3500,3000])"
   ]
  },
  {
   "cell_type": "code",
   "execution_count": null,
   "metadata": {},
   "outputs": [],
   "source": [
    "#img = rasterio.open('/home/odemoly/Documents/Supaero 4A/PIE/pie-repo/mask_CYEG.jpg')\n",
    "\n",
    "                   "
   ]
  },
  {
   "cell_type": "code",
   "execution_count": null,
   "metadata": {},
   "outputs": [],
   "source": [
    "#whole_mask_3d = np.array([whole_mask,whole_mask,whole_mask])"
   ]
  },
  {
   "cell_type": "markdown",
   "metadata": {},
   "source": [
    "from numpy import newaxis\n",
    "whole_mask_3d = whole_mask[newaxis,:,:]\n",
    "np.shape(whole_mask_3d)\n",
    "whole_mask_3d = whole_mask_3d.astype('uint8')\n",
    "b = np.concatenate((whole_mask_3d,whole_mask_3d,whole_mask_3d),axis = 0)\n",
    "print(np.shape(b))"
   ]
  },
  {
   "cell_type": "markdown",
   "metadata": {},
   "source": [
    "print(type(whole_mask[500,400]))\n",
    "print(type(img[0,500,400]))\n",
    "print(type(b[0,500,400]))\n",
    "print(type(whole_mask))\n",
    "print(type(img))\n",
    "print(np.shape(b))"
   ]
  },
  {
   "cell_type": "markdown",
   "metadata": {},
   "source": [
    "print(filename)\n",
    "np.shape(b)\n",
    "img = np.array(img)\n",
    "b=np.array(b)\n",
    "np.shape(img*b)\n"
   ]
  },
  {
   "cell_type": "markdown",
   "metadata": {},
   "source": [
    "test = np.zeros([3,4,3])\n",
    "np.shape(test)"
   ]
  },
  {
   "cell_type": "code",
   "execution_count": null,
   "metadata": {},
   "outputs": [],
   "source": []
  },
  {
   "cell_type": "markdown",
   "metadata": {},
   "source": [
    "img2 = Image.fromarray(img,'RGB')\n",
    "img2.save(outfolder + 'img_test_CYEG.jpg')"
   ]
  },
  {
   "cell_type": "markdown",
   "metadata": {},
   "source": [
    "import cv2\n",
    "import numpy as np\n",
    "arr = img*b\n",
    "img3 = cv2.merge((arr[2], arr[1], arr[0]))  # Use opencv to merge as b,g,r\n",
    "cv2.imwrite(outfolder+'out.png', img3) "
   ]
  },
  {
   "cell_type": "markdown",
   "metadata": {},
   "source": [
    "matplotlib.image.imsave(outfolder + 'whole_mask_test_{}.jpg'.format(filename.split('_')[0]), img*b)\n",
    "            "
   ]
  },
  {
   "cell_type": "markdown",
   "metadata": {},
   "source": [
    "tab = np.ones(3,np.shape(whole_mask))\n",
    "np.shape(tab)"
   ]
  }
 ],
 "metadata": {
  "kernelspec": {
   "display_name": "Python 3",
   "language": "python",
   "name": "python3"
  },
  "language_info": {
   "codemirror_mode": {
    "name": "ipython",
    "version": 3
   },
   "file_extension": ".py",
   "mimetype": "text/x-python",
   "name": "python",
   "nbconvert_exporter": "python",
   "pygments_lexer": "ipython3",
   "version": "3.7.3"
  }
 },
 "nbformat": 4,
 "nbformat_minor": 2
}
