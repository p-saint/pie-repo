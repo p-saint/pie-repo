{
 "cells": [
  {
   "cell_type": "code",
   "execution_count": 1,
   "metadata": {},
   "outputs": [],
   "source": [
    "import os\n",
    "import json\n",
    "import math\n",
    "import rasterio\n",
    "from rasterio.plot import reshape_as_image\n",
    "import rasterio.mask\n",
    "from rasterio.features import rasterize\n",
    "import matplotlib\n",
    "import matplotlib.pyplot as plt\n",
    "import cv2\n",
    "import pandas as pd\n",
    "import geopandas as gpd\n",
    "from shapely.geometry import mapping, Point, Polygon, MultiPolygon\n",
    "from shapely.ops import cascaded_union\n",
    "import numpy as np\n",
    "from PIL import Image\n",
    "import matplotlib.pyplot as plt\n"
   ]
  },
  {
   "cell_type": "markdown",
   "metadata": {},
   "source": [
    "# Création d'un masque à partir du GeoJson et d'une liste de features\n",
    "\n",
    "- Cette version traite une image à la fois. \n",
    "**V2 possible: prendre en entrée un fichier texte contenant les noms des cartes à traiter**\n",
    "- On considère une liste donnée de feattypes donnée plus bas\n",
    "- Le masque en sortie est un png de la même taille que le GeoTIFF en entrée, codé sur un canal 8 bits\n",
    "- Si un pixel appartient à au moins deux objets, il prend la valeur de pixel somme \n",
    "**V2 possible: donner une règle de priorité entre les types d'objet: qui passe devant qui ? ex runway marking devant runwayelement.**\n"
   ]
  },
  {
   "cell_type": "code",
   "execution_count": 9,
   "metadata": {},
   "outputs": [],
   "source": [
    "# A MODIFIER AVEC LES BONS CHEMINS POUR RUN LE CODE SUR VOTRE MACHINE\n",
    "\n",
    "path_GeoTIFF = \"/home/odemoly/Documents/Supaero 4A/PIE/Data/GeoTIFF/\"\n",
    "path_GeoJson = \"/home/odemoly/Documents/Supaero 4A/PIE/Data/GeoJson/\"\n",
    "\n",
    "#image considérée\n",
    "name_map = \"LFBO\"\n",
    "filepath = path_GeoJson+\"product_ADBLucem_\"+name_map+\"_1912_0\"+\".json\"\n",
    "\n",
    "#chemin de sortie pour le masque png\n",
    "outfolder = \"/home/odemoly/Documents/Supaero 4A/PIE/Masks\"  \n",
    "os.makedirs(outfolder, exist_ok=True)"
   ]
  },
  {
   "cell_type": "code",
   "execution_count": 3,
   "metadata": {},
   "outputs": [],
   "source": [
    "# Liste des features d'intérêt et color mapping (1 canal nuances de gris de 1 à 255, 0 est background)\n",
    "color_mapping = {\n",
    "    'Apron.apronelement': 10,\n",
    "    'Runway.runwayelement': 50,\n",
    "    'ServiceRoad.serviceroad': 100,\n",
    "    'Runway.runwaymarking':120,\n",
    "    'Runway.runwaydisplacedarea':140,\n",
    "    'Runway.runwayshoulder':160,\n",
    "    'Taxiway.taxiwayshoulder':180,\n",
    "    'ParkingStandArea.parkingstandarea':200,\n",
    "    'FinalApproachAndTakeOffArea.finalapproachandtakeoffarea':220,\n",
    "    'TouchDownLiftOffArea.touchdownliftoffarea':240,\n",
    "    'Runway.runwayintersection':50,\n",
    "    #0 correspond à Taxiway.taxiwayelement\n",
    "    '0':70\n",
    "}\n",
    "\n",
    "#List of features to identify.\n",
    "#The order in this list matters as if there is superposition between 2 features or more,\n",
    "#the last coming in the list will dominates the others and give its color to the corresponding pixels. \n",
    "features_list = ['0','Apron.apronelement','Runway.runwayelement','Runway.runwayintersection','Runway.runwaydisplacedarea','Runway.runwayshoulder','Runway.runwaymarking','ServiceRoad.serviceroad','Taxiway.taxiwayshoulder',\n",
    "                 'ParkingStandArea.parkingstandarea','FinalApproachAndTakeOffArea.finalapproachandtakeoffarea','TouchDownLiftOffArea.touchdownliftoffarea']\n"
   ]
  },
  {
   "cell_type": "code",
   "execution_count": null,
   "metadata": {
    "scrolled": true
   },
   "outputs": [],
   "source": []
  },
  {
   "cell_type": "code",
   "execution_count": null,
   "metadata": {},
   "outputs": [],
   "source": []
  },
  {
   "cell_type": "code",
   "execution_count": 4,
   "metadata": {},
   "outputs": [],
   "source": [
    "#this function is used to append new polygon k after its transformation\n",
    "#k est le 'Polygon' de clé k\n",
    "#feature_nb est l'indice du feature dans la feature_list\n",
    "def new_poly_append(k,feature_nb,df,poly_list):\n",
    "    interior_coords = []\n",
    "    #on teste si le 'Polygon' de clé k est du feature que l'on veut, si oui, on entre dans la boucle, si non, rien n'est ajouté à la poly_list\n",
    "    if df['feattype'][k]['value']==features_list[feature_nb]:\n",
    "        new_poly = df['geometry'][k]\n",
    "        #we browse the features coming next in the list and modify the polygon if there is intersection\n",
    "        #with polygons of those features\n",
    "        for j,feature in enumerate(features_list[(feature_nb+1):]):\n",
    "            df_polygon_geometry_feature = df[df[\"feattype\"]== {'value': feature}].geometry\n",
    "            for key2 in df_polygon_geometry_feature.keys():\n",
    "                if new_poly.intersects(df_polygon_geometry_feature[key2])==True:\n",
    "                    new_poly = new_poly.difference(df_polygon_geometry_feature[key2])\n",
    "        poly_list.append(new_poly)\n",
    "    return(poly_list)\n",
    "\n",
    "\n",
    "def polygon_df(filepath,features_list):\n",
    "    df = gpd.read_file(filepath)\n",
    "    df = df.drop(columns=['originated', 'readonly',\n",
    "           'notvalidated', 'lock', 'elev', 'hacc', 'iata', 'name', 'idarpt',\n",
    "           'acft', 'idnumber', 'termref', 'pcn', 'restacft', 'status', 'surftype',\n",
    "           'length', 'width', 'color', 'direc', 'style', 'rwymktyp', 'asda',\n",
    "           'availPavedSurfFromThr', 'brngmag', 'brngtrue', 'cat', 'ellipse',\n",
    "           'geound', 'lda', 'rops_landing_length', 'rwyslope', 'tdze', 'tdzslope',\n",
    "           'thrtype', 'toda', 'tora', 'vasis', 'bridge', 'gsurftyp', 'runwayexit',\n",
    "           'imagery_date'])\n",
    "    #ON NE GARDE QUE LES FEATURES QUI SONT DU TYPE 'Polygon'\n",
    "    df=df[df[\"geometry\"].geom_type == 'Polygon']\n",
    "    \n",
    "    #LISTE DES NOUVEAUX POLYGONES, ROGNÉS ET MODIFIÉS QUE L'ON AJOUTERA DANS LA COLONNE 'geometry2'\n",
    "    poly_list=[]\n",
    "    \n",
    "    #PARCOURS DANS L'ORDRE DES 'Polygon'\n",
    "    for k in df.id.keys():\n",
    "        l = len(poly_list)\n",
    "        for feature_nb in range(len(features_list)):\n",
    "            poly_list = new_poly_append(k,feature_nb,df,poly_list)\n",
    "        #CE TEST SERT À SAVOIR SI NEW_POLY_APPEND A AJOUTÉ UN ELEMENT, SINON C'EST QUE LE POLYGON DE CLÉ K N'EST PAS UN FEATURE INTERESSANT   \n",
    "        if l == len(poly_list):\n",
    "            poly_list.append(df['geometry'][k])\n",
    "    df['geometry2']=poly_list\n",
    "    df['geometry2']=gpd.GeoDataFrame(df['geometry2'])\n",
    "    return(df)"
   ]
  },
  {
   "cell_type": "code",
   "execution_count": null,
   "metadata": {},
   "outputs": [],
   "source": []
  },
  {
   "cell_type": "code",
   "execution_count": 5,
   "metadata": {},
   "outputs": [],
   "source": [
    "# Fonctions de création de masques par lecture du GeoJson\n",
    "# TO DO: V2 qui gère la superposition d'objets. \n",
    "# Idée: un petit objet inclut dans un autre doit avoir priorité sur l'affichage \n",
    "\n",
    "def poly_from_utm(polygon, transform):\n",
    "    #liste les points exterieurs du polygon\n",
    "    poly_pts = []\n",
    "    \n",
    "    #liste les 'trous' dans ce polygon sous forme de tuple\n",
    "    poly_holes = []\n",
    "   \n",
    "    exterior_coords = polygon.exterior.coords[:]\n",
    "    interior_coords = []\n",
    "    for interior in polygon.interiors:\n",
    "        interior_coords.append(tuple(interior.coords[:]))\n",
    "    \n",
    "    for i in np.array(exterior_coords):\n",
    "        poly_pts.append(~transform * tuple(i))\n",
    "\n",
    "    for hole in np.array(interior_coords):\n",
    "        hole_pts=[]\n",
    "        for k in hole:\n",
    "\n",
    "            hole_pts.append(tuple(~transform * tuple(k)))\n",
    "        poly_holes.append(tuple(hole_pts))\n",
    "    new_poly = Polygon(poly_pts,poly_holes)\n",
    "    return new_poly\n",
    "\n",
    "\n",
    "# creating binary mask for field/not_filed segmentation.\n",
    "def create_mask(features_list,src,df):\n",
    "    im_size = (src.meta['height'], src.meta['width'])\n",
    "    whole_mask = np.zeros([src.meta['height'],src.meta['width']])\n",
    "\n",
    "    for i,f in enumerate(features_list):\n",
    "        poly_shp = []\n",
    "        data_geom = df[df['feattype'] == {'value': f}].geometry2\n",
    "        k = 0\n",
    "        for g in data_geom.values:\n",
    "\n",
    "            if g.geom_type == 'Polygon':\n",
    "                if not g.is_empty:\n",
    "\n",
    "                    poly = poly_from_utm(g, src.meta['transform'])\n",
    "                    poly_shp.append(poly)\n",
    "                    poly_shp_polygon = poly_shp\n",
    "            else:\n",
    "                for p in g:\n",
    "                    poly = poly_from_utm(p, src.meta['transform'])\n",
    "                    poly_shp.append(poly)\n",
    "\n",
    "        if poly_shp:\n",
    "            mask = rasterize(shapes=poly_shp,out_shape=im_size)*color_mapping[f]\n",
    "            whole_mask = whole_mask + mask\n",
    "\n",
    "    return whole_mask\n"
   ]
  },
  {
   "cell_type": "code",
   "execution_count": 10,
   "metadata": {
    "scrolled": true
   },
   "outputs": [
    {
     "name": "stdout",
     "output_type": "stream",
     "text": [
      "Pixel values: {0.0, 160.0, 100.0, 70.0, 200.0, 10.0, 240.0, 50.0, 180.0, 120.0, 220.0}\n",
      "(9299, 10400)\n"
     ]
    }
   ],
   "source": [
    "img_name = name_map+\"_ortho.tif\"\n",
    "directory = os.fsencode(path_GeoTIFF)\n",
    "\n",
    "poly_shp_test = []\n",
    "for file in os.listdir(directory):\n",
    "    filename = os.fsdecode(file)\n",
    "    if filename==img_name:\n",
    "        #print(path_GeoTIFF+\"{}\".format(filename))\n",
    "        with rasterio.open(path_GeoTIFF+\"{}\".format(filename)) as src:\n",
    "            img = src.read()\n",
    "            meta = src.meta\n",
    "            \n",
    "            #print(\"features_list=\", features_list)\n",
    "            df = polygon_df(filepath,features_list)\n",
    "            \n",
    "            whole_mask= create_mask(features_list,src,df)\n",
    "            \n",
    "            # Just stores the different pixel values in the mask array, and print them.\n",
    "            a=set([])\n",
    "            \n",
    "            for row in whole_mask:\n",
    "                for elt in row:\n",
    "                    a.add(elt)\n",
    "            print(\"Pixel values: \"+str(a))\n",
    "            \n",
    "            # Just prints warning if two objects are superimposed\n",
    "            a.remove(0)\n",
    "            for elt in a:\n",
    "                boolean=False\n",
    "                for key in color_mapping:\n",
    "                    if(color_mapping[key] == elt):\n",
    "                        boolean=True;\n",
    "                if not boolean:\n",
    "                    print(\"A superposition was detected !\")\n",
    "                    \n",
    "            \n",
    "            print(whole_mask.shape)\n",
    "            \n",
    "#             #Rescale to 0-255 and convert to uint8\n",
    "#             rescaled = (255.0 / data.max() * (data - data.min())).astype(np.uint8)\n",
    "\n",
    "            # Save numpy array into png mask 1 channel\n",
    "            cv2.imwrite(outfolder + '/masktest_{}.png'.format(img_name.split('_')[0]),whole_mask)\n"
   ]
  },
  {
   "cell_type": "markdown",
   "metadata": {},
   "source": [
    "# END OF CODE"
   ]
  },
  {
   "cell_type": "markdown",
   "metadata": {},
   "source": [
    "## Différents tests"
   ]
  },
  {
   "cell_type": "code",
   "execution_count": null,
   "metadata": {},
   "outputs": [],
   "source": [
    "print(poly_shp_multi2poly)\n",
    "#print(poly_shp_0)\n",
    "im_size=(6200,7400)\n",
    "mask = rasterize(shapes=poly_shp_multi2poly,out_shape=im_size)*color_mapping['Runway.runwayelement']\n",
    "#print(mask)\n",
    "#poly_shp[1]\n",
    "cv2.imwrite(outfolder + '/masktesttotal.png',mask)\n",
    "#poly_shp_polygon[1]"
   ]
  },
  {
   "cell_type": "code",
   "execution_count": null,
   "metadata": {},
   "outputs": [],
   "source": [
    "main_list=[]\n",
    "list_1=[(10.3880599184085, 43.6777942745563), (10.3877425683812, 43.6774866300529), (10.3877573619324, 43.6774786478598), (10.3880747119933, 43.6777862923223), (10.3880599184085, 43.6777942745563)]\n",
    "main_list.append(tuple(list_1))\n",
    "list_2=[(10.3880599184085, 43.6777942745563), (10.3877425683812, 43.6774866300529), (10.3877573619324, 43.6774786478598), (10.3880747119933, 43.6777862923223), (10.3880599184085, 43.6777942745563), (10.387513104236, 43.6772641811034), (10.3871944013245, 43.6769552181046), (10.3872091948176, 43.6769472359822), (10.3875278977629, 43.67725619894), (10.387513104236, 43.6772641811034)]\n",
    "main_list.append(tuple(set(list_2) - set(list_1)))\n",
    "print(main_list)"
   ]
  },
  {
   "cell_type": "code",
   "execution_count": null,
   "metadata": {},
   "outputs": [],
   "source": [
    "inputPolygon = Polygon(((0,0),(10,0),(10,10),(0,10)), (((1,3),(5,3),(5,1),(1,1)), ((9,9),(9,8),(8,8),(8,9))))\n",
    "polygonExterior = inputPolygon.exterior\n",
    "polygonInteriors = []\n",
    "for i in range(len(inputPolygon.interiors)):\n",
    "    # do the stuff with your polygons\n",
    "    polygonInteriors.append(inputPolygon.interiors[i])\n",
    "\n",
    "newPolygon = Polygon(polygonExterior, [[pt for pt in inner.coords] for inner in polygonInteriors])\n",
    "newPolygon"
   ]
  },
  {
   "cell_type": "markdown",
   "metadata": {},
   "source": [
    "# OLD: exploration et manipulation d'un GeoJson"
   ]
  },
  {
   "cell_type": "markdown",
   "metadata": {},
   "source": [
    "### Open image with rasterio:"
   ]
  },
  {
   "cell_type": "code",
   "execution_count": null,
   "metadata": {},
   "outputs": [],
   "source": [
    "with rasterio.open(path_GeoTIFF+\"/\"+name_map+\"_ortho.tif\") as src:\n",
    "    img = src.read()\n",
    "    meta = src.meta\n",
    "\n",
    "img = reshape_as_image(img)\n",
    "\n"
   ]
  },
  {
   "cell_type": "markdown",
   "metadata": {},
   "source": [
    "### Read Geojson as  a dataframe:"
   ]
  },
  {
   "cell_type": "code",
   "execution_count": null,
   "metadata": {},
   "outputs": [],
   "source": [
    "def polygon_df(filepath):\n",
    "    df = gpd.read_file(filepath)\n",
    "    df = df.drop(columns=['originated', 'readonly',\n",
    "           'notvalidated', 'lock', 'elev', 'hacc', 'iata', 'name', 'idarpt',\n",
    "           'acft', 'idnumber', 'termref', 'pcn', 'restacft', 'status', 'surftype',\n",
    "           'length', 'width', 'color', 'direc', 'style', 'rwymktyp', 'asda',\n",
    "           'availPavedSurfFromThr', 'brngmag', 'brngtrue', 'cat', 'ellipse',\n",
    "           'geound', 'lda', 'rops_landing_length', 'rwyslope', 'tdze', 'tdzslope',\n",
    "           'thrtype', 'toda', 'tora', 'vasis', 'bridge', 'gsurftyp', 'runwayexit',\n",
    "           'imagery_date'])\n",
    "    \n",
    "    return df[df[\"geometry\"].geom_type == 'Polygon']"
   ]
  },
  {
   "cell_type": "markdown",
   "metadata": {},
   "source": [
    "#### Only polygon:"
   ]
  },
  {
   "cell_type": "code",
   "execution_count": null,
   "metadata": {},
   "outputs": [],
   "source": [
    "df = polygon_df(path_GeoJson+\"product_ADBLucem_\"+name_map+\"1905_02.json\")\n",
    "df['geometry'].head()"
   ]
  },
  {
   "cell_type": "markdown",
   "metadata": {},
   "source": [
    "### Liste des features contenues dans le GeoJSON"
   ]
  },
  {
   "cell_type": "code",
   "execution_count": 30,
   "metadata": {},
   "outputs": [
    {
     "ename": "NameError",
     "evalue": "name 'polygon_df' is not defined",
     "output_type": "error",
     "traceback": [
      "\u001b[0;31m---------------------------------------------------------------------------\u001b[0m",
      "\u001b[0;31mNameError\u001b[0m                                 Traceback (most recent call last)",
      "\u001b[0;32m<ipython-input-30-33905158f386>\u001b[0m in \u001b[0;36m<module>\u001b[0;34m\u001b[0m\n\u001b[1;32m      4\u001b[0m     \u001b[0mimg\u001b[0m \u001b[0;34m=\u001b[0m \u001b[0msrc\u001b[0m\u001b[0;34m.\u001b[0m\u001b[0mread\u001b[0m\u001b[0;34m(\u001b[0m\u001b[0;34m)\u001b[0m\u001b[0;34m\u001b[0m\u001b[0;34m\u001b[0m\u001b[0m\n\u001b[1;32m      5\u001b[0m     \u001b[0mmeta\u001b[0m \u001b[0;34m=\u001b[0m \u001b[0msrc\u001b[0m\u001b[0;34m.\u001b[0m\u001b[0mmeta\u001b[0m\u001b[0;34m\u001b[0m\u001b[0;34m\u001b[0m\u001b[0m\n\u001b[0;32m----> 6\u001b[0;31m     \u001b[0mdf\u001b[0m \u001b[0;34m=\u001b[0m \u001b[0mpolygon_df\u001b[0m\u001b[0;34m(\u001b[0m\u001b[0mfilepath\u001b[0m\u001b[0;34m,\u001b[0m\u001b[0mfeatures_list\u001b[0m\u001b[0;34m)\u001b[0m\u001b[0;34m\u001b[0m\u001b[0;34m\u001b[0m\u001b[0m\n\u001b[0m\u001b[1;32m      7\u001b[0m     \u001b[0mdata_geom\u001b[0m \u001b[0;34m=\u001b[0m \u001b[0mdf\u001b[0m\u001b[0;34m[\u001b[0m\u001b[0mdf\u001b[0m\u001b[0;34m[\u001b[0m\u001b[0;34m'feattype'\u001b[0m\u001b[0;34m]\u001b[0m \u001b[0;34m==\u001b[0m \u001b[0;34m{\u001b[0m\u001b[0;34m'value'\u001b[0m\u001b[0;34m:\u001b[0m \u001b[0;34m'Runway.runwaymarking'\u001b[0m\u001b[0;34m}\u001b[0m\u001b[0;34m]\u001b[0m\u001b[0;34m.\u001b[0m\u001b[0mgeometry\u001b[0m\u001b[0;34m\u001b[0m\u001b[0;34m\u001b[0m\u001b[0m\n\u001b[1;32m      8\u001b[0m     \u001b[0mprint\u001b[0m\u001b[0;34m(\u001b[0m\u001b[0mdata_geom\u001b[0m\u001b[0;34m)\u001b[0m\u001b[0;34m\u001b[0m\u001b[0;34m\u001b[0m\u001b[0m\n",
      "\u001b[0;31mNameError\u001b[0m: name 'polygon_df' is not defined"
     ]
    }
   ],
   "source": [
    "img_name = name_map+\"_ortho.tif\"\n",
    "\n",
    "with rasterio.open(path_GeoTIFF+\"{}\".format(img_name)) as src:\n",
    "    img = src.read()\n",
    "    meta = src.meta\n",
    "    df = polygon_df(filepath,features_list)\n",
    "    data_geom = df[df['feattype'] == {'value': 'Runway.runwaymarking'}].geometry\n",
    "    print(data_geom)\n",
    "    data_geom2 = df[df['feattype'] == {'value': 'Taxiway.Taxiwayelement'}].geometry\n",
    "    print(data_geom2)\n",
    "    #print(len(data_geom))\n",
    "\n",
    "\n",
    "features_list = []\n",
    "for e in df['feattype']:\n",
    "    if e['value'] not in features_list:\n",
    "        features_list.append(e['value'])\n",
    "\n",
    "print(features_list)"
   ]
  },
  {
   "cell_type": "code",
   "execution_count": null,
   "metadata": {},
   "outputs": [],
   "source": []
  },
  {
   "cell_type": "code",
   "execution_count": null,
   "metadata": {},
   "outputs": [],
   "source": [
    "from shapely.geometry import Polygon\n",
    "p1 = Polygon([(0,0), (1,1), (1,0)])\n",
    "p2 = Polygon([(0,1), (1,0), (1,1)])\n",
    "print(p1.intersects(p2))"
   ]
  },
  {
   "cell_type": "code",
   "execution_count": null,
   "metadata": {},
   "outputs": [],
   "source": []
  },
  {
   "cell_type": "code",
   "execution_count": null,
   "metadata": {},
   "outputs": [],
   "source": []
  },
  {
   "cell_type": "code",
   "execution_count": null,
   "metadata": {},
   "outputs": [],
   "source": []
  },
  {
   "cell_type": "code",
   "execution_count": null,
   "metadata": {},
   "outputs": [],
   "source": []
  },
  {
   "cell_type": "code",
   "execution_count": null,
   "metadata": {},
   "outputs": [],
   "source": [
    "from shapely.geometry import Polygon\n",
    "\n",
    "p = Polygon([(1,1),(2,2),(4,2),(3,1)])\n",
    "q = Polygon([(1.5,2),(3,5),(5,4),(3.5,1)])\n",
    "print(p.intersects(q))  # True\n",
    "print(p.intersection(q).area)  # 1.0\n",
    "x = p.intersection(q)\n",
    "print(x)"
   ]
  },
  {
   "cell_type": "code",
   "execution_count": null,
   "metadata": {},
   "outputs": [],
   "source": []
  },
  {
   "cell_type": "code",
   "execution_count": null,
   "metadata": {},
   "outputs": [],
   "source": [
    "# multipol1 and multipol2 are my shapely MultiPolygons\n",
    "from shapely.ops import cascaded_union\n",
    "from itertools import combinations\n",
    "from shapely.geometry import Polygon\n",
    "\n",
    "print(data_geom[517])\n",
    "outmulti = []\n",
    "#for pol in data_geom:\n",
    "#    for pol2 in data_geom2:\n",
    "pol=data_geom[517]\n",
    "pol2=pol\n",
    "if pol.intersects(pol2)==True:\n",
    "    print(True)\n",
    "    # If they intersect, create a new polygon that is\n",
    "    # essentially pol minus the intersection\n",
    "    nonoverlap = (pol.symmetric_difference(pol2)).difference(pol2)\n",
    "    outmulti.append(nonoverlap)\n",
    "    \n",
    "    print(nonoverlap.is_empty)\n",
    "else:\n",
    "    # Otherwise, just keep the initial polygon as it is.\n",
    "    outmulti.append(pol)\n",
    "print(data_geom[517])\n",
    "#finalpol = MultiPolygon(outmulti)"
   ]
  },
  {
   "cell_type": "code",
   "execution_count": null,
   "metadata": {},
   "outputs": [],
   "source": []
  }
 ],
 "metadata": {
  "kernelspec": {
   "display_name": "Python 3",
   "language": "python",
   "name": "python3"
  },
  "language_info": {
   "codemirror_mode": {
    "name": "ipython",
    "version": 3
   },
   "file_extension": ".py",
   "mimetype": "text/x-python",
   "name": "python",
   "nbconvert_exporter": "python",
   "pygments_lexer": "ipython3",
   "version": "3.7.4"
  }
 },
 "nbformat": 4,
 "nbformat_minor": 2
}
