{
 "cells": [
  {
   "cell_type": "code",
   "execution_count": 3,
   "metadata": {},
   "outputs": [],
   "source": [
    "import os\n",
    "import json\n",
    "import math\n",
    "import rasterio\n",
    "from rasterio.plot import reshape_as_image\n",
    "import rasterio.mask\n",
    "from rasterio.features import rasterize\n",
    "import matplotlib\n",
    "import matplotlib.pyplot as plt\n",
    "import cv2\n",
    "import scipy.misc\n",
    "\n",
    "from skimage.draw import line_aa\n",
    "import pandas as pd\n",
    "import geopandas as gpd\n",
    "from shapely.geometry import mapping, Point, Polygon, MultiPolygon\n",
    "from shapely.ops import cascaded_union\n",
    "import numpy as np\n",
    "from PIL import Image\n",
    "import matplotlib.pyplot as plt\n",
    "import imageio"
   ]
  },
  {
   "cell_type": "code",
   "execution_count": null,
   "metadata": {},
   "outputs": [],
   "source": []
  },
  {
   "cell_type": "markdown",
   "metadata": {},
   "source": [
    "# Création d'un masque à partir du GeoJson et d'une liste de features\n",
    "\n",
    "- Cette version traite une image à la fois. \n",
    "**V2 possible: prendre en entrée un fichier texte contenant les noms des cartes à traiter**\n",
    "- On considère une liste donnée de feattypes donnée plus bas\n",
    "- Le masque en sortie est un png de la même taille que le GeoTIFF en entrée, codé sur un canal 8 bits\n",
    "- Si un pixel appartient à au moins deux objets, il prend la valeur de pixel somme \n",
    "**V2 possible: donner une règle de priorité entre les types d'objet: qui passe devant qui ? ex runway marking devant runwayelement.**\n"
   ]
  },
  {
   "cell_type": "code",
   "execution_count": 46,
   "metadata": {},
   "outputs": [],
   "source": [
    "# A MODIFIER AVEC LES BONS CHEMINS POUR RUN LE CODE SUR VOTRE MACHINE\n",
    "\n",
    "path_GeoTIFF = \"/home/odemoly/Documents/Supaero 4A/PIE/Data/GeoTIFF/\"\n",
    "path_GeoJson = \"/home/odemoly/Documents/Supaero 4A/PIE/Data/GeoJson/\"\n",
    "\n",
    "#image considérée\n",
    "name_map = \"LFBO\"\n",
    "files=[]\n",
    "for i in os.listdir(path_GeoJson):\n",
    "    if os.path.isfile(os.path.join(path_GeoJson,i)) and name_map in i:\n",
    "        files.append(i)\n",
    "        \n",
    "filepath = path_GeoJson+files[0]\n",
    "\n",
    "#chemin de sortie pour le masque png\n",
    "outfolder = \"/home/odemoly/Documents/Supaero 4A/PIE/Masks\"  \n",
    "os.makedirs(outfolder, exist_ok=True)"
   ]
  },
  {
   "cell_type": "code",
   "execution_count": 53,
   "metadata": {},
   "outputs": [],
   "source": [
    "# Liste des features d'intérêt et color mapping (1 canal nuances de gris de 1 à 255, 0 est background)\n",
    "color_mapping = {\n",
    "    'Apron.apronelement': 10,\n",
    "    'Runway.runwayelement': 50,\n",
    "    'ServiceRoad.serviceroad': 100,\n",
    "    'Runway.runwaymarking':120,\n",
    "    'Runway.runwaydisplacedarea':140,\n",
    "    'Runway.runwayshoulder':160,\n",
    "    'Taxiway.taxiwayshoulder':180,\n",
    "    'ParkingStandArea.parkingstandarea':200,\n",
    "    'FinalApproachAndTakeOffArea.finalapproachandtakeoffarea':220,\n",
    "    'TouchDownLiftOffArea.touchdownliftoffarea':240,\n",
    "    'Runway.runwayintersection':50,\n",
    "    #0 correspond à Taxiway.taxiwayelement\n",
    "    '0':70,\n",
    "    'Taxiway.taxiwayholdingposition':255,\n",
    "    'LandAndHoldShortOperationLocation.landandholdshortoperationlocation':252,\n",
    "    'Runway.runwayexitline':248\n",
    "}\n",
    "\n",
    "#List of features to identify.\n",
    "#The order in this list matters as if there is superposition between 2 features or more,\n",
    "#the last coming in the list will dominates the others and give its color to the corresponding pixels. \n",
    "features_list = ['0','Apron.apronelement','Runway.runwayelement','Runway.runwayintersection','Runway.runwaydisplacedarea','Runway.runwayshoulder','Runway.runwaymarking','ServiceRoad.serviceroad','Taxiway.taxiwayshoulder',\n",
    "                 'ParkingStandArea.parkingstandarea','FinalApproachAndTakeOffArea.finalapproachandtakeoffarea','TouchDownLiftOffArea.touchdownliftoffarea']\n",
    "line_list = ['Taxiway.taxiwayholdingposition','LandAndHoldShortOperationLocation.landandholdshortoperationlocation','Runway.runwayexitline']\n"
   ]
  },
  {
   "cell_type": "code",
   "execution_count": 97,
   "metadata": {},
   "outputs": [],
   "source": [
    "def draw_linestring(line_list,whole_mask,transform):\n",
    "    #transform = src.meta['transform']\n",
    "    df = func_df(filepath)\n",
    "    df = df[df['geometry'].geom_type=='LineString']\n",
    "    for k in df.id.keys():\n",
    "        for ls in line_list:\n",
    "            if df['feattype'][k]['value']==ls:\n",
    "                coords = np.array(df['geometry'][k].coords)\n",
    "                for i in range(len(coords)-1):\n",
    "\n",
    "                    c0,r0 = ~transform * tuple(coords[i])\n",
    "\n",
    "                    c1,r1 = ~transform * tuple(coords[i+1])\n",
    "\n",
    "                    rr, cc, val = line_aa(math.floor(r0),math.floor(c0),math.floor(r1), math.floor(c1))\n",
    "                    new_val = np.ones(len(val))\n",
    "\n",
    "                    whole_mask[rr, cc] = (new_val * color_mapping[ls])\n",
    "    return(whole_mask)"
   ]
  },
  {
   "cell_type": "code",
   "execution_count": 98,
   "metadata": {},
   "outputs": [],
   "source": [
    "#this function is used to append new polygon k after its transformation\n",
    "#k est le 'Polygon' de clé k\n",
    "#feature_nb est l'indice du feature dans la feature_list\n",
    "def new_poly_append(k,feature_nb,df,poly_list):\n",
    "    interior_coords = []\n",
    "    #on teste si le 'Polygon' de clé k est du feature que l'on veut, si oui, on entre dans la boucle, si non, rien n'est ajouté à la poly_list\n",
    "    if df['feattype'][k]['value']==features_list[feature_nb]:\n",
    "        new_poly = df['geometry'][k]\n",
    "        #we browse the features coming next in the list and modify the polygon if there is intersection\n",
    "        #with polygons of those features\n",
    "        for j,feature in enumerate(features_list[(feature_nb+1):]):\n",
    "            df_polygon_geometry_feature = df[df[\"feattype\"]== {'value': feature}].geometry\n",
    "            for key2 in df_polygon_geometry_feature.keys():\n",
    "                if new_poly.intersects(df_polygon_geometry_feature[key2])==True:\n",
    "                    new_poly = new_poly.difference(df_polygon_geometry_feature[key2])\n",
    "        poly_list.append(new_poly)\n",
    "    return(poly_list)\n",
    "\n",
    "def func_df(filepath):\n",
    "    df = gpd.read_file(filepath)\n",
    "\n",
    "    return(df)\n",
    "\n",
    "def polygon_df(filepath,features_list):\n",
    "    df = gpd.read_file(filepath)\n",
    "    #ON NE GARDE QUE LES FEATURES QUI SONT DU TYPE 'Polygon'\n",
    "    df=df[df[\"geometry\"].geom_type == 'Polygon']\n",
    "    \n",
    "    #LISTE DES NOUVEAUX POLYGONES, ROGNÉS ET MODIFIÉS QUE L'ON AJOUTERA DANS LA COLONNE 'geometry2'\n",
    "    poly_list=[]\n",
    "    \n",
    "    #PARCOURS DANS L'ORDRE DES 'Polygon'\n",
    "    for k in df.id.keys():\n",
    "        l = len(poly_list)\n",
    "        for feature_nb in range(len(features_list)):\n",
    "            poly_list = new_poly_append(k,feature_nb,df,poly_list)\n",
    "        #CE TEST SERT À SAVOIR SI NEW_POLY_APPEND A AJOUTÉ UN ELEMENT, SINON C'EST QUE LE POLYGON DE CLÉ K N'EST PAS UN FEATURE INTERESSANT   \n",
    "        if l == len(poly_list):\n",
    "            poly_list.append(df['geometry'][k])\n",
    "    df['geometry2']=poly_list\n",
    "    df['geometry2']=gpd.GeoDataFrame(df['geometry2'])\n",
    "    return(df)"
   ]
  },
  {
   "cell_type": "code",
   "execution_count": 99,
   "metadata": {},
   "outputs": [],
   "source": [
    "# Fonctions de création de masques par lecture du GeoJson\n",
    "# TO DO: V2 qui gère la superposition d'objets. \n",
    "# Idée: un petit objet inclut dans un autre doit avoir priorité sur l'affichage \n",
    "\n",
    "def poly_from_utm(polygon, transform):\n",
    "    #liste les points exterieurs du polygon\n",
    "    poly_pts = []\n",
    "    \n",
    "    #liste les 'trous' dans ce polygon sous forme de tuple\n",
    "    poly_holes = []\n",
    "   \n",
    "    exterior_coords = polygon.exterior.coords[:]\n",
    "    interior_coords = []\n",
    "    for interior in polygon.interiors:\n",
    "        interior_coords.append(tuple(interior.coords[:]))\n",
    "    \n",
    "    for i in np.array(exterior_coords):\n",
    "        poly_pts.append(~transform * tuple(i))\n",
    "\n",
    "    for hole in np.array(interior_coords):\n",
    "        hole_pts=[]\n",
    "        for k in hole:\n",
    "\n",
    "            hole_pts.append(tuple(~transform * tuple(k)))\n",
    "        poly_holes.append(tuple(hole_pts))\n",
    "    new_poly = Polygon(poly_pts,poly_holes)\n",
    "    return new_poly\n",
    "\n",
    "\n",
    "# creating binary mask for field/not_filed segmentation.\n",
    "def create_mask(features_list,src,df):\n",
    "    im_size = (src.meta['height'], src.meta['width'])\n",
    "    whole_mask = np.zeros([src.meta['height'],src.meta['width']])\n",
    "                \n",
    "    for i,f in enumerate(features_list):\n",
    "        poly_shp = []\n",
    "        data_geom = df[df['feattype'] == {'value': f}].geometry2\n",
    "        k = 0\n",
    "        for g in data_geom.values:\n",
    "\n",
    "            if g.geom_type == 'Polygon':\n",
    "                if not g.is_empty:\n",
    "\n",
    "                    poly = poly_from_utm(g, src.meta['transform'])\n",
    "                    poly_shp.append(poly)\n",
    "                    poly_shp_polygon = poly_shp\n",
    "            else:\n",
    "                for p in g:\n",
    "                    poly = poly_from_utm(p, src.meta['transform'])\n",
    "                    poly_shp.append(poly)\n",
    "\n",
    "        if poly_shp:\n",
    "            mask = rasterize(shapes=poly_shp,out_shape=im_size)*color_mapping[f]\n",
    "            whole_mask = whole_mask + mask\n",
    "    return whole_mask\n"
   ]
  },
  {
   "cell_type": "code",
   "execution_count": 101,
   "metadata": {
    "scrolled": true
   },
   "outputs": [
    {
     "name": "stdout",
     "output_type": "stream",
     "text": [
      "Pixel values: {0.0, 160.0, 248.0, 100.0, 70.0, 200.0, 10.0, 240.0, 50.0, 180.0, 120.0, 220.0, 255.0}\n",
      "(9299, 10400)\n"
     ]
    }
   ],
   "source": [
    "img_name = name_map+\"_ortho.tif\"\n",
    "directory = os.fsencode(path_GeoTIFF)\n",
    "\n",
    "poly_shp_test = []\n",
    "for file in os.listdir(directory):\n",
    "    filename = os.fsdecode(file)\n",
    "    if filename==img_name:\n",
    "        #print(path_GeoTIFF+\"{}\".format(filename))\n",
    "        with rasterio.open(path_GeoTIFF+\"{}\".format(filename)) as src:\n",
    "            img = src.read()\n",
    "            meta = src.meta\n",
    "            \n",
    "            df = polygon_df(filepath,features_list)\n",
    "\n",
    "            whole_mask= create_mask(features_list,src,df)\n",
    "            \n",
    "            whole_mask = draw_linestring(line_list,whole_mask,src.meta['transform'])\n",
    "            \n",
    "            # Just stores the different pixel values in the mask array, and print them.\n",
    "            a=set([])\n",
    "            \n",
    "            for row in whole_mask:\n",
    "                for elt in row:\n",
    "                    a.add(elt)\n",
    "            print(\"Pixel values: \"+str(a))\n",
    "            \n",
    "            # Just prints warning if two objects are superimposed\n",
    "            a.remove(0)\n",
    "            for elt in a:\n",
    "                boolean=False\n",
    "                for key in color_mapping:\n",
    "                    if(color_mapping[key] == elt):\n",
    "                        boolean=True;\n",
    "                if not boolean:\n",
    "                    print(\"A superposition was detected !\")\n",
    "                    \n",
    "            \n",
    "            \n",
    "            print(whole_mask.shape)\n",
    "            \n",
    "#             #Rescale to 0-255 and convert to uint8\n",
    "#             rescaled = (255.0 / data.max() * (data - data.min())).astype(np.uint8)\n",
    "\n",
    "            # Save numpy array into png mask 1 channel\n",
    "            cv2.imwrite(outfolder + '/masktest_{}.png'.format(img_name.split('_')[0]),whole_mask)\n"
   ]
  },
  {
   "cell_type": "markdown",
   "metadata": {},
   "source": [
    "# END OF CODE"
   ]
  },
  {
   "cell_type": "markdown",
   "metadata": {},
   "source": [
    "## Différents tests"
   ]
  },
  {
   "cell_type": "code",
   "execution_count": null,
   "metadata": {},
   "outputs": [],
   "source": [
    "print(poly_shp_multi2poly)\n",
    "#print(poly_shp_0)\n",
    "im_size=(6200,7400)\n",
    "mask = rasterize(shapes=poly_shp_multi2poly,out_shape=im_size)*color_mapping['Runway.runwayelement']\n",
    "#print(mask)\n",
    "#poly_shp[1]\n",
    "cv2.imwrite(outfolder + '/masktesttotal.png',mask)\n",
    "#poly_shp_polygon[1]"
   ]
  },
  {
   "cell_type": "code",
   "execution_count": null,
   "metadata": {},
   "outputs": [],
   "source": [
    "main_list=[]\n",
    "list_1=[(10.3880599184085, 43.6777942745563), (10.3877425683812, 43.6774866300529), (10.3877573619324, 43.6774786478598), (10.3880747119933, 43.6777862923223), (10.3880599184085, 43.6777942745563)]\n",
    "main_list.append(tuple(list_1))\n",
    "list_2=[(10.3880599184085, 43.6777942745563), (10.3877425683812, 43.6774866300529), (10.3877573619324, 43.6774786478598), (10.3880747119933, 43.6777862923223), (10.3880599184085, 43.6777942745563), (10.387513104236, 43.6772641811034), (10.3871944013245, 43.6769552181046), (10.3872091948176, 43.6769472359822), (10.3875278977629, 43.67725619894), (10.387513104236, 43.6772641811034)]\n",
    "main_list.append(tuple(set(list_2) - set(list_1)))\n",
    "print(main_list)"
   ]
  },
  {
   "cell_type": "code",
   "execution_count": null,
   "metadata": {},
   "outputs": [],
   "source": [
    "inputPolygon = Polygon(((0,0),(10,0),(10,10),(0,10)), (((1,3),(5,3),(5,1),(1,1)), ((9,9),(9,8),(8,8),(8,9))))\n",
    "polygonExterior = inputPolygon.exterior\n",
    "polygonInteriors = []\n",
    "for i in range(len(inputPolygon.interiors)):\n",
    "    # do the stuff with your polygons\n",
    "    polygonInteriors.append(inputPolygon.interiors[i])\n",
    "\n",
    "newPolygon = Polygon(polygonExterior, [[pt for pt in inner.coords] for inner in polygonInteriors])\n",
    "newPolygon"
   ]
  },
  {
   "cell_type": "code",
   "execution_count": 7,
   "metadata": {},
   "outputs": [
    {
     "data": {
      "text/html": [
       "<div>\n",
       "<style scoped>\n",
       "    .dataframe tbody tr th:only-of-type {\n",
       "        vertical-align: middle;\n",
       "    }\n",
       "\n",
       "    .dataframe tbody tr th {\n",
       "        vertical-align: top;\n",
       "    }\n",
       "\n",
       "    .dataframe thead th {\n",
       "        text-align: right;\n",
       "    }\n",
       "</style>\n",
       "<table border=\"1\" class=\"dataframe\">\n",
       "  <thead>\n",
       "    <tr style=\"text-align: right;\">\n",
       "      <th></th>\n",
       "      <th>id</th>\n",
       "      <th>feattype</th>\n",
       "      <th>label_id</th>\n",
       "      <th>name_id</th>\n",
       "      <th>aprontyp</th>\n",
       "      <th>docking</th>\n",
       "      <th>fuel</th>\n",
       "      <th>gndpower</th>\n",
       "      <th>idapron</th>\n",
       "      <th>jetway</th>\n",
       "      <th>...</th>\n",
       "      <th>wingspan</th>\n",
       "      <th>maxspeed</th>\n",
       "      <th>catstop</th>\n",
       "      <th>idlin</th>\n",
       "      <th>rwyahtxt</th>\n",
       "      <th>height</th>\n",
       "      <th>material</th>\n",
       "      <th>plysttyp</th>\n",
       "      <th>geometry</th>\n",
       "      <th>geometry2</th>\n",
       "    </tr>\n",
       "  </thead>\n",
       "  <tbody>\n",
       "  </tbody>\n",
       "</table>\n",
       "<p>0 rows × 22 columns</p>\n",
       "</div>"
      ],
      "text/plain": [
       "Empty GeoDataFrame\n",
       "Columns: [id, feattype, label_id, name_id, aprontyp, docking, fuel, gndpower, idapron, jetway, towing, featbase, wingspan, maxspeed, catstop, idlin, rwyahtxt, height, material, plysttyp, geometry, geometry2]\n",
       "Index: []\n",
       "\n",
       "[0 rows x 22 columns]"
      ]
     },
     "execution_count": 7,
     "metadata": {},
     "output_type": "execute_result"
    }
   ],
   "source": [
    "df=polygon_df(filepath,features_list)\n",
    "df[df['feattype']=={'value': 'Taxiway.taxiwayintersectionmarking'}]"
   ]
  },
  {
   "cell_type": "markdown",
   "metadata": {},
   "source": [
    "# OLD: exploration et manipulation d'un GeoJson"
   ]
  },
  {
   "cell_type": "markdown",
   "metadata": {},
   "source": [
    "### Open image with rasterio:"
   ]
  },
  {
   "cell_type": "code",
   "execution_count": null,
   "metadata": {},
   "outputs": [],
   "source": [
    "with rasterio.open(path_GeoTIFF+\"/\"+name_map+\"_ortho.tif\") as src:\n",
    "    img = src.read()\n",
    "    meta = src.meta\n",
    "\n",
    "img = reshape_as_image(img)\n",
    "\n"
   ]
  },
  {
   "cell_type": "markdown",
   "metadata": {},
   "source": [
    "### Read Geojson as  a dataframe:"
   ]
  },
  {
   "cell_type": "code",
   "execution_count": null,
   "metadata": {},
   "outputs": [],
   "source": [
    "def polygon_df(filepath):\n",
    "    df = gpd.read_file(filepath)\n",
    "    df = df.drop(columns=['originated', 'readonly',\n",
    "           'notvalidated', 'lock', 'elev', 'hacc', 'iata', 'name', 'idarpt',\n",
    "           'acft', 'idnumber', 'termref', 'pcn', 'restacft', 'status', 'surftype',\n",
    "           'length', 'width', 'color', 'direc', 'style', 'rwymktyp', 'asda',\n",
    "           'availPavedSurfFromThr', 'brngmag', 'brngtrue', 'cat', 'ellipse',\n",
    "           'geound', 'lda', 'rops_landing_length', 'rwyslope', 'tdze', 'tdzslope',\n",
    "           'thrtype', 'toda', 'tora', 'vasis', 'bridge', 'gsurftyp', 'runwayexit',\n",
    "           'imagery_date'])\n",
    "    \n",
    "    return df[df[\"geometry\"].geom_type == 'Polygon']"
   ]
  },
  {
   "cell_type": "markdown",
   "metadata": {},
   "source": [
    "#### Only polygon:"
   ]
  },
  {
   "cell_type": "code",
   "execution_count": null,
   "metadata": {},
   "outputs": [],
   "source": [
    "df = polygon_df(path_GeoJson+\"product_ADBLucem_\"+name_map+\"1905_02.json\")\n",
    "df['geometry'].head()"
   ]
  },
  {
   "cell_type": "markdown",
   "metadata": {},
   "source": [
    "### Liste des features contenues dans le GeoJSON"
   ]
  },
  {
   "cell_type": "code",
   "execution_count": 15,
   "metadata": {},
   "outputs": [
    {
     "name": "stdout",
     "output_type": "stream",
     "text": [
      "['Aerodrome.aerodromereferencepoint', 'Apron.apronelement', 'FinalApproachAndTakeOffArea.finalapproachandtakeoffarea', 'PaintedCenterline.paintedcenterline', 'ParkingStandArea.parkingstandarea', 'ParkingStandLocation.parkingstandlocation', 'Runway.runwayelement', 'Runway.runwayexitline', 'Runway.runwaymarking', 'Runway.runwayshoulder', 'Runway.runwaythreshold', 'ServiceRoad.serviceroad', 'StandGuidanceLine.standguidanceline', '0', 'Taxiway.taxiwayguidanceline', 'Taxiway.taxiwayholdingposition', 'Taxiway.taxiwayintersectionmarking', 'Taxiway.taxiwayshoulder', 'TouchDownLiftOffArea.touchdownliftoffarea', 'VerticalStructure.verticalpolygonalstructure', 'Water.water', 'ImageryData.imagerydata']\n"
     ]
    }
   ],
   "source": [
    "\n",
    "name_map='LFBO'\n",
    "img_name = name_map+\"_ortho.tif\"\n",
    "filepath = path_GeoJson#+\"product_ADBLucem_\"+name_map#+\"_1912_0\"+\".json\"\n",
    "\n",
    "files=[]\n",
    "for i in os.listdir(path_GeoJson):\n",
    "    if os.path.isfile(os.path.join(path_GeoJson,i)) and name_map in i:\n",
    "        files.append(i)\n",
    "\n",
    "with rasterio.open(path_GeoTIFF+\"{}\".format(img_name)) as src:\n",
    "    img = src.read()\n",
    "    meta = src.meta\n",
    "    #df = polygon_df(filepath,features_list)\n",
    "    df = func_df(filepath+files[0])\n",
    "\n",
    "\n",
    "features_list = []\n",
    "for e in df['feattype']:\n",
    "    if e['value'] not in features_list:\n",
    "        features_list.append(e['value'])\n",
    "\n",
    "print(features_list)"
   ]
  },
  {
   "cell_type": "code",
   "execution_count": 96,
   "metadata": {},
   "outputs": [
    {
     "ename": "IndexError",
     "evalue": "index 1622 is out of bounds for axis 0 with size 0",
     "output_type": "error",
     "traceback": [
      "\u001b[0;31m---------------------------------------------------------------------------\u001b[0m",
      "\u001b[0;31mKeyError\u001b[0m                                  Traceback (most recent call last)",
      "\u001b[0;32m~/.local/lib/python3.7/site-packages/pandas/core/indexes/base.py\u001b[0m in \u001b[0;36mget_loc\u001b[0;34m(self, key, method, tolerance)\u001b[0m\n\u001b[1;32m   2896\u001b[0m             \u001b[0;32mtry\u001b[0m\u001b[0;34m:\u001b[0m\u001b[0;34m\u001b[0m\u001b[0;34m\u001b[0m\u001b[0m\n\u001b[0;32m-> 2897\u001b[0;31m                 \u001b[0;32mreturn\u001b[0m \u001b[0mself\u001b[0m\u001b[0;34m.\u001b[0m\u001b[0m_engine\u001b[0m\u001b[0;34m.\u001b[0m\u001b[0mget_loc\u001b[0m\u001b[0;34m(\u001b[0m\u001b[0mkey\u001b[0m\u001b[0;34m)\u001b[0m\u001b[0;34m\u001b[0m\u001b[0;34m\u001b[0m\u001b[0m\n\u001b[0m\u001b[1;32m   2898\u001b[0m             \u001b[0;32mexcept\u001b[0m \u001b[0mKeyError\u001b[0m\u001b[0;34m:\u001b[0m\u001b[0;34m\u001b[0m\u001b[0;34m\u001b[0m\u001b[0m\n",
      "\u001b[0;32mpandas/_libs/index.pyx\u001b[0m in \u001b[0;36mpandas._libs.index.IndexEngine.get_loc\u001b[0;34m()\u001b[0m\n",
      "\u001b[0;32mpandas/_libs/index.pyx\u001b[0m in \u001b[0;36mpandas._libs.index.IndexEngine.get_loc\u001b[0;34m()\u001b[0m\n",
      "\u001b[0;32mpandas/_libs/hashtable_class_helper.pxi\u001b[0m in \u001b[0;36mpandas._libs.hashtable.Int64HashTable.get_item\u001b[0;34m()\u001b[0m\n",
      "\u001b[0;32mpandas/_libs/hashtable_class_helper.pxi\u001b[0m in \u001b[0;36mpandas._libs.hashtable.Int64HashTable.get_item\u001b[0;34m()\u001b[0m\n",
      "\u001b[0;31mKeyError\u001b[0m: 1622",
      "\nDuring handling of the above exception, another exception occurred:\n",
      "\u001b[0;31mKeyError\u001b[0m                                  Traceback (most recent call last)",
      "\u001b[0;32m~/.local/lib/python3.7/site-packages/pandas/core/indexes/base.py\u001b[0m in \u001b[0;36mget_value\u001b[0;34m(self, series, key)\u001b[0m\n\u001b[1;32m   4716\u001b[0m             \u001b[0;32mtry\u001b[0m\u001b[0;34m:\u001b[0m\u001b[0;34m\u001b[0m\u001b[0;34m\u001b[0m\u001b[0m\n\u001b[0;32m-> 4717\u001b[0;31m                 \u001b[0miloc\u001b[0m \u001b[0;34m=\u001b[0m \u001b[0mself\u001b[0m\u001b[0;34m.\u001b[0m\u001b[0mget_loc\u001b[0m\u001b[0;34m(\u001b[0m\u001b[0mkey\u001b[0m\u001b[0;34m)\u001b[0m\u001b[0;34m\u001b[0m\u001b[0;34m\u001b[0m\u001b[0m\n\u001b[0m\u001b[1;32m   4718\u001b[0m                 \u001b[0;32mreturn\u001b[0m \u001b[0ms\u001b[0m\u001b[0;34m[\u001b[0m\u001b[0miloc\u001b[0m\u001b[0;34m]\u001b[0m\u001b[0;34m\u001b[0m\u001b[0;34m\u001b[0m\u001b[0m\n",
      "\u001b[0;32m~/.local/lib/python3.7/site-packages/pandas/core/indexes/base.py\u001b[0m in \u001b[0;36mget_loc\u001b[0;34m(self, key, method, tolerance)\u001b[0m\n\u001b[1;32m   2898\u001b[0m             \u001b[0;32mexcept\u001b[0m \u001b[0mKeyError\u001b[0m\u001b[0;34m:\u001b[0m\u001b[0;34m\u001b[0m\u001b[0;34m\u001b[0m\u001b[0m\n\u001b[0;32m-> 2899\u001b[0;31m                 \u001b[0;32mreturn\u001b[0m \u001b[0mself\u001b[0m\u001b[0;34m.\u001b[0m\u001b[0m_engine\u001b[0m\u001b[0;34m.\u001b[0m\u001b[0mget_loc\u001b[0m\u001b[0;34m(\u001b[0m\u001b[0mself\u001b[0m\u001b[0;34m.\u001b[0m\u001b[0m_maybe_cast_indexer\u001b[0m\u001b[0;34m(\u001b[0m\u001b[0mkey\u001b[0m\u001b[0;34m)\u001b[0m\u001b[0;34m)\u001b[0m\u001b[0;34m\u001b[0m\u001b[0;34m\u001b[0m\u001b[0m\n\u001b[0m\u001b[1;32m   2900\u001b[0m         \u001b[0mindexer\u001b[0m \u001b[0;34m=\u001b[0m \u001b[0mself\u001b[0m\u001b[0;34m.\u001b[0m\u001b[0mget_indexer\u001b[0m\u001b[0;34m(\u001b[0m\u001b[0;34m[\u001b[0m\u001b[0mkey\u001b[0m\u001b[0;34m]\u001b[0m\u001b[0;34m,\u001b[0m \u001b[0mmethod\u001b[0m\u001b[0;34m=\u001b[0m\u001b[0mmethod\u001b[0m\u001b[0;34m,\u001b[0m \u001b[0mtolerance\u001b[0m\u001b[0;34m=\u001b[0m\u001b[0mtolerance\u001b[0m\u001b[0;34m)\u001b[0m\u001b[0;34m\u001b[0m\u001b[0;34m\u001b[0m\u001b[0m\n",
      "\u001b[0;32mpandas/_libs/index.pyx\u001b[0m in \u001b[0;36mpandas._libs.index.IndexEngine.get_loc\u001b[0;34m()\u001b[0m\n",
      "\u001b[0;32mpandas/_libs/index.pyx\u001b[0m in \u001b[0;36mpandas._libs.index.IndexEngine.get_loc\u001b[0;34m()\u001b[0m\n",
      "\u001b[0;32mpandas/_libs/hashtable_class_helper.pxi\u001b[0m in \u001b[0;36mpandas._libs.hashtable.Int64HashTable.get_item\u001b[0;34m()\u001b[0m\n",
      "\u001b[0;32mpandas/_libs/hashtable_class_helper.pxi\u001b[0m in \u001b[0;36mpandas._libs.hashtable.Int64HashTable.get_item\u001b[0;34m()\u001b[0m\n",
      "\u001b[0;31mKeyError\u001b[0m: 1622",
      "\nDuring handling of the above exception, another exception occurred:\n",
      "\u001b[0;31mIndexError\u001b[0m                                Traceback (most recent call last)",
      "\u001b[0;32m<ipython-input-96-b9a8ef912ae9>\u001b[0m in \u001b[0;36m<module>\u001b[0;34m\u001b[0m\n\u001b[0;32m----> 1\u001b[0;31m \u001b[0mnp\u001b[0m\u001b[0;34m.\u001b[0m\u001b[0marray\u001b[0m\u001b[0;34m(\u001b[0m\u001b[0mdf\u001b[0m\u001b[0;34m[\u001b[0m\u001b[0mdf\u001b[0m\u001b[0;34m[\u001b[0m\u001b[0;34m'feattype'\u001b[0m\u001b[0;34m]\u001b[0m\u001b[0;34m==\u001b[0m\u001b[0;34m{\u001b[0m\u001b[0;34m'value'\u001b[0m\u001b[0;34m:\u001b[0m\u001b[0;34m'Taxiway.taxiwayguidanceline'\u001b[0m\u001b[0;34m}\u001b[0m\u001b[0;34m]\u001b[0m\u001b[0;34m.\u001b[0m\u001b[0mgeometry\u001b[0m\u001b[0;34m[\u001b[0m\u001b[0;36m1622\u001b[0m\u001b[0;34m]\u001b[0m\u001b[0;34m.\u001b[0m\u001b[0mcoords\u001b[0m\u001b[0;34m[\u001b[0m\u001b[0;36m1\u001b[0m\u001b[0;34m]\u001b[0m\u001b[0;34m)\u001b[0m\u001b[0;34m\u001b[0m\u001b[0;34m\u001b[0m\u001b[0m\n\u001b[0m",
      "\u001b[0;32m~/anaconda3/lib/python3.7/site-packages/geopandas/geoseries.py\u001b[0m in \u001b[0;36m__getitem__\u001b[0;34m(self, key)\u001b[0m\n\u001b[1;32m    231\u001b[0m \u001b[0;34m\u001b[0m\u001b[0m\n\u001b[1;32m    232\u001b[0m     \u001b[0;32mdef\u001b[0m \u001b[0m__getitem__\u001b[0m\u001b[0;34m(\u001b[0m\u001b[0mself\u001b[0m\u001b[0;34m,\u001b[0m \u001b[0mkey\u001b[0m\u001b[0;34m)\u001b[0m\u001b[0;34m:\u001b[0m\u001b[0;34m\u001b[0m\u001b[0;34m\u001b[0m\u001b[0m\n\u001b[0;32m--> 233\u001b[0;31m         \u001b[0;32mreturn\u001b[0m \u001b[0mself\u001b[0m\u001b[0;34m.\u001b[0m\u001b[0m_wrapped_pandas_method\u001b[0m\u001b[0;34m(\u001b[0m\u001b[0;34m\"__getitem__\"\u001b[0m\u001b[0;34m,\u001b[0m \u001b[0mkey\u001b[0m\u001b[0;34m)\u001b[0m\u001b[0;34m\u001b[0m\u001b[0;34m\u001b[0m\u001b[0m\n\u001b[0m\u001b[1;32m    234\u001b[0m \u001b[0;34m\u001b[0m\u001b[0m\n\u001b[1;32m    235\u001b[0m     \u001b[0;32mdef\u001b[0m \u001b[0msort_index\u001b[0m\u001b[0;34m(\u001b[0m\u001b[0mself\u001b[0m\u001b[0;34m,\u001b[0m \u001b[0;34m*\u001b[0m\u001b[0margs\u001b[0m\u001b[0;34m,\u001b[0m \u001b[0;34m**\u001b[0m\u001b[0mkwargs\u001b[0m\u001b[0;34m)\u001b[0m\u001b[0;34m:\u001b[0m\u001b[0;34m\u001b[0m\u001b[0;34m\u001b[0m\u001b[0m\n",
      "\u001b[0;32m~/anaconda3/lib/python3.7/site-packages/geopandas/geoseries.py\u001b[0m in \u001b[0;36m_wrapped_pandas_method\u001b[0;34m(self, mtd, *args, **kwargs)\u001b[0m\n\u001b[1;32m    223\u001b[0m     \u001b[0;32mdef\u001b[0m \u001b[0m_wrapped_pandas_method\u001b[0m\u001b[0;34m(\u001b[0m\u001b[0mself\u001b[0m\u001b[0;34m,\u001b[0m \u001b[0mmtd\u001b[0m\u001b[0;34m,\u001b[0m \u001b[0;34m*\u001b[0m\u001b[0margs\u001b[0m\u001b[0;34m,\u001b[0m \u001b[0;34m**\u001b[0m\u001b[0mkwargs\u001b[0m\u001b[0;34m)\u001b[0m\u001b[0;34m:\u001b[0m\u001b[0;34m\u001b[0m\u001b[0;34m\u001b[0m\u001b[0m\n\u001b[1;32m    224\u001b[0m         \u001b[0;34m\"\"\"Wrap a generic pandas method to ensure it returns a GeoSeries\"\"\"\u001b[0m\u001b[0;34m\u001b[0m\u001b[0;34m\u001b[0m\u001b[0m\n\u001b[0;32m--> 225\u001b[0;31m         \u001b[0mval\u001b[0m \u001b[0;34m=\u001b[0m \u001b[0mgetattr\u001b[0m\u001b[0;34m(\u001b[0m\u001b[0msuper\u001b[0m\u001b[0;34m(\u001b[0m\u001b[0mGeoSeries\u001b[0m\u001b[0;34m,\u001b[0m \u001b[0mself\u001b[0m\u001b[0;34m)\u001b[0m\u001b[0;34m,\u001b[0m \u001b[0mmtd\u001b[0m\u001b[0;34m)\u001b[0m\u001b[0;34m(\u001b[0m\u001b[0;34m*\u001b[0m\u001b[0margs\u001b[0m\u001b[0;34m,\u001b[0m \u001b[0;34m**\u001b[0m\u001b[0mkwargs\u001b[0m\u001b[0;34m)\u001b[0m\u001b[0;34m\u001b[0m\u001b[0;34m\u001b[0m\u001b[0m\n\u001b[0m\u001b[1;32m    226\u001b[0m         \u001b[0;32mif\u001b[0m \u001b[0mtype\u001b[0m\u001b[0;34m(\u001b[0m\u001b[0mval\u001b[0m\u001b[0;34m)\u001b[0m \u001b[0;34m==\u001b[0m \u001b[0mSeries\u001b[0m\u001b[0;34m:\u001b[0m\u001b[0;34m\u001b[0m\u001b[0;34m\u001b[0m\u001b[0m\n\u001b[1;32m    227\u001b[0m             \u001b[0mval\u001b[0m\u001b[0;34m.\u001b[0m\u001b[0m__class__\u001b[0m \u001b[0;34m=\u001b[0m \u001b[0mGeoSeries\u001b[0m\u001b[0;34m\u001b[0m\u001b[0;34m\u001b[0m\u001b[0m\n",
      "\u001b[0;32m~/.local/lib/python3.7/site-packages/pandas/core/series.py\u001b[0m in \u001b[0;36m__getitem__\u001b[0;34m(self, key)\u001b[0m\n\u001b[1;32m   1069\u001b[0m         \u001b[0mkey\u001b[0m \u001b[0;34m=\u001b[0m \u001b[0mcom\u001b[0m\u001b[0;34m.\u001b[0m\u001b[0mapply_if_callable\u001b[0m\u001b[0;34m(\u001b[0m\u001b[0mkey\u001b[0m\u001b[0;34m,\u001b[0m \u001b[0mself\u001b[0m\u001b[0;34m)\u001b[0m\u001b[0;34m\u001b[0m\u001b[0;34m\u001b[0m\u001b[0m\n\u001b[1;32m   1070\u001b[0m         \u001b[0;32mtry\u001b[0m\u001b[0;34m:\u001b[0m\u001b[0;34m\u001b[0m\u001b[0;34m\u001b[0m\u001b[0m\n\u001b[0;32m-> 1071\u001b[0;31m             \u001b[0mresult\u001b[0m \u001b[0;34m=\u001b[0m \u001b[0mself\u001b[0m\u001b[0;34m.\u001b[0m\u001b[0mindex\u001b[0m\u001b[0;34m.\u001b[0m\u001b[0mget_value\u001b[0m\u001b[0;34m(\u001b[0m\u001b[0mself\u001b[0m\u001b[0;34m,\u001b[0m \u001b[0mkey\u001b[0m\u001b[0;34m)\u001b[0m\u001b[0;34m\u001b[0m\u001b[0;34m\u001b[0m\u001b[0m\n\u001b[0m\u001b[1;32m   1072\u001b[0m \u001b[0;34m\u001b[0m\u001b[0m\n\u001b[1;32m   1073\u001b[0m             \u001b[0;32mif\u001b[0m \u001b[0;32mnot\u001b[0m \u001b[0mis_scalar\u001b[0m\u001b[0;34m(\u001b[0m\u001b[0mresult\u001b[0m\u001b[0;34m)\u001b[0m\u001b[0;34m:\u001b[0m\u001b[0;34m\u001b[0m\u001b[0;34m\u001b[0m\u001b[0m\n",
      "\u001b[0;32m~/.local/lib/python3.7/site-packages/pandas/core/indexes/base.py\u001b[0m in \u001b[0;36mget_value\u001b[0;34m(self, series, key)\u001b[0m\n\u001b[1;32m   4721\u001b[0m                     \u001b[0;32mraise\u001b[0m\u001b[0;34m\u001b[0m\u001b[0;34m\u001b[0m\u001b[0m\n\u001b[1;32m   4722\u001b[0m                 \u001b[0;32melif\u001b[0m \u001b[0mis_integer\u001b[0m\u001b[0;34m(\u001b[0m\u001b[0mkey\u001b[0m\u001b[0;34m)\u001b[0m\u001b[0;34m:\u001b[0m\u001b[0;34m\u001b[0m\u001b[0;34m\u001b[0m\u001b[0m\n\u001b[0;32m-> 4723\u001b[0;31m                     \u001b[0;32mreturn\u001b[0m \u001b[0ms\u001b[0m\u001b[0;34m[\u001b[0m\u001b[0mkey\u001b[0m\u001b[0;34m]\u001b[0m\u001b[0;34m\u001b[0m\u001b[0;34m\u001b[0m\u001b[0m\n\u001b[0m\u001b[1;32m   4724\u001b[0m \u001b[0;34m\u001b[0m\u001b[0m\n\u001b[1;32m   4725\u001b[0m         \u001b[0ms\u001b[0m \u001b[0;34m=\u001b[0m \u001b[0mcom\u001b[0m\u001b[0;34m.\u001b[0m\u001b[0mvalues_from_object\u001b[0m\u001b[0;34m(\u001b[0m\u001b[0mseries\u001b[0m\u001b[0;34m)\u001b[0m\u001b[0;34m\u001b[0m\u001b[0;34m\u001b[0m\u001b[0m\n",
      "\u001b[0;32m~/anaconda3/lib/python3.7/site-packages/geopandas/array.py\u001b[0m in \u001b[0;36m__getitem__\u001b[0;34m(self, idx)\u001b[0m\n\u001b[1;32m    432\u001b[0m     \u001b[0;32mdef\u001b[0m \u001b[0m__getitem__\u001b[0m\u001b[0;34m(\u001b[0m\u001b[0mself\u001b[0m\u001b[0;34m,\u001b[0m \u001b[0midx\u001b[0m\u001b[0;34m)\u001b[0m\u001b[0;34m:\u001b[0m\u001b[0;34m\u001b[0m\u001b[0;34m\u001b[0m\u001b[0m\n\u001b[1;32m    433\u001b[0m         \u001b[0;32mif\u001b[0m \u001b[0misinstance\u001b[0m\u001b[0;34m(\u001b[0m\u001b[0midx\u001b[0m\u001b[0;34m,\u001b[0m \u001b[0mnumbers\u001b[0m\u001b[0;34m.\u001b[0m\u001b[0mIntegral\u001b[0m\u001b[0;34m)\u001b[0m\u001b[0;34m:\u001b[0m\u001b[0;34m\u001b[0m\u001b[0;34m\u001b[0m\u001b[0m\n\u001b[0;32m--> 434\u001b[0;31m             \u001b[0;32mreturn\u001b[0m \u001b[0mself\u001b[0m\u001b[0;34m.\u001b[0m\u001b[0mdata\u001b[0m\u001b[0;34m[\u001b[0m\u001b[0midx\u001b[0m\u001b[0;34m]\u001b[0m\u001b[0;34m\u001b[0m\u001b[0;34m\u001b[0m\u001b[0m\n\u001b[0m\u001b[1;32m    435\u001b[0m         \u001b[0;32melif\u001b[0m \u001b[0misinstance\u001b[0m\u001b[0;34m(\u001b[0m\u001b[0midx\u001b[0m\u001b[0;34m,\u001b[0m \u001b[0;34m(\u001b[0m\u001b[0mIterable\u001b[0m\u001b[0;34m,\u001b[0m \u001b[0mslice\u001b[0m\u001b[0;34m)\u001b[0m\u001b[0;34m)\u001b[0m\u001b[0;34m:\u001b[0m\u001b[0;34m\u001b[0m\u001b[0;34m\u001b[0m\u001b[0m\n\u001b[1;32m    436\u001b[0m             \u001b[0;32mreturn\u001b[0m \u001b[0mGeometryArray\u001b[0m\u001b[0;34m(\u001b[0m\u001b[0mself\u001b[0m\u001b[0;34m.\u001b[0m\u001b[0mdata\u001b[0m\u001b[0;34m[\u001b[0m\u001b[0midx\u001b[0m\u001b[0;34m]\u001b[0m\u001b[0;34m)\u001b[0m\u001b[0;34m\u001b[0m\u001b[0;34m\u001b[0m\u001b[0m\n",
      "\u001b[0;31mIndexError\u001b[0m: index 1622 is out of bounds for axis 0 with size 0"
     ]
    }
   ],
   "source": [
    "np.array(df[df['feattype']=={'value':'Taxiway.taxiwayguidanceline'}].geometry[1622].coords[1])"
   ]
  },
  {
   "cell_type": "markdown",
   "metadata": {},
   "source": [
    "### Présence de chaque feature dans le dataset"
   ]
  },
  {
   "cell_type": "code",
   "execution_count": 58,
   "metadata": {
    "scrolled": true
   },
   "outputs": [
    {
     "name": "stdout",
     "output_type": "stream",
     "text": [
      "Dans notre dataset total, le feature Runway.runwayelement apparait 43 fois\n"
     ]
    }
   ],
   "source": [
    "f='Runway.runwayelement'\n",
    "compteur = 0\n",
    "for i in os.listdir(path_GeoJson):\n",
    "    if i.startswith('product'):\n",
    "        df = func_df(filepath+i)\n",
    "\n",
    "        deja_vu=False\n",
    "        for e in df['feattype']:\n",
    "            if e['value'] == f and not deja_vu:\n",
    "                compteur+=1\n",
    "                #comment following line if we want to know how many features are there in the total dataset\n",
    "                #deja_vu=True\n",
    "\n",
    "print('Dans notre dataset total, le feature '+str(f)+' apparait '+str(compteur)+' fois')"
   ]
  },
  {
   "cell_type": "code",
   "execution_count": 72,
   "metadata": {},
   "outputs": [
    {
     "data": {
      "text/html": [
       "<div>\n",
       "<style scoped>\n",
       "    .dataframe tbody tr th:only-of-type {\n",
       "        vertical-align: middle;\n",
       "    }\n",
       "\n",
       "    .dataframe tbody tr th {\n",
       "        vertical-align: top;\n",
       "    }\n",
       "\n",
       "    .dataframe thead th {\n",
       "        text-align: right;\n",
       "    }\n",
       "</style>\n",
       "<table border=\"1\" class=\"dataframe\">\n",
       "  <thead>\n",
       "    <tr style=\"text-align: right;\">\n",
       "      <th></th>\n",
       "      <th>id</th>\n",
       "      <th>feattype</th>\n",
       "      <th>label_id</th>\n",
       "      <th>name_id</th>\n",
       "      <th>originated</th>\n",
       "      <th>readonly</th>\n",
       "      <th>notvalidated</th>\n",
       "      <th>lock</th>\n",
       "      <th>elev</th>\n",
       "      <th>hacc</th>\n",
       "      <th>...</th>\n",
       "      <th>runwayexit</th>\n",
       "      <th>maxspeed</th>\n",
       "      <th>catstop</th>\n",
       "      <th>idlin</th>\n",
       "      <th>rwyahtxt</th>\n",
       "      <th>height</th>\n",
       "      <th>material</th>\n",
       "      <th>plysttyp</th>\n",
       "      <th>imagery_date</th>\n",
       "      <th>geometry</th>\n",
       "    </tr>\n",
       "  </thead>\n",
       "  <tbody>\n",
       "  </tbody>\n",
       "</table>\n",
       "<p>0 rows × 63 columns</p>\n",
       "</div>"
      ],
      "text/plain": [
       "Empty GeoDataFrame\n",
       "Columns: [id, feattype, label_id, name_id, originated, readonly, notvalidated, lock, elev, hacc, iata, name, aprontyp, gsurftyp, idarpt, pcn, restacft, status, docking, fuel, gndpower, idapron, jetway, termref, towing, acft, idnumber, surftype, length, width, color, direc, style, rwymktyp, asda, availPavedSurfFromThr, brngmag, brngtrue, cat, ellipse, geound, lda, rops_landing_length, rwyslope, tdze, tdzslope, thrtype, toda, tora, vasis, featbase, wingspan, bridge, runwayexit, maxspeed, catstop, idlin, rwyahtxt, height, material, plysttyp, imagery_date, geometry]\n",
       "Index: []\n",
       "\n",
       "[0 rows x 63 columns]"
      ]
     },
     "execution_count": 72,
     "metadata": {},
     "output_type": "execute_result"
    }
   ],
   "source": [
    "df[df['feattype']=='Taxiway.taxiwayintersectionmarking']"
   ]
  },
  {
   "cell_type": "code",
   "execution_count": null,
   "metadata": {},
   "outputs": [],
   "source": [
    "from shapely.geometry import Polygon\n",
    "p1 = Polygon([(0,0), (1,1), (1,0)])\n",
    "p2 = Polygon([(0,1), (1,0), (1,1)])\n",
    "print(p1.intersects(p2))"
   ]
  },
  {
   "cell_type": "code",
   "execution_count": null,
   "metadata": {},
   "outputs": [],
   "source": []
  },
  {
   "cell_type": "code",
   "execution_count": null,
   "metadata": {},
   "outputs": [],
   "source": []
  },
  {
   "cell_type": "code",
   "execution_count": null,
   "metadata": {},
   "outputs": [],
   "source": []
  },
  {
   "cell_type": "code",
   "execution_count": null,
   "metadata": {},
   "outputs": [],
   "source": []
  },
  {
   "cell_type": "code",
   "execution_count": null,
   "metadata": {},
   "outputs": [],
   "source": [
    "from shapely.geometry import Polygon\n",
    "\n",
    "p = Polygon([(1,1),(2,2),(4,2),(3,1)])\n",
    "q = Polygon([(1.5,2),(3,5),(5,4),(3.5,1)])\n",
    "print(p.intersects(q))  # True\n",
    "print(p.intersection(q).area)  # 1.0\n",
    "x = p.intersection(q)\n",
    "print(x)"
   ]
  },
  {
   "cell_type": "code",
   "execution_count": null,
   "metadata": {},
   "outputs": [],
   "source": []
  },
  {
   "cell_type": "code",
   "execution_count": null,
   "metadata": {},
   "outputs": [],
   "source": [
    "# multipol1 and multipol2 are my shapely MultiPolygons\n",
    "from shapely.ops import cascaded_union\n",
    "from itertools import combinations\n",
    "from shapely.geometry import Polygon\n",
    "\n",
    "print(data_geom[517])\n",
    "outmulti = []\n",
    "#for pol in data_geom:\n",
    "#    for pol2 in data_geom2:\n",
    "pol=data_geom[517]\n",
    "pol2=pol\n",
    "if pol.intersects(pol2)==True:\n",
    "    print(True)\n",
    "    # If they intersect, create a new polygon that is\n",
    "    # essentially pol minus the intersection\n",
    "    nonoverlap = (pol.symmetric_difference(pol2)).difference(pol2)\n",
    "    outmulti.append(nonoverlap)\n",
    "    \n",
    "    print(nonoverlap.is_empty)\n",
    "else:\n",
    "    # Otherwise, just keep the initial polygon as it is.\n",
    "    outmulti.append(pol)\n",
    "print(data_geom[517])\n",
    "#finalpol = MultiPolygon(outmulti)"
   ]
  },
  {
   "cell_type": "code",
   "execution_count": null,
   "metadata": {},
   "outputs": [],
   "source": []
  }
 ],
 "metadata": {
  "kernelspec": {
   "display_name": "Python 3",
   "language": "python",
   "name": "python3"
  },
  "language_info": {
   "codemirror_mode": {
    "name": "ipython",
    "version": 3
   },
   "file_extension": ".py",
   "mimetype": "text/x-python",
   "name": "python",
   "nbconvert_exporter": "python",
   "pygments_lexer": "ipython3",
   "version": "3.7.4"
  }
 },
 "nbformat": 4,
 "nbformat_minor": 2
}
