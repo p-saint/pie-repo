{
 "cells": [
  {
   "cell_type": "code",
   "execution_count": 9,
   "metadata": {},
   "outputs": [],
   "source": [
    "import os\n",
    "import json\n",
    "import math\n",
    "import rasterio\n",
    "from rasterio.plot import reshape_as_image\n",
    "import rasterio.mask\n",
    "from rasterio.features import rasterize\n",
    "import matplotlib\n",
    "import matplotlib.pyplot as plt\n",
    "import cv2\n",
    "import pandas as pd\n",
    "import geopandas as gpd\n",
    "from shapely.geometry import mapping, Point, Polygon\n",
    "from shapely.ops import cascaded_union\n",
    "import numpy as np\n",
    "import PIL\n",
    "import matplotlib.pyplot as plt\n"
   ]
  },
  {
   "cell_type": "markdown",
   "metadata": {},
   "source": [
    "# Création d'un masque à partir du GeoJson et d'une liste de features\n",
    "\n",
    "- Cette version traite une image à la fois. \n",
    "**V2 possible: prendre en entrée un fichier texte contenant les noms des cartes à traiter**\n",
    "- On considère une liste donnée de feattypes donnée plus bas\n",
    "- Le masque en sortie est un png de la même taille que le GeoTIFF en entrée, codé sur un canal 8 bits\n",
    "- Si un pixel appartient à au moins deux objets, il prend la valeur de pixel somme \n",
    "**V2 possible: donner une règle de priorité entre les types d'objet: qui passe devant qui ? ex runway marking devant runwayelement.**\n"
   ]
  },
  {
   "cell_type": "code",
   "execution_count": 10,
   "metadata": {},
   "outputs": [],
   "source": [
    "# A MODIFIER AVEC LES BONS CHEMINS POUR RUN LE CODE SUR VOTRE MACHINE\n",
    "\n",
    "path_GeoTIFF = \"/Users/salimbaddou/PIE/Airport_Feature_Auto_Detection/GeoTIFF/\"\n",
    "path_GeoJson = \"/Users/salimbaddou/PIE/Airport_Feature_Auto_Detection/GeoJson/\"\n",
    "path_data = \"/Users/salimbaddou/PIE/data2\"\n",
    "\n",
    "#image considérée\n",
    "name_map = \"VHHH\"\n",
    "\n",
    "#chemin de sortie pour le masque png\n",
    "outfolder = \"/Users/salimbaddou/PIE\"  \n",
    "os.makedirs(outfolder, exist_ok=True)"
   ]
  },
  {
   "cell_type": "code",
   "execution_count": 11,
   "metadata": {},
   "outputs": [],
   "source": [
    "# Liste des features d'intérêt et color mapping (1 canal nuances de gris de 1 à 255, 0 est background)\n",
    "color_mapping = {\n",
    "    'Apron.apronelement': 1,\n",
    "    'Runway.runwayelement': 2,\n",
    "    'ServiceRoad.serviceroad': 3,\n",
    "}\n",
    "features_list = ['Apron.apronelement','Runway.runwayelement','ServiceRoad.serviceroad']"
   ]
  },
  {
   "cell_type": "code",
   "execution_count": 25,
   "metadata": {},
   "outputs": [],
   "source": [
    "# Fonctions de création de masques par lecture du GeoJson\n",
    "# TO DO: V2 qui gère la superposition d'objets. Idée: un petit objet inclut dans un autre doit avoir priorité sur l'affichage \n",
    "\n",
    "def poly_from_utm(polygon, transform):\n",
    "    poly_pts = []\n",
    "    \n",
    "    # make a polygon from multipolygon\n",
    "    poly = cascaded_union(polygon)\n",
    "    for i in np.array(poly.exterior.coords):\n",
    "        \n",
    "        # transfrom polygon to image crs, using raster meta\n",
    "        poly_pts.append(~transform * tuple(i))\n",
    "        \n",
    "    # make a shapely Polygon object\n",
    "    new_poly = Polygon(poly_pts)\n",
    "    return new_poly\n",
    "\n",
    "# creating binary mask for field/not_filed segmentation.\n",
    "def create_mask(features_list,src,df):\n",
    "    nb_class=len(features_list)\n",
    "    im_size = (src.meta['height'], src.meta['width'])\n",
    "    whole_mask = np.zeros([src.meta['height'],src.meta['width']])\n",
    "\n",
    "    for i,f in enumerate(features_list):\n",
    "        poly_shp = []\n",
    "        data_geom = df[df['feattype'] == {'value': f}].geometry\n",
    "        for g in data_geom.values:\n",
    "\n",
    "            poly = poly_from_utm(g, src.meta['transform'])\n",
    "            poly_shp.append(poly)\n",
    "\n",
    "            if g.geom_type == 'Polygon':\n",
    "                poly = poly_from_utm(g, src.meta['transform'])\n",
    "                poly_shp.append(poly)\n",
    "            else:\n",
    "                for p in g:\n",
    "                    poly = poly_from_utm(p, src.meta['transform'])\n",
    "                    poly_shp.append(poly)\n",
    "        if poly_shp:\n",
    "            mask = rasterize(shapes=poly_shp,out_shape=im_size)*color_mapping[f]\n",
    "            #print(mask.shape)\n",
    "            whole_mask = whole_mask + mask\n",
    "           \n",
    "    return whole_mask\n",
    "\n",
    "def create_mask_multi_channel(features_list,src,df):\n",
    "    nb_class=len(features_list) +1\n",
    "    im_size = (src.meta['height'], src.meta['width'])\n",
    "    whole_mask = np.zeros([src.meta['height'],src.meta['width'],nb_class])\n",
    "\n",
    "    for i,f in enumerate(features_list):\n",
    "        poly_shp = []\n",
    "        data_geom = df[df['feattype'] == {'value': f}].geometry\n",
    "        for g in data_geom.values:\n",
    "\n",
    "            poly = poly_from_utm(g, src.meta['transform'])\n",
    "            poly_shp.append(poly)\n",
    "\n",
    "            if g.geom_type == 'Polygon':\n",
    "                poly = poly_from_utm(g, src.meta['transform'])\n",
    "                poly_shp.append(poly)\n",
    "            else:\n",
    "                for p in g:\n",
    "                    poly = poly_from_utm(p, src.meta['transform'])\n",
    "                    poly_shp.append(poly)\n",
    "        if poly_shp:\n",
    "            mask = rasterize(shapes=poly_shp,out_shape=im_size)*color_mapping[f]\n",
    "            #print(mask.shape)\n",
    "            whole_mask[:,:,i + 1] = mask\n",
    "           \n",
    "    return whole_mask\n"
   ]
  },
  {
   "cell_type": "code",
   "execution_count": 26,
   "metadata": {},
   "outputs": [
    {
     "name": "stdout",
     "output_type": "stream",
     "text": [
      "(12700, 19699, 4)\n"
     ]
    }
   ],
   "source": [
    "img_name = name_map+\"_ortho.tif\"\n",
    "directory = os.fsencode(path_GeoTIFF)\n",
    "\n",
    "for file in os.listdir(directory):\n",
    "    \n",
    "    filename = os.fsdecode(file)\n",
    "    if filename==img_name:\n",
    "        with rasterio.open(path_GeoTIFF+\"{}\".format(filename)) as src:\n",
    "            img = src.read()\n",
    "            meta = src.meta\n",
    "            filepath = path_GeoJson+\"product_ADBLucem_\"+name_map+\".json\"\n",
    "            df = polygon_df(filepath)\n",
    "            \n",
    "            whole_mask = create_mask_multi_channel(features_list,src,df)\n",
    "            \n",
    "        \n",
    "            \n",
    "            print(whole_mask.shape)\n",
    "            \n",
    "#             #Rescale to 0-255 and convert to uint8\n",
    "#             rescaled = (255.0 / data.max() * (data - data.min())).astype(np.uint8)\n",
    "\n",
    "            # Save numpy array into png mask 1 channel\n",
    "            cv2.imwrite(outfolder + '/masktest6_{}.png'.format(img_name.split('_')[0]),whole_mask)\n"
   ]
  },
  {
   "cell_type": "code",
   "execution_count": 19,
   "metadata": {},
   "outputs": [],
   "source": [
    "#for lirp IMG:"
   ]
  },
  {
   "cell_type": "code",
   "execution_count": 20,
   "metadata": {},
   "outputs": [],
   "source": [
    "def crop_img_mask(filename):\n",
    "    name = \"LIRP\" + str(np.random.randint(1,5000))\n",
    "    print(name)\n",
    "    with rasterio.open(\"{}{}_ortho.tif\".format(path_GeoTIFF,filename)) as src:\n",
    "        img = src.read()\n",
    "    _,xs,ys = img.shape\n",
    "    i = np.random.randint(1,100)\n",
    "    i = i*10\n",
    "    \n",
    "    im_size = 512\n",
    "    cut = np.random.randint(1,im_size - 30)\n",
    "    \n",
    "    \n",
    "    \n",
    "    #img = reshape_as_image(img):,i:i+im_size,j:j+im_size])\n",
    "    img = reshape_as_image(img)\n",
    "    img = img[4000 - i :5000- i,1000 + i:2001+ i]\n",
    "    \n",
    "    img = img[cut:cut+im_size,cut:cut+im_size]\n",
    "    #print(img.shape)\n",
    "    plt.imshow(img)\n",
    "    \n",
    "    \n",
    "    matplotlib.image.imsave('{}/imgs/{}.png'.format(path_data,name), img)\n",
    "    \n",
    "    #change with path to the image you want to sample from\n",
    "    with rasterio.open(\"/Users/salimbaddou/PIE/masktest_{}.png\".format(filename)) as src:\n",
    "        img = src.read()\n",
    "        \n",
    "    #print(img.shape)\n",
    "        \n",
    "    img = img[0,4000 - i :5000- i,1000 + i:2001+ i]\n",
    "    img = img[cut:cut+im_size,cut:cut+im_size]\n",
    "    #img =img[0,i:i+im_size,j:j+im_size]\n",
    "    #img = img[0,i:i+500,i:i+500]\n",
    "    print(img.shape)\n",
    "    plt.imshow(img)\n",
    "    \n",
    "    cv2.imwrite('{}/masks/{}.png'.format(path_data,name), img)\n",
    "    \n",
    "    \n",
    "    "
   ]
  },
  {
   "cell_type": "code",
   "execution_count": null,
   "metadata": {},
   "outputs": [],
   "source": [
    "#set N to the number of sub-image you want"
   ]
  },
  {
   "cell_type": "code",
   "execution_count": 21,
   "metadata": {},
   "outputs": [
    {
     "name": "stdout",
     "output_type": "stream",
     "text": [
      "LIRP4321\n"
     ]
    },
    {
     "name": "stderr",
     "output_type": "stream",
     "text": [
      "/Users/salimbaddou/anaconda3/lib/python3.7/site-packages/rasterio/__init__.py:219: NotGeoreferencedWarning: Dataset has no geotransform set. The identity matrix may be returned.\n",
      "  s = DatasetReader(path, driver=driver, sharing=sharing, **kwargs)\n"
     ]
    },
    {
     "name": "stdout",
     "output_type": "stream",
     "text": [
      "(512, 512)\n"
     ]
    },
    {
     "data": {
      "image/png": "[encoded data removed]",
      "text/plain": [
       "<Figure size 432x288 with 1 Axes>"
      ]
     },
     "metadata": {
      "needs_background": "light"
     },
     "output_type": "display_data"
    }
   ],
   "source": [
    "for i in range(N):\n",
    "    crop_img_mask(\"LIRP\")"
   ]
  },
  {
   "cell_type": "code",
   "execution_count": null,
   "metadata": {},
   "outputs": [],
   "source": [
    "#sample image with normal centred distribution"
   ]
  },
  {
   "cell_type": "code",
   "execution_count": 27,
   "metadata": {},
   "outputs": [],
   "source": [
    "def crop_img_mask(filename):\n",
    "    name = \"VHHH\" + str(np.random.randint(1,10000))\n",
    "    print(name)\n",
    "    with rasterio.open(\"/Users/salimbaddou/PIE/Airport_Feature_Auto_Detection/GeoTIFF/{}_ortho.tif\".format(filename)) as src:\n",
    "        img = src.read()\n",
    "    _,xs,ys = img.shape\n",
    "    mean = (xs//2, ys//2)\n",
    "    cov = [[100*xs, 0], [0, 100*ys]]\n",
    "    x = np.random.multivariate_normal(mean, cov)\n",
    "    print(int(x[0]))\n",
    "    im_size = 512\n",
    "    \n",
    "    \n",
    "    img = reshape_as_image(img)\n",
    "    \n",
    "    \n",
    "    img = img[int(x[0]):int(x[0])+im_size,int(x[1]):int(x[1])+im_size]\n",
    "    #print(img.shape)\n",
    "    plt.imshow(img)\n",
    "    \n",
    "    \n",
    "    matplotlib.image.imsave('{}/imgs/{}.png'.format(path_data,name), img)\n",
    "    \n",
    "    #change with path to the image you want to sample from\n",
    "    with rasterio.open(\"/Users/salimbaddou/PIE/masktest6_{}.png\".format(filename)) as src:\n",
    "        img = src.read()\n",
    "        \n",
    "    \n",
    "    print(img.shape)\n",
    "    img = reshape_as_image(img)\n",
    "    print(img.shape)\n",
    "    img = img[int(x[0]):int(x[0])+im_size,int(x[1]):int(x[1])+im_size]\n",
    "    \n",
    "    print(img.shape)\n",
    "    plt.imshow(img)\n",
    "    \n",
    "    cv2.imwrite('{}/masks/{}.png'.format(path_data,name), img)\n",
    "    \n",
    "    \n",
    "    "
   ]
  },
  {
   "cell_type": "code",
   "execution_count": 44,
   "metadata": {},
   "outputs": [
    {
     "name": "stdout",
     "output_type": "stream",
     "text": [
      "VHHH3716\n",
      "4776\n",
      "(4, 12700, 19699)\n",
      "(12700, 19699, 4)\n",
      "(512, 512, 4)\n",
      "VHHH4498\n",
      "6395\n",
      "(4, 12700, 19699)\n",
      "(12700, 19699, 4)\n",
      "(512, 512, 4)\n",
      "VHHH1591\n",
      "5739\n",
      "(4, 12700, 19699)\n",
      "(12700, 19699, 4)\n",
      "(512, 512, 4)\n",
      "VHHH1078\n",
      "5762\n",
      "(4, 12700, 19699)\n",
      "(12700, 19699, 4)\n",
      "(512, 512, 4)\n",
      "VHHH8181\n",
      "7591\n",
      "(4, 12700, 19699)\n",
      "(12700, 19699, 4)\n",
      "(512, 512, 4)\n",
      "VHHH8417\n",
      "5791\n",
      "(4, 12700, 19699)\n",
      "(12700, 19699, 4)\n",
      "(512, 512, 4)\n",
      "VHHH9221\n",
      "4977\n",
      "(4, 12700, 19699)\n",
      "(12700, 19699, 4)\n",
      "(512, 512, 4)\n",
      "VHHH7132\n",
      "6188\n",
      "(4, 12700, 19699)\n",
      "(12700, 19699, 4)\n",
      "(512, 512, 4)\n",
      "VHHH5065\n",
      "3708\n",
      "(4, 12700, 19699)\n",
      "(12700, 19699, 4)\n",
      "(512, 512, 4)\n",
      "VHHH933\n",
      "5572\n",
      "(4, 12700, 19699)\n",
      "(12700, 19699, 4)\n",
      "(512, 512, 4)\n",
      "VHHH9806\n",
      "6856\n",
      "(4, 12700, 19699)\n",
      "(12700, 19699, 4)\n",
      "(512, 512, 4)\n",
      "VHHH9057\n",
      "6595\n",
      "(4, 12700, 19699)\n",
      "(12700, 19699, 4)\n",
      "(512, 512, 4)\n",
      "VHHH6292\n",
      "7521\n",
      "(4, 12700, 19699)\n",
      "(12700, 19699, 4)\n",
      "(512, 512, 4)\n",
      "VHHH7943\n",
      "5331\n",
      "(4, 12700, 19699)\n",
      "(12700, 19699, 4)\n",
      "(512, 512, 4)\n",
      "VHHH3589\n",
      "6541\n",
      "(4, 12700, 19699)\n",
      "(12700, 19699, 4)\n",
      "(512, 512, 4)\n",
      "VHHH7234\n",
      "7794\n",
      "(4, 12700, 19699)\n",
      "(12700, 19699, 4)\n",
      "(512, 512, 4)\n",
      "VHHH5005\n",
      "6539\n",
      "(4, 12700, 19699)\n",
      "(12700, 19699, 4)\n",
      "(512, 512, 4)\n",
      "VHHH9970\n",
      "6835\n",
      "(4, 12700, 19699)\n",
      "(12700, 19699, 4)\n",
      "(512, 512, 4)\n",
      "VHHH2315\n",
      "6355\n",
      "(4, 12700, 19699)\n",
      "(12700, 19699, 4)\n",
      "(512, 512, 4)\n",
      "VHHH1407\n",
      "7077\n",
      "(4, 12700, 19699)\n",
      "(12700, 19699, 4)\n",
      "(512, 512, 4)\n"
     ]
    },
    {
     "data": {
      "image/png": "[encoded data removed]",
      "text/plain": [
       "<Figure size 432x288 with 1 Axes>"
      ]
     },
     "metadata": {
      "needs_background": "light"
     },
     "output_type": "display_data"
    }
   ],
   "source": [
    "for i in range(20):\n",
    "    crop_img_mask(\"VHHH\")"
   ]
  },
  {
   "cell_type": "markdown",
   "metadata": {},
   "source": [
    "# OLD: exploration et manipulation d'un GeoJson"
   ]
  },
  {
   "cell_type": "markdown",
   "metadata": {},
   "source": [
    "### Open image with rasterio:"
   ]
  },
  {
   "cell_type": "code",
   "execution_count": null,
   "metadata": {},
   "outputs": [],
   "source": [
    "with rasterio.open(path_GeoTIFF+\"/\"+name_map+\"_ortho.tif\") as src:\n",
    "    img = src.read()\n",
    "    meta = src.meta\n",
    "\n",
    "img = reshape_as_image(img)\n",
    "\n"
   ]
  },
  {
   "cell_type": "markdown",
   "metadata": {},
   "source": [
    "### Read Geojson as  a dataframe:"
   ]
  },
  {
   "cell_type": "code",
   "execution_count": 8,
   "metadata": {},
   "outputs": [],
   "source": [
    "def polygon_df(filepath):\n",
    "    df = gpd.read_file(filepath)\n",
    "    df = df.drop(columns=['originated', 'readonly',\n",
    "           'notvalidated', 'lock', 'elev', 'hacc', 'iata', 'name', 'idarpt',\n",
    "           'acft', 'idnumber', 'termref', 'pcn', 'restacft', 'status', 'surftype',\n",
    "           'length', 'width', 'color', 'direc', 'style', 'rwymktyp', 'asda',\n",
    "           'availPavedSurfFromThr', 'brngmag', 'brngtrue', 'cat', 'ellipse',\n",
    "           'geound', 'lda', 'rops_landing_length', 'rwyslope', 'tdze', 'tdzslope',\n",
    "           'thrtype', 'toda', 'tora', 'vasis', 'bridge', 'gsurftyp', 'runwayexit',\n",
    "           'imagery_date'])\n",
    "    \n",
    "    return df[df[\"geometry\"].geom_type == 'Polygon']"
   ]
  },
  {
   "cell_type": "markdown",
   "metadata": {},
   "source": [
    "#### Only polygon:"
   ]
  },
  {
   "cell_type": "code",
   "execution_count": 12,
   "metadata": {},
   "outputs": [
    {
     "data": {
      "text/html": [
       "<div>\n",
       "<style scoped>\n",
       "    .dataframe tbody tr th:only-of-type {\n",
       "        vertical-align: middle;\n",
       "    }\n",
       "\n",
       "    .dataframe tbody tr th {\n",
       "        vertical-align: top;\n",
       "    }\n",
       "\n",
       "    .dataframe thead th {\n",
       "        text-align: right;\n",
       "    }\n",
       "</style>\n",
       "<table border=\"1\" class=\"dataframe\">\n",
       "  <thead>\n",
       "    <tr style=\"text-align: right;\">\n",
       "      <th></th>\n",
       "      <th>id</th>\n",
       "      <th>feattype</th>\n",
       "      <th>label_id</th>\n",
       "      <th>name_id</th>\n",
       "      <th>aprontyp</th>\n",
       "      <th>pendate</th>\n",
       "      <th>piocdate</th>\n",
       "      <th>pstdate</th>\n",
       "      <th>docking</th>\n",
       "      <th>fuel</th>\n",
       "      <th>...</th>\n",
       "      <th>featbase</th>\n",
       "      <th>wingspan</th>\n",
       "      <th>maxspeed</th>\n",
       "      <th>catstop</th>\n",
       "      <th>idlin</th>\n",
       "      <th>rwyahtxt</th>\n",
       "      <th>height</th>\n",
       "      <th>material</th>\n",
       "      <th>plysttyp</th>\n",
       "      <th>geometry</th>\n",
       "    </tr>\n",
       "  </thead>\n",
       "  <tbody>\n",
       "    <tr>\n",
       "      <th>1</th>\n",
       "      <td>ALLADB|ADBLucem|apronelement|86413</td>\n",
       "      <td>{'value': 'Apron.apronelement'}</td>\n",
       "      <td>{'value': '$UNK'}</td>\n",
       "      <td>{'value': '$UNK'}</td>\n",
       "      <td>{'value': None}</td>\n",
       "      <td>None</td>\n",
       "      <td>None</td>\n",
       "      <td>None</td>\n",
       "      <td>None</td>\n",
       "      <td>None</td>\n",
       "      <td>...</td>\n",
       "      <td>None</td>\n",
       "      <td>None</td>\n",
       "      <td>None</td>\n",
       "      <td>None</td>\n",
       "      <td>None</td>\n",
       "      <td>None</td>\n",
       "      <td>None</td>\n",
       "      <td>None</td>\n",
       "      <td>None</td>\n",
       "      <td>POLYGON ((113.91412 22.29822, 113.91424 22.297...</td>\n",
       "    </tr>\n",
       "    <tr>\n",
       "      <th>2</th>\n",
       "      <td>ALLADB|ADBLucem|apronelement|86414</td>\n",
       "      <td>{'value': 'Apron.apronelement'}</td>\n",
       "      <td>{'value': '$UNK'}</td>\n",
       "      <td>{'value': '$UNK'}</td>\n",
       "      <td>{'value': None}</td>\n",
       "      <td>None</td>\n",
       "      <td>None</td>\n",
       "      <td>None</td>\n",
       "      <td>None</td>\n",
       "      <td>None</td>\n",
       "      <td>...</td>\n",
       "      <td>None</td>\n",
       "      <td>None</td>\n",
       "      <td>None</td>\n",
       "      <td>None</td>\n",
       "      <td>None</td>\n",
       "      <td>None</td>\n",
       "      <td>None</td>\n",
       "      <td>None</td>\n",
       "      <td>None</td>\n",
       "      <td>POLYGON ((113.90202 22.29498, 113.90219 22.295...</td>\n",
       "    </tr>\n",
       "    <tr>\n",
       "      <th>3</th>\n",
       "      <td>ALLADB|ADBLucem|apronelement|86415</td>\n",
       "      <td>{'value': 'Apron.apronelement'}</td>\n",
       "      <td>{'value': 'BUSINESS AVIATION CENTRE APRON'}</td>\n",
       "      <td>{'value': 'BUSINESS AVIATION CENTRE APRON'}</td>\n",
       "      <td>{'value': None}</td>\n",
       "      <td>None</td>\n",
       "      <td>None</td>\n",
       "      <td>None</td>\n",
       "      <td>None</td>\n",
       "      <td>None</td>\n",
       "      <td>...</td>\n",
       "      <td>None</td>\n",
       "      <td>None</td>\n",
       "      <td>None</td>\n",
       "      <td>None</td>\n",
       "      <td>None</td>\n",
       "      <td>None</td>\n",
       "      <td>None</td>\n",
       "      <td>None</td>\n",
       "      <td>None</td>\n",
       "      <td>POLYGON ((113.91129 22.29718, 113.91127 22.297...</td>\n",
       "    </tr>\n",
       "    <tr>\n",
       "      <th>4</th>\n",
       "      <td>ALLADB|ADBLucem|apronelement|86416</td>\n",
       "      <td>{'value': 'Apron.apronelement'}</td>\n",
       "      <td>{'value': 'BUSINESS AVIATION CENTRE APRON'}</td>\n",
       "      <td>{'value': 'BUSINESS AVIATION CENTRE APRON'}</td>\n",
       "      <td>{'value': None}</td>\n",
       "      <td>None</td>\n",
       "      <td>None</td>\n",
       "      <td>None</td>\n",
       "      <td>None</td>\n",
       "      <td>None</td>\n",
       "      <td>...</td>\n",
       "      <td>None</td>\n",
       "      <td>None</td>\n",
       "      <td>None</td>\n",
       "      <td>None</td>\n",
       "      <td>None</td>\n",
       "      <td>None</td>\n",
       "      <td>None</td>\n",
       "      <td>None</td>\n",
       "      <td>None</td>\n",
       "      <td>POLYGON ((113.91155 22.29679, 113.91115 22.296...</td>\n",
       "    </tr>\n",
       "    <tr>\n",
       "      <th>5</th>\n",
       "      <td>ALLADB|ADBLucem|apronelement|86417</td>\n",
       "      <td>{'value': 'Apron.apronelement'}</td>\n",
       "      <td>{'value': 'WEST CARGO APRON'}</td>\n",
       "      <td>{'value': 'WEST CARGO APRON'}</td>\n",
       "      <td>{'value': None}</td>\n",
       "      <td>None</td>\n",
       "      <td>None</td>\n",
       "      <td>None</td>\n",
       "      <td>None</td>\n",
       "      <td>None</td>\n",
       "      <td>...</td>\n",
       "      <td>None</td>\n",
       "      <td>None</td>\n",
       "      <td>None</td>\n",
       "      <td>None</td>\n",
       "      <td>None</td>\n",
       "      <td>None</td>\n",
       "      <td>None</td>\n",
       "      <td>None</td>\n",
       "      <td>None</td>\n",
       "      <td>POLYGON ((113.90572 22.30758, 113.90517 22.309...</td>\n",
       "    </tr>\n",
       "  </tbody>\n",
       "</table>\n",
       "<p>5 rows × 24 columns</p>\n",
       "</div>"
      ],
      "text/plain": [
       "                                   id                         feattype  \\\n",
       "1  ALLADB|ADBLucem|apronelement|86413  {'value': 'Apron.apronelement'}   \n",
       "2  ALLADB|ADBLucem|apronelement|86414  {'value': 'Apron.apronelement'}   \n",
       "3  ALLADB|ADBLucem|apronelement|86415  {'value': 'Apron.apronelement'}   \n",
       "4  ALLADB|ADBLucem|apronelement|86416  {'value': 'Apron.apronelement'}   \n",
       "5  ALLADB|ADBLucem|apronelement|86417  {'value': 'Apron.apronelement'}   \n",
       "\n",
       "                                      label_id  \\\n",
       "1                            {'value': '$UNK'}   \n",
       "2                            {'value': '$UNK'}   \n",
       "3  {'value': 'BUSINESS AVIATION CENTRE APRON'}   \n",
       "4  {'value': 'BUSINESS AVIATION CENTRE APRON'}   \n",
       "5                {'value': 'WEST CARGO APRON'}   \n",
       "\n",
       "                                       name_id         aprontyp pendate  \\\n",
       "1                            {'value': '$UNK'}  {'value': None}    None   \n",
       "2                            {'value': '$UNK'}  {'value': None}    None   \n",
       "3  {'value': 'BUSINESS AVIATION CENTRE APRON'}  {'value': None}    None   \n",
       "4  {'value': 'BUSINESS AVIATION CENTRE APRON'}  {'value': None}    None   \n",
       "5                {'value': 'WEST CARGO APRON'}  {'value': None}    None   \n",
       "\n",
       "  piocdate pstdate docking  fuel  ... featbase wingspan maxspeed catstop  \\\n",
       "1     None    None    None  None  ...     None     None     None    None   \n",
       "2     None    None    None  None  ...     None     None     None    None   \n",
       "3     None    None    None  None  ...     None     None     None    None   \n",
       "4     None    None    None  None  ...     None     None     None    None   \n",
       "5     None    None    None  None  ...     None     None     None    None   \n",
       "\n",
       "  idlin rwyahtxt height material plysttyp  \\\n",
       "1  None     None   None     None     None   \n",
       "2  None     None   None     None     None   \n",
       "3  None     None   None     None     None   \n",
       "4  None     None   None     None     None   \n",
       "5  None     None   None     None     None   \n",
       "\n",
       "                                            geometry  \n",
       "1  POLYGON ((113.91412 22.29822, 113.91424 22.297...  \n",
       "2  POLYGON ((113.90202 22.29498, 113.90219 22.295...  \n",
       "3  POLYGON ((113.91129 22.29718, 113.91127 22.297...  \n",
       "4  POLYGON ((113.91155 22.29679, 113.91115 22.296...  \n",
       "5  POLYGON ((113.90572 22.30758, 113.90517 22.309...  \n",
       "\n",
       "[5 rows x 24 columns]"
      ]
     },
     "execution_count": 12,
     "metadata": {},
     "output_type": "execute_result"
    }
   ],
   "source": [
    "df = polygon_df(path_GeoJson+\"/product_ADBLucem_\"+name_map+\".json\")\n",
    "df.head()"
   ]
  },
  {
   "cell_type": "markdown",
   "metadata": {},
   "source": [
    "### Liste des features contenues dans le GeoJSON"
   ]
  },
  {
   "cell_type": "code",
   "execution_count": 13,
   "metadata": {},
   "outputs": [
    {
     "name": "stdout",
     "output_type": "stream",
     "text": [
      "['Apron.apronelement', 'ConstructionArea.constructionarea', 'ParkingStandArea.parkingstandarea', 'Runway.runwaydisplacedarea', 'Runway.runwayelement', 'Runway.runwaymarking', 'Runway.runwayshoulder', 'ServiceRoad.serviceroad', '0', 'Taxiway.taxiwayshoulder', 'TouchDownLiftOffArea.touchdownliftoffarea', 'VerticalStructure.verticalpolygonalstructure', 'Water.water']\n"
     ]
    }
   ],
   "source": [
    "features_list = []\n",
    "for e in df['feattype']:\n",
    "    if e['value'] not in features_list:\n",
    "        features_list.append(e['value'])\n",
    "\n",
    "print(features_list)"
   ]
  },
  {
   "cell_type": "code",
   "execution_count": 14,
   "metadata": {},
   "outputs": [
    {
     "ename": "DecompressionBombError",
     "evalue": "Image size (250177300 pixels) exceeds limit of 178956970 pixels, could be decompression bomb DOS attack.",
     "output_type": "error",
     "traceback": [
      "\u001b[0;31m---------------------------------------------------------------------------\u001b[0m",
      "\u001b[0;31mDecompressionBombError\u001b[0m                    Traceback (most recent call last)",
      "\u001b[0;32m<ipython-input-14-fc4c1eb74f09>\u001b[0m in \u001b[0;36m<module>\u001b[0;34m\u001b[0m\n\u001b[0;32m----> 1\u001b[0;31m \u001b[0mnp\u001b[0m\u001b[0;34m.\u001b[0m\u001b[0munique\u001b[0m\u001b[0;34m(\u001b[0m\u001b[0mnp\u001b[0m\u001b[0;34m.\u001b[0m\u001b[0marray\u001b[0m\u001b[0;34m(\u001b[0m\u001b[0mPIL\u001b[0m\u001b[0;34m.\u001b[0m\u001b[0mImage\u001b[0m\u001b[0;34m.\u001b[0m\u001b[0mopen\u001b[0m\u001b[0;34m(\u001b[0m\u001b[0;34m\"/Users/salimbaddou/PIE/masktest3_VHHH.png\"\u001b[0m\u001b[0;34m)\u001b[0m\u001b[0;34m)\u001b[0m\u001b[0;34m)\u001b[0m\u001b[0;34m\u001b[0m\u001b[0;34m\u001b[0m\u001b[0m\n\u001b[0m",
      "\u001b[0;32m~/anaconda3/lib/python3.7/site-packages/PIL/Image.py\u001b[0m in \u001b[0;36mopen\u001b[0;34m(fp, mode)\u001b[0m\n\u001b[1;32m   2806\u001b[0m         \u001b[0;32mreturn\u001b[0m \u001b[0;32mNone\u001b[0m\u001b[0;34m\u001b[0m\u001b[0;34m\u001b[0m\u001b[0m\n\u001b[1;32m   2807\u001b[0m \u001b[0;34m\u001b[0m\u001b[0m\n\u001b[0;32m-> 2808\u001b[0;31m     \u001b[0mim\u001b[0m \u001b[0;34m=\u001b[0m \u001b[0m_open_core\u001b[0m\u001b[0;34m(\u001b[0m\u001b[0mfp\u001b[0m\u001b[0;34m,\u001b[0m \u001b[0mfilename\u001b[0m\u001b[0;34m,\u001b[0m \u001b[0mprefix\u001b[0m\u001b[0;34m)\u001b[0m\u001b[0;34m\u001b[0m\u001b[0;34m\u001b[0m\u001b[0m\n\u001b[0m\u001b[1;32m   2809\u001b[0m \u001b[0;34m\u001b[0m\u001b[0m\n\u001b[1;32m   2810\u001b[0m     \u001b[0;32mif\u001b[0m \u001b[0mim\u001b[0m \u001b[0;32mis\u001b[0m \u001b[0;32mNone\u001b[0m\u001b[0;34m:\u001b[0m\u001b[0;34m\u001b[0m\u001b[0;34m\u001b[0m\u001b[0m\n",
      "\u001b[0;32m~/anaconda3/lib/python3.7/site-packages/PIL/Image.py\u001b[0m in \u001b[0;36m_open_core\u001b[0;34m(fp, filename, prefix)\u001b[0m\n\u001b[1;32m   2793\u001b[0m                     \u001b[0mfp\u001b[0m\u001b[0;34m.\u001b[0m\u001b[0mseek\u001b[0m\u001b[0;34m(\u001b[0m\u001b[0;36m0\u001b[0m\u001b[0;34m)\u001b[0m\u001b[0;34m\u001b[0m\u001b[0;34m\u001b[0m\u001b[0m\n\u001b[1;32m   2794\u001b[0m                     \u001b[0mim\u001b[0m \u001b[0;34m=\u001b[0m \u001b[0mfactory\u001b[0m\u001b[0;34m(\u001b[0m\u001b[0mfp\u001b[0m\u001b[0;34m,\u001b[0m \u001b[0mfilename\u001b[0m\u001b[0;34m)\u001b[0m\u001b[0;34m\u001b[0m\u001b[0;34m\u001b[0m\u001b[0m\n\u001b[0;32m-> 2795\u001b[0;31m                     \u001b[0m_decompression_bomb_check\u001b[0m\u001b[0;34m(\u001b[0m\u001b[0mim\u001b[0m\u001b[0;34m.\u001b[0m\u001b[0msize\u001b[0m\u001b[0;34m)\u001b[0m\u001b[0;34m\u001b[0m\u001b[0;34m\u001b[0m\u001b[0m\n\u001b[0m\u001b[1;32m   2796\u001b[0m                     \u001b[0;32mreturn\u001b[0m \u001b[0mim\u001b[0m\u001b[0;34m\u001b[0m\u001b[0;34m\u001b[0m\u001b[0m\n\u001b[1;32m   2797\u001b[0m             \u001b[0;32mexcept\u001b[0m \u001b[0;34m(\u001b[0m\u001b[0mSyntaxError\u001b[0m\u001b[0;34m,\u001b[0m \u001b[0mIndexError\u001b[0m\u001b[0;34m,\u001b[0m \u001b[0mTypeError\u001b[0m\u001b[0;34m,\u001b[0m \u001b[0mstruct\u001b[0m\u001b[0;34m.\u001b[0m\u001b[0merror\u001b[0m\u001b[0;34m)\u001b[0m\u001b[0;34m:\u001b[0m\u001b[0;34m\u001b[0m\u001b[0;34m\u001b[0m\u001b[0m\n",
      "\u001b[0;32m~/anaconda3/lib/python3.7/site-packages/PIL/Image.py\u001b[0m in \u001b[0;36m_decompression_bomb_check\u001b[0;34m(size)\u001b[0m\n\u001b[1;32m   2726\u001b[0m         raise DecompressionBombError(\n\u001b[1;32m   2727\u001b[0m             \u001b[0;34m\"Image size (%d pixels) exceeds limit of %d pixels, \"\u001b[0m\u001b[0;34m\u001b[0m\u001b[0;34m\u001b[0m\u001b[0m\n\u001b[0;32m-> 2728\u001b[0;31m             \u001b[0;34m\"could be decompression bomb DOS attack.\"\u001b[0m \u001b[0;34m%\u001b[0m \u001b[0;34m(\u001b[0m\u001b[0mpixels\u001b[0m\u001b[0;34m,\u001b[0m \u001b[0;36m2\u001b[0m \u001b[0;34m*\u001b[0m \u001b[0mMAX_IMAGE_PIXELS\u001b[0m\u001b[0;34m)\u001b[0m\u001b[0;34m\u001b[0m\u001b[0;34m\u001b[0m\u001b[0m\n\u001b[0m\u001b[1;32m   2729\u001b[0m         )\n\u001b[1;32m   2730\u001b[0m \u001b[0;34m\u001b[0m\u001b[0m\n",
      "\u001b[0;31mDecompressionBombError\u001b[0m: Image size (250177300 pixels) exceeds limit of 178956970 pixels, could be decompression bomb DOS attack."
     ]
    }
   ],
   "source": [
    "np.unique(np.array(PIL.Image.open(\"/Users/salimbaddou/PIE/masktest3_VHHH.png\")))"
   ]
  },
  {
   "cell_type": "code",
   "execution_count": 59,
   "metadata": {},
   "outputs": [
    {
     "data": {
      "text/plain": [
       "3"
      ]
     },
     "execution_count": 59,
     "metadata": {},
     "output_type": "execute_result"
    }
   ],
   "source": [
    "with rasterio.open(\"/Users/salimbaddou/PIE/data2/masks/VHHH8181.png\") as src:\n",
    "    img = src.read()\n",
    "\n",
    "img[:][:][:].max()\n",
    "\n"
   ]
  },
  {
   "cell_type": "code",
   "execution_count": null,
   "metadata": {},
   "outputs": [],
   "source": [
    "/Users/salimbaddou/Desktop/Pytorch-UNet-master-2/data/masks\n",
    "/Users/salimbaddou/PIE/data2/masks/VHHH1077.png"
   ]
  },
  {
   "cell_type": "code",
   "execution_count": 61,
   "metadata": {},
   "outputs": [],
   "source": [
    "path = \"/Users/salimbaddou/Desktop/Pytorch-UNet-master-2/data/masks\"\n",
    "dirs = os.listdir( path )\n",
    "\n",
    "\n"
   ]
  },
  {
   "cell_type": "raw",
   "metadata": {},
   "source": []
  }
 ],
 "metadata": {
  "kernelspec": {
   "display_name": "Python 3",
   "language": "python",
   "name": "python3"
  },
  "language_info": {
   "codemirror_mode": {
    "name": "ipython",
    "version": 3
   },
   "file_extension": ".py",
   "mimetype": "text/x-python",
   "name": "python",
   "nbconvert_exporter": "python",
   "pygments_lexer": "ipython3",
   "version": "3.7.3"
  }
 },
 "nbformat": 4,
 "nbformat_minor": 2
}
