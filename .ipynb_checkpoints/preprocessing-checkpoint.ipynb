{
 "cells": [
  {
   "cell_type": "code",
   "execution_count": 1,
   "metadata": {},
   "outputs": [],
   "source": [
    "import os\n",
    "import json\n",
    "import math\n",
    "import rasterio\n",
    "from rasterio.plot import reshape_as_image\n",
    "import rasterio.mask\n",
    "from rasterio.features import rasterize\n",
    "import matplotlib\n",
    "import matplotlib.pyplot as plt\n",
    "import cv2\n",
    "import pandas as pd\n",
    "import geopandas as gpd\n",
    "from shapely.geometry import mapping, Point, Polygon\n",
    "from shapely.ops import cascaded_union\n",
    "import numpy as np\n",
    "\n",
    "import matplotlib.pyplot as plt\n"
   ]
  },
  {
   "cell_type": "markdown",
   "metadata": {},
   "source": [
    "### Open image with rasterio:"
   ]
  },
  {
   "cell_type": "code",
   "execution_count": 1,
   "metadata": {},
   "outputs": [
    {
     "ename": "NameError",
     "evalue": "name 'rasterio' is not defined",
     "output_type": "error",
     "traceback": [
      "\u001b[0;31m---------------------------------------------------------------------------\u001b[0m",
      "\u001b[0;31mNameError\u001b[0m                                 Traceback (most recent call last)",
      "\u001b[0;32m<ipython-input-1-160bf4106cb0>\u001b[0m in \u001b[0;36m<module>\u001b[0;34m\u001b[0m\n\u001b[0;32m----> 1\u001b[0;31m \u001b[0;32mwith\u001b[0m \u001b[0mrasterio\u001b[0m\u001b[0;34m.\u001b[0m\u001b[0mopen\u001b[0m\u001b[0;34m(\u001b[0m\u001b[0;34m\"/Users/salimbaddou/PIE/Airport_Feature_Auto_Detection/GeoTIFF/LFMP_ortho.tif\"\u001b[0m\u001b[0;34m)\u001b[0m \u001b[0;32mas\u001b[0m \u001b[0msrc\u001b[0m\u001b[0;34m:\u001b[0m\u001b[0;34m\u001b[0m\u001b[0;34m\u001b[0m\u001b[0m\n\u001b[0m\u001b[1;32m      2\u001b[0m     \u001b[0mimg\u001b[0m \u001b[0;34m=\u001b[0m \u001b[0msrc\u001b[0m\u001b[0;34m.\u001b[0m\u001b[0mread\u001b[0m\u001b[0;34m(\u001b[0m\u001b[0;34m)\u001b[0m\u001b[0;34m\u001b[0m\u001b[0;34m\u001b[0m\u001b[0m\n\u001b[1;32m      3\u001b[0m     \u001b[0mmeta\u001b[0m \u001b[0;34m=\u001b[0m \u001b[0msrc\u001b[0m\u001b[0;34m.\u001b[0m\u001b[0mmeta\u001b[0m\u001b[0;34m\u001b[0m\u001b[0;34m\u001b[0m\u001b[0m\n\u001b[1;32m      4\u001b[0m \u001b[0;34m\u001b[0m\u001b[0m\n\u001b[1;32m      5\u001b[0m \u001b[0mimg\u001b[0m \u001b[0;34m=\u001b[0m \u001b[0mreshape_as_image\u001b[0m\u001b[0;34m(\u001b[0m\u001b[0mimg\u001b[0m\u001b[0;34m)\u001b[0m\u001b[0;34m\u001b[0m\u001b[0;34m\u001b[0m\u001b[0m\n",
      "\u001b[0;31mNameError\u001b[0m: name 'rasterio' is not defined"
     ]
    }
   ],
   "source": [
    "with rasterio.open(\"/Users/salimbaddou/PIE/Airport_Feature_Auto_Detection/GeoTIFF/LFMP_ortho.tif\") as src:\n",
    "    img = src.read()\n",
    "    meta = src.meta\n",
    "\n",
    "img = reshape_as_image(img)\n",
    "\n",
    "plt.imshow(img)"
   ]
  },
  {
   "cell_type": "markdown",
   "metadata": {},
   "source": [
    "### Read Geojson as  a dataframe:"
   ]
  },
  {
   "cell_type": "code",
   "execution_count": 3,
   "metadata": {},
   "outputs": [],
   "source": [
    "def polygon_df(filepath):\n",
    "    df = gpd.read_file(filepath)\n",
    "\n",
    "\n",
    "    df = df.drop(columns=['originated', 'readonly',\n",
    "           'notvalidated', 'lock', 'elev', 'hacc', 'iata', 'name', 'idarpt',\n",
    "           'acft', 'idnumber', 'termref', 'pcn', 'restacft', 'status', 'surftype',\n",
    "           'length', 'width', 'color', 'direc', 'style', 'rwymktyp', 'asda',\n",
    "           'availPavedSurfFromThr', 'brngmag', 'brngtrue', 'cat', 'ellipse',\n",
    "           'geound', 'lda', 'rops_landing_length', 'rwyslope', 'tdze', 'tdzslope',\n",
    "           'thrtype', 'toda', 'tora', 'vasis', 'bridge', 'gsurftyp', 'runwayexit',\n",
    "           'imagery_date'])\n",
    "    \n",
    "    return df[df[\"geometry\"].geom_type == 'Polygon']"
   ]
  },
  {
   "cell_type": "markdown",
   "metadata": {},
   "source": [
    "#### Only polygon:"
   ]
  },
  {
   "cell_type": "code",
   "execution_count": null,
   "metadata": {},
   "outputs": [],
   "source": []
  },
  {
   "cell_type": "code",
   "execution_count": 4,
   "metadata": {},
   "outputs": [
    {
     "ename": "NameError",
     "evalue": "name 'df' is not defined",
     "output_type": "error",
     "traceback": [
      "\u001b[0;31m---------------------------------------------------------------------------\u001b[0m",
      "\u001b[0;31mNameError\u001b[0m                                 Traceback (most recent call last)",
      "\u001b[0;32m<ipython-input-4-c2ab61402231>\u001b[0m in \u001b[0;36m<module>\u001b[0;34m\u001b[0m\n\u001b[1;32m      1\u001b[0m \u001b[0mfeatures_list\u001b[0m \u001b[0;34m=\u001b[0m \u001b[0;34m[\u001b[0m\u001b[0;34m]\u001b[0m\u001b[0;34m\u001b[0m\u001b[0;34m\u001b[0m\u001b[0m\n\u001b[0;32m----> 2\u001b[0;31m \u001b[0;32mfor\u001b[0m \u001b[0me\u001b[0m \u001b[0;32min\u001b[0m \u001b[0mdf\u001b[0m\u001b[0;34m[\u001b[0m\u001b[0;34m'feattype'\u001b[0m\u001b[0;34m]\u001b[0m\u001b[0;34m:\u001b[0m\u001b[0;34m\u001b[0m\u001b[0;34m\u001b[0m\u001b[0m\n\u001b[0m\u001b[1;32m      3\u001b[0m     \u001b[0;32mif\u001b[0m \u001b[0me\u001b[0m\u001b[0;34m[\u001b[0m\u001b[0;34m'value'\u001b[0m\u001b[0;34m]\u001b[0m \u001b[0;32mnot\u001b[0m \u001b[0;32min\u001b[0m \u001b[0mfeatures_list\u001b[0m\u001b[0;34m:\u001b[0m\u001b[0;34m\u001b[0m\u001b[0;34m\u001b[0m\u001b[0m\n\u001b[1;32m      4\u001b[0m         \u001b[0mfeatures_list\u001b[0m\u001b[0;34m.\u001b[0m\u001b[0mappend\u001b[0m\u001b[0;34m(\u001b[0m\u001b[0me\u001b[0m\u001b[0;34m[\u001b[0m\u001b[0;34m'value'\u001b[0m\u001b[0;34m]\u001b[0m\u001b[0;34m)\u001b[0m\u001b[0;34m\u001b[0m\u001b[0;34m\u001b[0m\u001b[0m\n\u001b[1;32m      5\u001b[0m \u001b[0;34m\u001b[0m\u001b[0m\n",
      "\u001b[0;31mNameError\u001b[0m: name 'df' is not defined"
     ]
    }
   ],
   "source": [
    "features_list = []\n",
    "for e in df['feattype']:\n",
    "    if e['value'] not in features_list:\n",
    "        features_list.append(e['value'])\n",
    "\n",
    "print(features_list)"
   ]
  },
  {
   "cell_type": "code",
   "execution_count": null,
   "metadata": {},
   "outputs": [],
   "source": []
  },
  {
   "cell_type": "code",
   "execution_count": 6,
   "metadata": {},
   "outputs": [],
   "source": [
    "def poly_from_utm(polygon, transform):\n",
    "    poly_pts = []\n",
    "    \n",
    "    # make a polygon from multipolygon\n",
    "    poly = cascaded_union(polygon)\n",
    "    for i in np.array(poly.exterior.coords):\n",
    "        \n",
    "        # transfrom polygon to image crs, using raster meta\n",
    "        poly_pts.append(~transform * tuple(i))\n",
    "        \n",
    "    # make a shapely Polygon object\n",
    "    new_poly = Polygon(poly_pts)\n",
    "    return new_poly\n",
    "\n",
    "# creating binary mask for field/not_filed segmentation.\n",
    "\n",
    "def create_mask(features_list,src,df):\n",
    "    im_size = (src.meta['height'], src.meta['width'])\n",
    "    whole_mask = np.zeros([src.meta['height'],src.meta['width']])\n",
    "\n",
    "    for i,f in enumerate(features_list):\n",
    "        poly_shp = []\n",
    "        data_geom = df[df['feattype'] == {'value': f}].geometry\n",
    "        for g in data_geom.values:\n",
    "\n",
    "\n",
    "            poly = poly_from_utm(g, src.meta['transform'])\n",
    "            poly_shp.append(poly)\n",
    "\n",
    "            if g.geom_type == 'Polygon':\n",
    "                poly = poly_from_utm(g, src.meta['transform'])\n",
    "                poly_shp.append(poly)\n",
    "            else:\n",
    "                for p in g:\n",
    "                    poly = poly_from_utm(p, src.meta['transform'])\n",
    "                    poly_shp.append(poly)\n",
    "\n",
    "\n",
    "        mask = rasterize(shapes=poly_shp,out_shape=im_size)*color_mapping[f]\n",
    "        whole_mask = whole_mask + mask\n",
    "    \n",
    "    return whole_mask\n",
    "\n",
    "\n"
   ]
  },
  {
   "cell_type": "code",
   "execution_count": null,
   "metadata": {},
   "outputs": [],
   "source": [
    "outfolder = \"/Users/salimbaddou/PIE\"  #folder where the mask is stored\n",
    "os.makedirs(outfolder, exist_ok=True)"
   ]
  },
  {
   "cell_type": "code",
   "execution_count": null,
   "metadata": {},
   "outputs": [],
   "source": []
  },
  {
   "cell_type": "code",
   "execution_count": 7,
   "metadata": {},
   "outputs": [],
   "source": [
    "color_mapping = {\n",
    "    'Apron.apronelement': 10,\n",
    "    'Runway.runwayelement': 20,\n",
    "    'Runway.runwaymarking': 30,\n",
    "    'TouchDownLiftOffArea.touchdownliftoffarea': 40\n",
    "}"
   ]
  },
  {
   "cell_type": "code",
   "execution_count": 8,
   "metadata": {},
   "outputs": [],
   "source": [
    "features_list = ['Apron.apronelement','Runway.runwayelement','Runway.runwaymarking']"
   ]
  },
  {
   "cell_type": "code",
   "execution_count": 47,
   "metadata": {},
   "outputs": [
    {
     "name": "stdout",
     "output_type": "stream",
     "text": [
      "VHHH_ortho.tif\n",
      "image saved\n",
      "LFMP_ortho.tif\n",
      "image saved\n",
      "VIDN_ortho.tif\n",
      "LIRP_ortho.tif\n",
      "DNMM_ortho.tif\n",
      "image saved\n"
     ]
    }
   ],
   "source": [
    "import os\n",
    "\n",
    "directory = os.fsencode(\"/Users/salimbaddou/PIE/Airport_Feature_Auto_Detection/GeoTIFF\")\n",
    "\n",
    "for file in os.listdir(directory):\n",
    "    \n",
    "    filename = os.fsdecode(file)\n",
    "    if filename.endswith(\".tif\"):\n",
    "        print(filename)\n",
    "        with rasterio.open(\"/Users/salimbaddou/PIE/Airport_Feature_Auto_Detection/GeoTIFF/{}\".format(filename)) as src:\n",
    "            img = src.read()\n",
    "            meta = src.meta\n",
    "        \n",
    "            filepath = '/Users/salimbaddou/PIE/Airport_Feature_Auto_Detection/GeoJSON/product_ADBLucem_{}.json'.format(filename.split('_')[0])\n",
    "        try:   \n",
    "            df = polygon_df(filepath)\n",
    "            whole_mask = create_mask(features_list,src,df)\n",
    "            a = whole_mask\n",
    "            \n",
    "            matplotlib.image.imsave('mask_{}.jpg'.format(filename.split('_')[0]), whole_mask)\n",
    "            print(\"image saved\")\n",
    "            \n",
    "        except:\n",
    "            pass\n",
    "    \n"
   ]
  },
  {
   "cell_type": "code",
   "execution_count": null,
   "metadata": {},
   "outputs": [],
   "source": []
  },
  {
   "cell_type": "code",
   "execution_count": 36,
   "metadata": {},
   "outputs": [
    {
     "name": "stderr",
     "output_type": "stream",
     "text": [
      "/Users/salimbaddou/anaconda3/lib/python3.7/site-packages/rasterio/__init__.py:219: NotGeoreferencedWarning: Dataset has no geotransform set. The identity matrix may be returned.\n",
      "  s = DatasetReader(path, driver=driver, sharing=sharing, **kwargs)\n"
     ]
    }
   ],
   "source": [
    "img = rasterio.open('/Users/salimbaddou/PIE/pie-repo/mask_LFMP.jpg')\n",
    "\n",
    "                   "
   ]
  },
  {
   "cell_type": "code",
   "execution_count": null,
   "metadata": {},
   "outputs": [],
   "source": []
  },
  {
   "cell_type": "code",
   "execution_count": null,
   "metadata": {},
   "outputs": [],
   "source": []
  }
 ],
 "metadata": {
  "kernelspec": {
   "display_name": "Python 3",
   "language": "python",
   "name": "python3"
  },
  "language_info": {
   "codemirror_mode": {
    "name": "ipython",
    "version": 3
   },
   "file_extension": ".py",
   "mimetype": "text/x-python",
   "name": "python",
   "nbconvert_exporter": "python",
   "pygments_lexer": "ipython3",
   "version": "3.7.3"
  }
 },
 "nbformat": 4,
 "nbformat_minor": 2
}
